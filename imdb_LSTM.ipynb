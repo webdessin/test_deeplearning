{
  "nbformat": 4,
  "nbformat_minor": 0,
  "metadata": {
    "colab": {
      "name": "imdb_LSTM.ipynb",
      "provenance": [],
      "collapsed_sections": [],
      "authorship_tag": "ABX9TyNW0uOFrwFE0Sl3KWhoDUuD"
    },
    "kernelspec": {
      "name": "python3",
      "display_name": "Python 3"
    },
    "language_info": {
      "name": "python"
    }
  },
  "cells": [
    {
      "cell_type": "code",
      "metadata": {
        "id": "QcS8IN-Rypbg"
      },
      "source": [
        "import tensorflow as tf"
      ],
      "execution_count": 1,
      "outputs": []
    },
    {
      "cell_type": "code",
      "metadata": {
        "colab": {
          "base_uri": "https://localhost:8080/"
        },
        "id": "zjoZ7Q-FzOk3",
        "outputId": "fd09df6c-e7d9-41ab-a093-3ed0d26a7eb0"
      },
      "source": [
        "(x_train, y_train), (x_test, y_test) = tf.keras.datasets.imdb.load_data(num_words=10000)\n",
        "x_train.shape, y_train.shape, x_test.shape, y_test.shape"
      ],
      "execution_count": 2,
      "outputs": [
        {
          "output_type": "stream",
          "text": [
            "Downloading data from https://storage.googleapis.com/tensorflow/tf-keras-datasets/imdb.npz\n",
            "17465344/17464789 [==============================] - 0s 0us/step\n"
          ],
          "name": "stdout"
        },
        {
          "output_type": "stream",
          "text": [
            "<string>:6: VisibleDeprecationWarning: Creating an ndarray from ragged nested sequences (which is a list-or-tuple of lists-or-tuples-or ndarrays with different lengths or shapes) is deprecated. If you meant to do this, you must specify 'dtype=object' when creating the ndarray\n",
            "/usr/local/lib/python3.7/dist-packages/tensorflow/python/keras/datasets/imdb.py:155: VisibleDeprecationWarning: Creating an ndarray from ragged nested sequences (which is a list-or-tuple of lists-or-tuples-or ndarrays with different lengths or shapes) is deprecated. If you meant to do this, you must specify 'dtype=object' when creating the ndarray\n",
            "  x_train, y_train = np.array(xs[:idx]), np.array(labels[:idx])\n",
            "/usr/local/lib/python3.7/dist-packages/tensorflow/python/keras/datasets/imdb.py:156: VisibleDeprecationWarning: Creating an ndarray from ragged nested sequences (which is a list-or-tuple of lists-or-tuples-or ndarrays with different lengths or shapes) is deprecated. If you meant to do this, you must specify 'dtype=object' when creating the ndarray\n",
            "  x_test, y_test = np.array(xs[idx:]), np.array(labels[idx:])\n"
          ],
          "name": "stderr"
        },
        {
          "output_type": "execute_result",
          "data": {
            "text/plain": [
              "((25000,), (25000,), (25000,), (25000,))"
            ]
          },
          "metadata": {
            "tags": []
          },
          "execution_count": 2
        }
      ]
    },
    {
      "cell_type": "code",
      "metadata": {
        "colab": {
          "base_uri": "https://localhost:8080/"
        },
        "id": "4_42WrEuzykY",
        "outputId": "1c31146e-9403-4a77-baab-33bb77667f55"
      },
      "source": [
        "print(y_train[50], x_train[50])"
      ],
      "execution_count": 3,
      "outputs": [
        {
          "output_type": "stream",
          "text": [
            "0 [1, 13, 165, 219, 14, 20, 33, 6, 750, 17, 515, 17, 13, 2675, 4, 2, 61, 278, 59, 301, 107, 715, 13, 69, 115, 557, 33, 6, 750, 159, 42, 237, 57, 2, 17, 515, 17, 13, 557, 148, 715, 13, 144, 28, 43, 2, 5458, 5458, 8, 61, 2208, 5, 825, 344, 21, 57, 2, 13, 435, 11, 5, 296, 4, 20, 14, 20, 161, 97, 259, 11, 4, 750, 462, 24, 60, 280, 24, 60, 2, 669, 75, 1829, 50, 11, 5023, 3542, 175, 747, 234, 42, 38, 294, 62, 7799, 14, 20, 1870, 4, 311, 62, 6144, 2, 95, 870, 50, 11, 5023, 1100, 3542, 18, 160, 747, 234]\n"
          ],
          "name": "stdout"
        }
      ]
    },
    {
      "cell_type": "code",
      "metadata": {
        "colab": {
          "base_uri": "https://localhost:8080/"
        },
        "id": "RLErEO3M159d",
        "outputId": "2942ace0-b2f5-4903-e548-bcac1d0524f2"
      },
      "source": [
        "len(x_train[50]), len(x_train[400]), len(x_train[200])"
      ],
      "execution_count": 4,
      "outputs": [
        {
          "output_type": "execute_result",
          "data": {
            "text/plain": [
              "(113, 486, 160)"
            ]
          },
          "metadata": {
            "tags": []
          },
          "execution_count": 4
        }
      ]
    },
    {
      "cell_type": "code",
      "metadata": {
        "colab": {
          "base_uri": "https://localhost:8080/"
        },
        "id": "I8iLMPl0x2uZ",
        "outputId": "e879a2aa-2b87-4b6b-d16b-05b6b73d2288"
      },
      "source": [
        "pad_x_train = tf.keras.preprocessing.sequence.pad_sequences(x_train, maxlen=500)\n",
        "len(pad_x_train[50])"
      ],
      "execution_count": 5,
      "outputs": [
        {
          "output_type": "execute_result",
          "data": {
            "text/plain": [
              "500"
            ]
          },
          "metadata": {
            "tags": []
          },
          "execution_count": 5
        }
      ]
    },
    {
      "cell_type": "code",
      "metadata": {
        "id": "xSoIMP4_2rdc"
      },
      "source": [
        "import numpy as np"
      ],
      "execution_count": 6,
      "outputs": []
    },
    {
      "cell_type": "code",
      "metadata": {
        "colab": {
          "base_uri": "https://localhost:8080/"
        },
        "id": "CNDs52Bl24oo",
        "outputId": "c9abd71d-46bb-460a-afed-13a91695a7f6"
      },
      "source": [
        "np.unique(y_train).shape, np.unique(y_train)"
      ],
      "execution_count": 7,
      "outputs": [
        {
          "output_type": "execute_result",
          "data": {
            "text/plain": [
              "((2,), array([0, 1]))"
            ]
          },
          "metadata": {
            "tags": []
          },
          "execution_count": 7
        }
      ]
    },
    {
      "cell_type": "code",
      "metadata": {
        "id": "QPhiCLiXyQ53"
      },
      "source": [
        "model = tf.keras.models.Sequential()"
      ],
      "execution_count": 8,
      "outputs": []
    },
    {
      "cell_type": "code",
      "metadata": {
        "id": "6tP4fq9EyQ2V"
      },
      "source": [
        "model.add(tf.keras.layers.Embedding(input_dim = 10000, output_dim = 24, input_length = 500)) # input layer\n",
        "model.add(tf.keras.layers.LSTM(24, return_sequences=True, activation='tanh'))\n",
        "model.add(tf.keras.layers.LSTM(12, activation='tanh'))\n",
        "# model.add(tf.keras.layers.Flatten())       # hidden layer\n",
        "model.add(tf.keras.layers.Dense(46, activation='softmax'))       # output layer\n",
        "\n",
        "model.compile(optimizer = 'adam', loss = 'sparse_categorical_crossentropy', metrics = ['acc']) # gadget"
      ],
      "execution_count": 9,
      "outputs": []
    },
    {
      "cell_type": "code",
      "metadata": {
        "colab": {
          "base_uri": "https://localhost:8080/"
        },
        "id": "7jL1CU6VyQy-",
        "outputId": "a8c1983e-56bf-426b-ee25-1c7305966ffd"
      },
      "source": [
        "# hist = model.fit(pad_x_train, y_train, epochs=5, validation_split=0.3, batch_size=128)\n",
        "hist = model.fit(pad_x_train, y_train, epochs=100, validation_split=0.3, batch_size=256)"
      ],
      "execution_count": 10,
      "outputs": [
        {
          "output_type": "stream",
          "text": [
            "Epoch 1/100\n",
            "69/69 [==============================] - 48s 649ms/step - loss: 2.7195 - acc: 0.4934 - val_loss: 1.5039 - val_acc: 0.4933\n",
            "Epoch 2/100\n",
            "69/69 [==============================] - 44s 633ms/step - loss: 1.1169 - acc: 0.5029 - val_loss: 0.9121 - val_acc: 0.4933\n",
            "Epoch 3/100\n",
            "69/69 [==============================] - 44s 633ms/step - loss: 0.8418 - acc: 0.5029 - val_loss: 0.7963 - val_acc: 0.4933\n",
            "Epoch 4/100\n",
            "69/69 [==============================] - 44s 636ms/step - loss: 0.7732 - acc: 0.5029 - val_loss: 0.7561 - val_acc: 0.4933\n",
            "Epoch 5/100\n",
            "69/69 [==============================] - 44s 634ms/step - loss: 0.7452 - acc: 0.5029 - val_loss: 0.7366 - val_acc: 0.4933\n",
            "Epoch 6/100\n",
            "69/69 [==============================] - 44s 635ms/step - loss: 0.7304 - acc: 0.5002 - val_loss: 0.7260 - val_acc: 0.4933\n",
            "Epoch 7/100\n",
            "69/69 [==============================] - 44s 637ms/step - loss: 0.7215 - acc: 0.5029 - val_loss: 0.7182 - val_acc: 0.4933\n",
            "Epoch 8/100\n",
            "69/69 [==============================] - 44s 636ms/step - loss: 0.7157 - acc: 0.4997 - val_loss: 0.7134 - val_acc: 0.4933\n",
            "Epoch 9/100\n",
            "69/69 [==============================] - 44s 635ms/step - loss: 0.7115 - acc: 0.5029 - val_loss: 0.7100 - val_acc: 0.4933\n",
            "Epoch 10/100\n",
            "69/69 [==============================] - 44s 637ms/step - loss: 0.7085 - acc: 0.5005 - val_loss: 0.7078 - val_acc: 0.4933\n",
            "Epoch 11/100\n",
            "69/69 [==============================] - 44s 635ms/step - loss: 0.7061 - acc: 0.5073 - val_loss: 0.7052 - val_acc: 0.5067\n",
            "Epoch 12/100\n",
            "69/69 [==============================] - 44s 635ms/step - loss: 0.7045 - acc: 0.5001 - val_loss: 0.7038 - val_acc: 0.4933\n",
            "Epoch 13/100\n",
            "69/69 [==============================] - 44s 637ms/step - loss: 0.7030 - acc: 0.5043 - val_loss: 0.7023 - val_acc: 0.5067\n",
            "Epoch 14/100\n",
            "69/69 [==============================] - 44s 635ms/step - loss: 0.7019 - acc: 0.4972 - val_loss: 0.7016 - val_acc: 0.4933\n",
            "Epoch 15/100\n",
            "69/69 [==============================] - 44s 638ms/step - loss: 0.7009 - acc: 0.5029 - val_loss: 0.7006 - val_acc: 0.4933\n",
            "Epoch 16/100\n",
            "69/69 [==============================] - 44s 636ms/step - loss: 0.7002 - acc: 0.4918 - val_loss: 0.6997 - val_acc: 0.4933\n",
            "Epoch 17/100\n",
            "69/69 [==============================] - 44s 635ms/step - loss: 0.6995 - acc: 0.5002 - val_loss: 0.6992 - val_acc: 0.4933\n",
            "Epoch 18/100\n",
            "69/69 [==============================] - 44s 635ms/step - loss: 0.6990 - acc: 0.5016 - val_loss: 0.6993 - val_acc: 0.4933\n",
            "Epoch 19/100\n",
            "69/69 [==============================] - 44s 638ms/step - loss: 0.6985 - acc: 0.5003 - val_loss: 0.6982 - val_acc: 0.4933\n",
            "Epoch 20/100\n",
            "69/69 [==============================] - 44s 636ms/step - loss: 0.6979 - acc: 0.5029 - val_loss: 0.6984 - val_acc: 0.4933\n",
            "Epoch 21/100\n",
            "69/69 [==============================] - 44s 635ms/step - loss: 0.6976 - acc: 0.5008 - val_loss: 0.6975 - val_acc: 0.4933\n",
            "Epoch 22/100\n",
            "69/69 [==============================] - 44s 639ms/step - loss: 0.6972 - acc: 0.4977 - val_loss: 0.6975 - val_acc: 0.4933\n",
            "Epoch 23/100\n",
            "69/69 [==============================] - 44s 635ms/step - loss: 0.6969 - acc: 0.5025 - val_loss: 0.6966 - val_acc: 0.5067\n",
            "Epoch 24/100\n",
            "69/69 [==============================] - 44s 637ms/step - loss: 0.6968 - acc: 0.4969 - val_loss: 0.6966 - val_acc: 0.4933\n",
            "Epoch 25/100\n",
            "69/69 [==============================] - 44s 638ms/step - loss: 0.6964 - acc: 0.5025 - val_loss: 0.6964 - val_acc: 0.4933\n",
            "Epoch 26/100\n",
            "69/69 [==============================] - 44s 637ms/step - loss: 0.6963 - acc: 0.4982 - val_loss: 0.6960 - val_acc: 0.5067\n",
            "Epoch 27/100\n",
            "69/69 [==============================] - 44s 638ms/step - loss: 0.6962 - acc: 0.5008 - val_loss: 0.6958 - val_acc: 0.5067\n",
            "Epoch 28/100\n",
            "69/69 [==============================] - 44s 636ms/step - loss: 0.6960 - acc: 0.5014 - val_loss: 0.6957 - val_acc: 0.5067\n",
            "Epoch 29/100\n",
            "69/69 [==============================] - 44s 636ms/step - loss: 0.6957 - acc: 0.4978 - val_loss: 0.6956 - val_acc: 0.4933\n",
            "Epoch 30/100\n",
            "69/69 [==============================] - 44s 637ms/step - loss: 0.6955 - acc: 0.5002 - val_loss: 0.6957 - val_acc: 0.4933\n",
            "Epoch 31/100\n",
            "69/69 [==============================] - 44s 636ms/step - loss: 0.6955 - acc: 0.5050 - val_loss: 0.6958 - val_acc: 0.4933\n",
            "Epoch 32/100\n",
            "69/69 [==============================] - 44s 641ms/step - loss: 0.6954 - acc: 0.4969 - val_loss: 0.6954 - val_acc: 0.4933\n",
            "Epoch 33/100\n",
            "69/69 [==============================] - 44s 636ms/step - loss: 0.6953 - acc: 0.4981 - val_loss: 0.6950 - val_acc: 0.5067\n",
            "Epoch 34/100\n",
            "69/69 [==============================] - 44s 638ms/step - loss: 0.6953 - acc: 0.4949 - val_loss: 0.6949 - val_acc: 0.5067\n",
            "Epoch 35/100\n",
            "69/69 [==============================] - 44s 636ms/step - loss: 0.6951 - acc: 0.4975 - val_loss: 0.6948 - val_acc: 0.5067\n",
            "Epoch 36/100\n",
            "69/69 [==============================] - 43s 631ms/step - loss: 0.6950 - acc: 0.5033 - val_loss: 0.6949 - val_acc: 0.4933\n",
            "Epoch 37/100\n",
            "69/69 [==============================] - 44s 634ms/step - loss: 0.6949 - acc: 0.4995 - val_loss: 0.6947 - val_acc: 0.5067\n",
            "Epoch 38/100\n",
            "69/69 [==============================] - 44s 634ms/step - loss: 0.6947 - acc: 0.4986 - val_loss: 0.6946 - val_acc: 0.4933\n",
            "Epoch 39/100\n",
            "69/69 [==============================] - 43s 631ms/step - loss: 0.6947 - acc: 0.4982 - val_loss: 0.6945 - val_acc: 0.5067\n",
            "Epoch 40/100\n",
            "69/69 [==============================] - 44s 634ms/step - loss: 0.6946 - acc: 0.5039 - val_loss: 0.6944 - val_acc: 0.5067\n",
            "Epoch 41/100\n",
            "69/69 [==============================] - 44s 635ms/step - loss: 0.6946 - acc: 0.4960 - val_loss: 0.6947 - val_acc: 0.4933\n",
            "Epoch 42/100\n",
            "69/69 [==============================] - 44s 633ms/step - loss: 0.6947 - acc: 0.4987 - val_loss: 0.6947 - val_acc: 0.4933\n",
            "Epoch 43/100\n",
            "69/69 [==============================] - 44s 634ms/step - loss: 0.6944 - acc: 0.4971 - val_loss: 0.6946 - val_acc: 0.4933\n",
            "Epoch 44/100\n",
            "69/69 [==============================] - 44s 633ms/step - loss: 0.6944 - acc: 0.5019 - val_loss: 0.6949 - val_acc: 0.4933\n",
            "Epoch 45/100\n",
            "69/69 [==============================] - 44s 632ms/step - loss: 0.6946 - acc: 0.4982 - val_loss: 0.6943 - val_acc: 0.4933\n",
            "Epoch 46/100\n",
            "69/69 [==============================] - 43s 631ms/step - loss: 0.6944 - acc: 0.4969 - val_loss: 0.6941 - val_acc: 0.5067\n",
            "Epoch 47/100\n",
            "69/69 [==============================] - 44s 633ms/step - loss: 0.6943 - acc: 0.4986 - val_loss: 0.6943 - val_acc: 0.4933\n",
            "Epoch 48/100\n",
            "69/69 [==============================] - 44s 631ms/step - loss: 0.6943 - acc: 0.5053 - val_loss: 0.6946 - val_acc: 0.5067\n",
            "Epoch 49/100\n",
            "69/69 [==============================] - 44s 633ms/step - loss: 0.6943 - acc: 0.4944 - val_loss: 0.6944 - val_acc: 0.4933\n",
            "Epoch 50/100\n",
            "69/69 [==============================] - 44s 633ms/step - loss: 0.6942 - acc: 0.5009 - val_loss: 0.6940 - val_acc: 0.5067\n",
            "Epoch 51/100\n",
            "69/69 [==============================] - 44s 634ms/step - loss: 0.6942 - acc: 0.4982 - val_loss: 0.6940 - val_acc: 0.5067\n",
            "Epoch 52/100\n",
            "69/69 [==============================] - 44s 632ms/step - loss: 0.6942 - acc: 0.4941 - val_loss: 0.6940 - val_acc: 0.4933\n",
            "Epoch 53/100\n",
            "69/69 [==============================] - 43s 631ms/step - loss: 0.6941 - acc: 0.4960 - val_loss: 0.6942 - val_acc: 0.4933\n",
            "Epoch 54/100\n",
            "69/69 [==============================] - 44s 632ms/step - loss: 0.6940 - acc: 0.4979 - val_loss: 0.6942 - val_acc: 0.4933\n",
            "Epoch 55/100\n",
            "69/69 [==============================] - 44s 634ms/step - loss: 0.6944 - acc: 0.4951 - val_loss: 0.6939 - val_acc: 0.4933\n",
            "Epoch 56/100\n",
            "69/69 [==============================] - 44s 639ms/step - loss: 0.6939 - acc: 0.5019 - val_loss: 0.6941 - val_acc: 0.4933\n",
            "Epoch 57/100\n",
            "69/69 [==============================] - 44s 636ms/step - loss: 0.6939 - acc: 0.5024 - val_loss: 0.6941 - val_acc: 0.4933\n",
            "Epoch 58/100\n",
            "69/69 [==============================] - 44s 633ms/step - loss: 0.6939 - acc: 0.4967 - val_loss: 0.6950 - val_acc: 0.4933\n",
            "Epoch 59/100\n",
            "69/69 [==============================] - 44s 638ms/step - loss: 0.6939 - acc: 0.5033 - val_loss: 0.6938 - val_acc: 0.4933\n",
            "Epoch 60/100\n",
            "69/69 [==============================] - 44s 638ms/step - loss: 0.6938 - acc: 0.5082 - val_loss: 0.6943 - val_acc: 0.4933\n",
            "Epoch 61/100\n",
            "69/69 [==============================] - 44s 635ms/step - loss: 0.6938 - acc: 0.5025 - val_loss: 0.6937 - val_acc: 0.5067\n",
            "Epoch 62/100\n",
            "69/69 [==============================] - 44s 634ms/step - loss: 0.6940 - acc: 0.5013 - val_loss: 0.6937 - val_acc: 0.5067\n",
            "Epoch 63/100\n",
            "69/69 [==============================] - 44s 633ms/step - loss: 0.6941 - acc: 0.4950 - val_loss: 0.6938 - val_acc: 0.4933\n",
            "Epoch 64/100\n",
            "69/69 [==============================] - 44s 637ms/step - loss: 0.6938 - acc: 0.5021 - val_loss: 0.6940 - val_acc: 0.4933\n",
            "Epoch 65/100\n",
            "69/69 [==============================] - 44s 639ms/step - loss: 0.6939 - acc: 0.4957 - val_loss: 0.6938 - val_acc: 0.4933\n",
            "Epoch 66/100\n",
            "69/69 [==============================] - 44s 635ms/step - loss: 0.6939 - acc: 0.5018 - val_loss: 0.6936 - val_acc: 0.5067\n",
            "Epoch 67/100\n",
            "69/69 [==============================] - 44s 632ms/step - loss: 0.6940 - acc: 0.4893 - val_loss: 0.6948 - val_acc: 0.4933\n",
            "Epoch 68/100\n",
            "69/69 [==============================] - 44s 632ms/step - loss: 0.6939 - acc: 0.4910 - val_loss: 0.6938 - val_acc: 0.4933\n",
            "Epoch 69/100\n",
            "69/69 [==============================] - 44s 633ms/step - loss: 0.6939 - acc: 0.4989 - val_loss: 0.6935 - val_acc: 0.5067\n",
            "Epoch 70/100\n",
            "69/69 [==============================] - 44s 633ms/step - loss: 0.6937 - acc: 0.5011 - val_loss: 0.6935 - val_acc: 0.5067\n",
            "Epoch 71/100\n",
            "69/69 [==============================] - 44s 633ms/step - loss: 0.6937 - acc: 0.4969 - val_loss: 0.6935 - val_acc: 0.5067\n",
            "Epoch 72/100\n",
            "69/69 [==============================] - 44s 635ms/step - loss: 0.6939 - acc: 0.4976 - val_loss: 0.6936 - val_acc: 0.4933\n",
            "Epoch 73/100\n",
            "69/69 [==============================] - 44s 632ms/step - loss: 0.6937 - acc: 0.5034 - val_loss: 0.6942 - val_acc: 0.4933\n",
            "Epoch 74/100\n",
            "69/69 [==============================] - 44s 632ms/step - loss: 0.6940 - acc: 0.5008 - val_loss: 0.6936 - val_acc: 0.4933\n",
            "Epoch 75/100\n",
            "69/69 [==============================] - 44s 631ms/step - loss: 0.6938 - acc: 0.4971 - val_loss: 0.6951 - val_acc: 0.4933\n",
            "Epoch 76/100\n",
            "69/69 [==============================] - 44s 632ms/step - loss: 0.6937 - acc: 0.4959 - val_loss: 0.6934 - val_acc: 0.5067\n",
            "Epoch 77/100\n",
            "69/69 [==============================] - 44s 637ms/step - loss: 0.6937 - acc: 0.4992 - val_loss: 0.6944 - val_acc: 0.4933\n",
            "Epoch 78/100\n",
            "69/69 [==============================] - 44s 635ms/step - loss: 0.6937 - acc: 0.5056 - val_loss: 0.6934 - val_acc: 0.5067\n",
            "Epoch 79/100\n",
            "69/69 [==============================] - 44s 635ms/step - loss: 0.6936 - acc: 0.4977 - val_loss: 0.6943 - val_acc: 0.4933\n",
            "Epoch 80/100\n",
            "69/69 [==============================] - 44s 632ms/step - loss: 0.6936 - acc: 0.4966 - val_loss: 0.6934 - val_acc: 0.5067\n",
            "Epoch 81/100\n",
            "69/69 [==============================] - 44s 635ms/step - loss: 0.6935 - acc: 0.5091 - val_loss: 0.6942 - val_acc: 0.4933\n",
            "Epoch 82/100\n",
            "69/69 [==============================] - 44s 633ms/step - loss: 0.6940 - acc: 0.4947 - val_loss: 0.6937 - val_acc: 0.4933\n",
            "Epoch 83/100\n",
            "69/69 [==============================] - 44s 633ms/step - loss: 0.6937 - acc: 0.4993 - val_loss: 0.6933 - val_acc: 0.5067\n",
            "Epoch 84/100\n",
            "69/69 [==============================] - 44s 635ms/step - loss: 0.6937 - acc: 0.4969 - val_loss: 0.6937 - val_acc: 0.4933\n",
            "Epoch 85/100\n",
            "69/69 [==============================] - 43s 631ms/step - loss: 0.6935 - acc: 0.5014 - val_loss: 0.6934 - val_acc: 0.4933\n",
            "Epoch 86/100\n",
            "69/69 [==============================] - 44s 633ms/step - loss: 0.6935 - acc: 0.5066 - val_loss: 0.6933 - val_acc: 0.5067\n",
            "Epoch 87/100\n",
            "69/69 [==============================] - 44s 632ms/step - loss: 0.6936 - acc: 0.5010 - val_loss: 0.6944 - val_acc: 0.4933\n",
            "Epoch 88/100\n",
            "69/69 [==============================] - 44s 633ms/step - loss: 0.6939 - acc: 0.4977 - val_loss: 0.6933 - val_acc: 0.5067\n",
            "Epoch 89/100\n",
            "69/69 [==============================] - 44s 636ms/step - loss: 0.6936 - acc: 0.5024 - val_loss: 0.6933 - val_acc: 0.5067\n",
            "Epoch 90/100\n",
            "69/69 [==============================] - 44s 633ms/step - loss: 0.6934 - acc: 0.5003 - val_loss: 0.6933 - val_acc: 0.4933\n",
            "Epoch 91/100\n",
            "69/69 [==============================] - 44s 634ms/step - loss: 0.6924 - acc: 0.5136 - val_loss: 0.6901 - val_acc: 0.5825\n",
            "Epoch 92/100\n",
            "69/69 [==============================] - 44s 634ms/step - loss: 0.6530 - acc: 0.6678 - val_loss: 0.5525 - val_acc: 0.7732\n",
            "Epoch 93/100\n",
            "69/69 [==============================] - 44s 633ms/step - loss: 0.4732 - acc: 0.8164 - val_loss: 0.4503 - val_acc: 0.8217\n",
            "Epoch 94/100\n",
            "69/69 [==============================] - 44s 633ms/step - loss: 0.3317 - acc: 0.8815 - val_loss: 0.3639 - val_acc: 0.8543\n",
            "Epoch 95/100\n",
            "69/69 [==============================] - 43s 631ms/step - loss: 0.2548 - acc: 0.9119 - val_loss: 0.3467 - val_acc: 0.8581\n",
            "Epoch 96/100\n",
            "69/69 [==============================] - 43s 631ms/step - loss: 0.2104 - acc: 0.9287 - val_loss: 0.3253 - val_acc: 0.8659\n",
            "Epoch 97/100\n",
            "69/69 [==============================] - 44s 636ms/step - loss: 0.1666 - acc: 0.9483 - val_loss: 0.3342 - val_acc: 0.8688\n",
            "Epoch 98/100\n",
            "69/69 [==============================] - 44s 634ms/step - loss: 0.1365 - acc: 0.9599 - val_loss: 0.3487 - val_acc: 0.8721\n",
            "Epoch 99/100\n",
            "69/69 [==============================] - 44s 635ms/step - loss: 0.1135 - acc: 0.9694 - val_loss: 0.3691 - val_acc: 0.8728\n",
            "Epoch 100/100\n",
            "69/69 [==============================] - 44s 635ms/step - loss: 0.0985 - acc: 0.9749 - val_loss: 0.3949 - val_acc: 0.8680\n"
          ],
          "name": "stdout"
        }
      ]
    },
    {
      "cell_type": "code",
      "metadata": {
        "colab": {
          "base_uri": "https://localhost:8080/"
        },
        "id": "FXJWDHoyyQvI",
        "outputId": "0b4782cb-dbe3-4687-9ce1-19ecc58fd159"
      },
      "source": [
        "model.evaluate(pad_x_train, y_train)"
      ],
      "execution_count": 11,
      "outputs": [
        {
          "output_type": "stream",
          "text": [
            "782/782 [==============================] - 42s 54ms/step - loss: 0.1753 - acc: 0.9479\n"
          ],
          "name": "stdout"
        },
        {
          "output_type": "execute_result",
          "data": {
            "text/plain": [
              "[0.1753404289484024, 0.947920024394989]"
            ]
          },
          "metadata": {
            "tags": []
          },
          "execution_count": 11
        }
      ]
    },
    {
      "cell_type": "code",
      "metadata": {
        "id": "T8xC87AzyQsZ"
      },
      "source": [
        "def pad_make(x_data):\n",
        "  pad_x = tf.keras.preprocessing.sequence.pad_sequences(x_data, maxlen=500)\n",
        "  return pad_x"
      ],
      "execution_count": 12,
      "outputs": []
    },
    {
      "cell_type": "code",
      "metadata": {
        "id": "flBWVWW6yQp9"
      },
      "source": [
        "pad_make_x = pad_make(x_test)"
      ],
      "execution_count": 13,
      "outputs": []
    },
    {
      "cell_type": "code",
      "metadata": {
        "colab": {
          "base_uri": "https://localhost:8080/"
        },
        "id": "h78YVcALyQmk",
        "outputId": "ad458509-38d7-481f-ea1a-dd0fe6103c67"
      },
      "source": [
        "model.evaluate(pad_make_x, y_test)"
      ],
      "execution_count": 14,
      "outputs": [
        {
          "output_type": "stream",
          "text": [
            "782/782 [==============================] - 42s 54ms/step - loss: 0.4224 - acc: 0.8637\n"
          ],
          "name": "stdout"
        },
        {
          "output_type": "execute_result",
          "data": {
            "text/plain": [
              "[0.42238956689834595, 0.8637199997901917]"
            ]
          },
          "metadata": {
            "tags": []
          },
          "execution_count": 14
        }
      ]
    },
    {
      "cell_type": "code",
      "metadata": {
        "id": "H4TjtpfUyQjl"
      },
      "source": [
        "import matplotlib.pyplot as plt"
      ],
      "execution_count": 15,
      "outputs": []
    },
    {
      "cell_type": "code",
      "metadata": {
        "colab": {
          "base_uri": "https://localhost:8080/",
          "height": 265
        },
        "id": "hqaBwOA6yQd7",
        "outputId": "bcfe0b96-535a-4048-b2ac-ee3cdb799f84"
      },
      "source": [
        "plt.plot(hist.history['loss'])\n",
        "plt.plot(hist.history['val_loss'], 'r-')\n",
        "plt.show()"
      ],
      "execution_count": 16,
      "outputs": [
        {
          "output_type": "display_data",
          "data": {
            "image/png": "[encoded data removed]",
            "text/plain": [
              "<Figure size 432x288 with 1 Axes>"
            ]
          },
          "metadata": {
            "tags": [],
            "needs_background": "light"
          }
        }
      ]
    },
    {
      "cell_type": "code",
      "metadata": {
        "colab": {
          "base_uri": "https://localhost:8080/",
          "height": 265
        },
        "id": "Er3lpaf1yQad",
        "outputId": "612195fd-d727-471e-9215-868c6431dcc5"
      },
      "source": [
        "plt.plot(hist.history['acc'])\n",
        "plt.plot(hist.history['val_acc'], 'r-')\n",
        "plt.show()"
      ],
      "execution_count": 17,
      "outputs": [
        {
          "output_type": "display_data",
          "data": {
            "image/png": "[encoded data removed]",
            "text/plain": [
              "<Figure size 432x288 with 1 Axes>"
            ]
          },
          "metadata": {
            "tags": [],
            "needs_background": "light"
          }
        }
      ]
    },
    {
      "cell_type": "code",
      "metadata": {
        "id": "ZjefuS7_yQXZ"
      },
      "source": [
        "from sklearn.metrics import classification_report"
      ],
      "execution_count": 23,
      "outputs": []
    },
    {
      "cell_type": "code",
      "metadata": {
        "colab": {
          "base_uri": "https://localhost:8080/"
        },
        "id": "IZebZEkNyQUT",
        "outputId": "b6903704-dc43-4423-a5a1-4bdcb2dade45"
      },
      "source": [
        "y_train_pred = model.predict(pad_x_train)\n",
        "y_train_pred[0]"
      ],
      "execution_count": 18,
      "outputs": [
        {
          "output_type": "execute_result",
          "data": {
            "text/plain": [
              "array([1.71657894e-02, 9.82825339e-01, 1.31627772e-07, 2.49782289e-07,\n",
              "       4.46532738e-07, 4.67062108e-07, 2.22126204e-07, 7.32262606e-08,\n",
              "       1.47076278e-07, 1.52497933e-07, 1.12172216e-07, 3.49770346e-07,\n",
              "       1.78245301e-07, 1.76388227e-07, 5.71223993e-08, 5.32632285e-08,\n",
              "       9.57426991e-08, 1.78699750e-07, 1.94565132e-07, 6.63555056e-07,\n",
              "       2.61031687e-07, 1.63520284e-07, 1.22285130e-07, 2.64360665e-07,\n",
              "       2.24252560e-07, 3.82416403e-07, 2.98080806e-07, 1.60133936e-07,\n",
              "       1.55094085e-07, 2.59510642e-07, 1.59506428e-07, 1.13017073e-07,\n",
              "       1.36280690e-07, 3.26752968e-07, 3.37103387e-07, 1.85629858e-07,\n",
              "       9.94653604e-08, 6.80146144e-08, 1.38548288e-07, 3.88156991e-08,\n",
              "       7.01285430e-08, 1.39273197e-07, 1.28676504e-07, 1.46809469e-07,\n",
              "       2.11623075e-07, 2.36002904e-07], dtype=float32)"
            ]
          },
          "metadata": {
            "tags": []
          },
          "execution_count": 18
        }
      ]
    },
    {
      "cell_type": "code",
      "metadata": {
        "id": "F_O5RJvHyQRM"
      },
      "source": [
        "import numpy as np"
      ],
      "execution_count": 19,
      "outputs": []
    },
    {
      "cell_type": "code",
      "metadata": {
        "colab": {
          "base_uri": "https://localhost:8080/"
        },
        "id": "i1ZBUGgsyQL9",
        "outputId": "3b9424ab-8f71-4bd7-eedf-d4271558853d"
      },
      "source": [
        "y_pred = np.argmax(y_train_pred, axis=1)\n",
        "y_pred.shape"
      ],
      "execution_count": 20,
      "outputs": [
        {
          "output_type": "execute_result",
          "data": {
            "text/plain": [
              "(25000,)"
            ]
          },
          "metadata": {
            "tags": []
          },
          "execution_count": 20
        }
      ]
    },
    {
      "cell_type": "code",
      "metadata": {
        "colab": {
          "base_uri": "https://localhost:8080/"
        },
        "id": "mUasSr_NyQJF",
        "outputId": "1d560f73-2722-4cf1-ece9-88710e36df62"
      },
      "source": [
        "len(y_train)"
      ],
      "execution_count": 21,
      "outputs": [
        {
          "output_type": "execute_result",
          "data": {
            "text/plain": [
              "25000"
            ]
          },
          "metadata": {
            "tags": []
          },
          "execution_count": 21
        }
      ]
    },
    {
      "cell_type": "code",
      "metadata": {
        "colab": {
          "base_uri": "https://localhost:8080/"
        },
        "id": "Ghsw1l1nyQGE",
        "outputId": "7d4ec709-e7d1-4a89-c7b6-1c5d9aefe08c"
      },
      "source": [
        "print(classification_report(y_train, y_pred))"
      ],
      "execution_count": 24,
      "outputs": [
        {
          "output_type": "stream",
          "text": [
            "              precision    recall  f1-score   support\n",
            "\n",
            "           0       0.95      0.95      0.95     12500\n",
            "           1       0.95      0.95      0.95     12500\n",
            "\n",
            "    accuracy                           0.95     25000\n",
            "   macro avg       0.95      0.95      0.95     25000\n",
            "weighted avg       0.95      0.95      0.95     25000\n",
            "\n"
          ],
          "name": "stdout"
        }
      ]
    },
    {
      "cell_type": "code",
      "metadata": {
        "id": "Ko88NuPwyQDM"
      },
      "source": [
        "y_test_pred = model.predict(pad_make_x)"
      ],
      "execution_count": 26,
      "outputs": []
    },
    {
      "cell_type": "code",
      "metadata": {
        "id": "NJhBEEUKyQAO"
      },
      "source": [
        "y_pred = np.argmax(y_test_pred, axis=1)"
      ],
      "execution_count": 27,
      "outputs": []
    },
    {
      "cell_type": "code",
      "metadata": {
        "colab": {
          "base_uri": "https://localhost:8080/"
        },
        "id": "SH1pUXpTyP9Y",
        "outputId": "f3146efa-65bb-4018-bbe1-8654d4f26542"
      },
      "source": [
        "print(classification_report(y_test, y_pred))"
      ],
      "execution_count": 28,
      "outputs": [
        {
          "output_type": "stream",
          "text": [
            "              precision    recall  f1-score   support\n",
            "\n",
            "           0       0.86      0.87      0.86     12500\n",
            "           1       0.87      0.86      0.86     12500\n",
            "\n",
            "    accuracy                           0.86     25000\n",
            "   macro avg       0.86      0.86      0.86     25000\n",
            "weighted avg       0.86      0.86      0.86     25000\n",
            "\n"
          ],
          "name": "stdout"
        }
      ]
    },
    {
      "cell_type": "code",
      "metadata": {
        "colab": {
          "base_uri": "https://localhost:8080/"
        },
        "id": "aYsl7cSsWjBT",
        "outputId": "5d095fa9-2480-4a97-8fcc-637a6cb457a2"
      },
      "source": [
        "model.evaluate(pad_x_test)"
      ],
      "execution_count": null,
      "outputs": [
        {
          "output_type": "stream",
          "text": [
            "782/782 [==============================] - 2s 2ms/step - loss: 0.0000e+00 - acc: 0.0000e+00\n"
          ],
          "name": "stdout"
        },
        {
          "output_type": "execute_result",
          "data": {
            "text/plain": [
              "[0.0, 0.0]"
            ]
          },
          "metadata": {
            "tags": []
          },
          "execution_count": 54
        }
      ]
    },
    {
      "cell_type": "code",
      "metadata": {
        "id": "ijFpxpFDWuwK"
      },
      "source": [
        ""
      ],
      "execution_count": null,
      "outputs": []
    }
  ]
}