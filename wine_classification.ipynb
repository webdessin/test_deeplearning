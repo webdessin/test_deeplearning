{
  "nbformat": 4,
  "nbformat_minor": 0,
  "metadata": {
    "colab": {
      "name": "wine_classification.ipynb",
      "provenance": [],
      "collapsed_sections": [],
      "authorship_tag": "ABX9TyMZj86nwj6BUnlrjvn9HpIS"
    },
    "kernelspec": {
      "name": "python3",
      "display_name": "Python 3"
    },
    "language_info": {
      "name": "python"
    }
  },
  "cells": [
    {
      "cell_type": "code",
      "metadata": {
        "id": "uO7D4YVIcHfa"
      },
      "source": [
        "from sklearn import datasets"
      ],
      "execution_count": 2,
      "outputs": []
    },
    {
      "cell_type": "code",
      "metadata": {
        "colab": {
          "base_uri": "https://localhost:8080/"
        },
        "id": "mSilX1KjcLH9",
        "outputId": "e5bedd77-13aa-40ee-cbea-dc5b0e1de56d"
      },
      "source": [
        "wine = datasets.load_wine()\n",
        "wine.keys()"
      ],
      "execution_count": 3,
      "outputs": [
        {
          "output_type": "execute_result",
          "data": {
            "text/plain": [
              "dict_keys(['data', 'target', 'target_names', 'DESCR', 'feature_names'])"
            ]
          },
          "metadata": {
            "tags": []
          },
          "execution_count": 3
        }
      ]
    },
    {
      "cell_type": "code",
      "metadata": {
        "colab": {
          "base_uri": "https://localhost:8080/"
        },
        "id": "Jf9oLY6ScTSN",
        "outputId": "e541a9d2-2d4c-42a6-f595-9342ddc199be"
      },
      "source": [
        "x_data = wine['data']\n",
        "x_data.shape"
      ],
      "execution_count": 5,
      "outputs": [
        {
          "output_type": "execute_result",
          "data": {
            "text/plain": [
              "(178, 13)"
            ]
          },
          "metadata": {
            "tags": []
          },
          "execution_count": 5
        }
      ]
    },
    {
      "cell_type": "code",
      "metadata": {
        "id": "p4KwUgrUdGKO"
      },
      "source": [
        "y_data = wine['target']\n",
        "y_data"
      ],
      "execution_count": null,
      "outputs": []
    },
    {
      "cell_type": "code",
      "metadata": {
        "id": "wl13J3rfdKcc"
      },
      "source": [
        "import pandas as pd\n",
        "df_wine = pd.DataFrame(wine.data)\n",
        "df_twine = pd.DataFrame(wine.target)\n",
        "df_wine['y_col'] = df_twine"
      ],
      "execution_count": 9,
      "outputs": []
    },
    {
      "cell_type": "code",
      "metadata": {
        "colab": {
          "base_uri": "https://localhost:8080/"
        },
        "id": "MlOcxeKeswYf",
        "outputId": "80666763-3f26-4d8e-8eb2-b9de6da6a985"
      },
      "source": [
        "df_wine.info()"
      ],
      "execution_count": 13,
      "outputs": [
        {
          "output_type": "stream",
          "text": [
            "<class 'pandas.core.frame.DataFrame'>\n",
            "RangeIndex: 178 entries, 0 to 177\n",
            "Data columns (total 14 columns):\n",
            " #   Column  Non-Null Count  Dtype  \n",
            "---  ------  --------------  -----  \n",
            " 0   0       178 non-null    float64\n",
            " 1   1       178 non-null    float64\n",
            " 2   2       178 non-null    float64\n",
            " 3   3       178 non-null    float64\n",
            " 4   4       178 non-null    float64\n",
            " 5   5       178 non-null    float64\n",
            " 6   6       178 non-null    float64\n",
            " 7   7       178 non-null    float64\n",
            " 8   8       178 non-null    float64\n",
            " 9   9       178 non-null    float64\n",
            " 10  10      178 non-null    float64\n",
            " 11  11      178 non-null    float64\n",
            " 12  12      178 non-null    float64\n",
            " 13  y_col   178 non-null    int64  \n",
            "dtypes: float64(13), int64(1)\n",
            "memory usage: 19.6 KB\n"
          ],
          "name": "stdout"
        }
      ]
    },
    {
      "cell_type": "code",
      "metadata": {
        "id": "aQX5iyyStOZf"
      },
      "source": [
        "import sqlite3\n",
        "connect = sqlite3.connect('./db.sqlite3')\n",
        "df_wine.to_sql('wine_resource', connect, if_exists = 'append', index = False)"
      ],
      "execution_count": 15,
      "outputs": []
    },
    {
      "cell_type": "code",
      "metadata": {
        "colab": {
          "base_uri": "https://localhost:8080/",
          "height": 173
        },
        "id": "HZJ2K0Naxdhq",
        "outputId": "7a8677fc-3fe6-4562-82cb-3c46bd853a70"
      },
      "source": [
        "df_load = pd.read_sql_query('select * from wine_resource', connect)\n",
        "df_load.head(4)"
      ],
      "execution_count": 17,
      "outputs": [
        {
          "output_type": "execute_result",
          "data": {
            "text/html": [
              "<div>\n",
              "<style scoped>\n",
              "    .dataframe tbody tr th:only-of-type {\n",
              "        vertical-align: middle;\n",
              "    }\n",
              "\n",
              "    .dataframe tbody tr th {\n",
              "        vertical-align: top;\n",
              "    }\n",
              "\n",
              "    .dataframe thead th {\n",
              "        text-align: right;\n",
              "    }\n",
              "</style>\n",
              "<table border=\"1\" class=\"dataframe\">\n",
              "  <thead>\n",
              "    <tr style=\"text-align: right;\">\n",
              "      <th></th>\n",
              "      <th>0</th>\n",
              "      <th>1</th>\n",
              "      <th>2</th>\n",
              "      <th>3</th>\n",
              "      <th>4</th>\n",
              "      <th>5</th>\n",
              "      <th>6</th>\n",
              "      <th>7</th>\n",
              "      <th>8</th>\n",
              "      <th>9</th>\n",
              "      <th>10</th>\n",
              "      <th>11</th>\n",
              "      <th>12</th>\n",
              "      <th>y_col</th>\n",
              "    </tr>\n",
              "  </thead>\n",
              "  <tbody>\n",
              "    <tr>\n",
              "      <th>0</th>\n",
              "      <td>14.23</td>\n",
              "      <td>1.71</td>\n",
              "      <td>2.43</td>\n",
              "      <td>15.6</td>\n",
              "      <td>127.0</td>\n",
              "      <td>2.80</td>\n",
              "      <td>3.06</td>\n",
              "      <td>0.28</td>\n",
              "      <td>2.29</td>\n",
              "      <td>5.64</td>\n",
              "      <td>1.04</td>\n",
              "      <td>3.92</td>\n",
              "      <td>1065.0</td>\n",
              "      <td>0</td>\n",
              "    </tr>\n",
              "    <tr>\n",
              "      <th>1</th>\n",
              "      <td>13.20</td>\n",
              "      <td>1.78</td>\n",
              "      <td>2.14</td>\n",
              "      <td>11.2</td>\n",
              "      <td>100.0</td>\n",
              "      <td>2.65</td>\n",
              "      <td>2.76</td>\n",
              "      <td>0.26</td>\n",
              "      <td>1.28</td>\n",
              "      <td>4.38</td>\n",
              "      <td>1.05</td>\n",
              "      <td>3.40</td>\n",
              "      <td>1050.0</td>\n",
              "      <td>0</td>\n",
              "    </tr>\n",
              "    <tr>\n",
              "      <th>2</th>\n",
              "      <td>13.16</td>\n",
              "      <td>2.36</td>\n",
              "      <td>2.67</td>\n",
              "      <td>18.6</td>\n",
              "      <td>101.0</td>\n",
              "      <td>2.80</td>\n",
              "      <td>3.24</td>\n",
              "      <td>0.30</td>\n",
              "      <td>2.81</td>\n",
              "      <td>5.68</td>\n",
              "      <td>1.03</td>\n",
              "      <td>3.17</td>\n",
              "      <td>1185.0</td>\n",
              "      <td>0</td>\n",
              "    </tr>\n",
              "    <tr>\n",
              "      <th>3</th>\n",
              "      <td>14.37</td>\n",
              "      <td>1.95</td>\n",
              "      <td>2.50</td>\n",
              "      <td>16.8</td>\n",
              "      <td>113.0</td>\n",
              "      <td>3.85</td>\n",
              "      <td>3.49</td>\n",
              "      <td>0.24</td>\n",
              "      <td>2.18</td>\n",
              "      <td>7.80</td>\n",
              "      <td>0.86</td>\n",
              "      <td>3.45</td>\n",
              "      <td>1480.0</td>\n",
              "      <td>0</td>\n",
              "    </tr>\n",
              "  </tbody>\n",
              "</table>\n",
              "</div>"
            ],
            "text/plain": [
              "       0     1     2     3      4     5  ...     8     9    10    11      12  y_col\n",
              "0  14.23  1.71  2.43  15.6  127.0  2.80  ...  2.29  5.64  1.04  3.92  1065.0      0\n",
              "1  13.20  1.78  2.14  11.2  100.0  2.65  ...  1.28  4.38  1.05  3.40  1050.0      0\n",
              "2  13.16  2.36  2.67  18.6  101.0  2.80  ...  2.81  5.68  1.03  3.17  1185.0      0\n",
              "3  14.37  1.95  2.50  16.8  113.0  3.85  ...  2.18  7.80  0.86  3.45  1480.0      0\n",
              "\n",
              "[4 rows x 14 columns]"
            ]
          },
          "metadata": {
            "tags": []
          },
          "execution_count": 17
        }
      ]
    },
    {
      "cell_type": "code",
      "metadata": {
        "colab": {
          "base_uri": "https://localhost:8080/"
        },
        "id": "J4LNZJcRxjpP",
        "outputId": "1acb8c76-80be-4e1a-8c0d-c85da7104035"
      },
      "source": [
        "x_data = df_load.to_numpy()\n",
        "x_data.shape"
      ],
      "execution_count": 18,
      "outputs": [
        {
          "output_type": "execute_result",
          "data": {
            "text/plain": [
              "(178, 14)"
            ]
          },
          "metadata": {
            "tags": []
          },
          "execution_count": 18
        }
      ]
    },
    {
      "cell_type": "code",
      "metadata": {
        "id": "9RGip6nDxn27"
      },
      "source": [
        "import numpy as np"
      ],
      "execution_count": 19,
      "outputs": []
    },
    {
      "cell_type": "code",
      "metadata": {
        "colab": {
          "base_uri": "https://localhost:8080/"
        },
        "id": "VmeixnWWxpqD",
        "outputId": "c47c0089-97f1-409f-9774-431508535900"
      },
      "source": [
        "y_data = wine.target\n",
        "y_data, np.unique(y_data)"
      ],
      "execution_count": 20,
      "outputs": [
        {
          "output_type": "execute_result",
          "data": {
            "text/plain": [
              "(array([0, 0, 0, 0, 0, 0, 0, 0, 0, 0, 0, 0, 0, 0, 0, 0, 0, 0, 0, 0, 0, 0,\n",
              "        0, 0, 0, 0, 0, 0, 0, 0, 0, 0, 0, 0, 0, 0, 0, 0, 0, 0, 0, 0, 0, 0,\n",
              "        0, 0, 0, 0, 0, 0, 0, 0, 0, 0, 0, 0, 0, 0, 0, 1, 1, 1, 1, 1, 1, 1,\n",
              "        1, 1, 1, 1, 1, 1, 1, 1, 1, 1, 1, 1, 1, 1, 1, 1, 1, 1, 1, 1, 1, 1,\n",
              "        1, 1, 1, 1, 1, 1, 1, 1, 1, 1, 1, 1, 1, 1, 1, 1, 1, 1, 1, 1, 1, 1,\n",
              "        1, 1, 1, 1, 1, 1, 1, 1, 1, 1, 1, 1, 1, 1, 1, 1, 1, 1, 1, 1, 2, 2,\n",
              "        2, 2, 2, 2, 2, 2, 2, 2, 2, 2, 2, 2, 2, 2, 2, 2, 2, 2, 2, 2, 2, 2,\n",
              "        2, 2, 2, 2, 2, 2, 2, 2, 2, 2, 2, 2, 2, 2, 2, 2, 2, 2, 2, 2, 2, 2,\n",
              "        2, 2]), array([0, 1, 2]))"
            ]
          },
          "metadata": {
            "tags": []
          },
          "execution_count": 20
        }
      ]
    },
    {
      "cell_type": "code",
      "metadata": {
        "id": "qR0YOypyxrhQ"
      },
      "source": [
        "import tensorflow as tf"
      ],
      "execution_count": 21,
      "outputs": []
    },
    {
      "cell_type": "code",
      "metadata": {
        "colab": {
          "base_uri": "https://localhost:8080/"
        },
        "id": "fTfMGVnZxt20",
        "outputId": "24745797-2ef4-4375-db0a-694c83a707a1"
      },
      "source": [
        "model = tf.keras.Sequential()\n",
        "\n",
        "model.add(tf.keras.Input(shape=(14,)))     # input layer\n",
        "model.add(tf.keras.layers.Dense(64, activation='relu'))     # hidden layer\n",
        "model.add(tf.keras.layers.Dense(32, activation='relu'))     # hidden layer\n",
        "\n",
        "model.add(tf.keras.layers.Dense(3, activation='softmax'))     # output layer\n",
        "\n",
        "model.compile(optimizer='adam', loss = 'sparse_categorical_crossentropy', metrics = ['acc'])     # gadget"
      ],
      "execution_count": 33,
      "outputs": [
        {
          "output_type": "stream",
          "text": [
            "WARNING:tensorflow:Please add `keras.layers.InputLayer` instead of `keras.Input` to Sequential model. `keras.Input` is intended to be used by Functional model.\n"
          ],
          "name": "stdout"
        }
      ]
    },
    {
      "cell_type": "code",
      "metadata": {
        "colab": {
          "base_uri": "https://localhost:8080/"
        },
        "id": "Sv0LRX78xxmo",
        "outputId": "195a32ba-47f2-4646-8817-d7f80f218c6f"
      },
      "source": [
        "model.summary()"
      ],
      "execution_count": 34,
      "outputs": [
        {
          "output_type": "stream",
          "text": [
            "Model: \"sequential_3\"\n",
            "_________________________________________________________________\n",
            "Layer (type)                 Output Shape              Param #   \n",
            "=================================================================\n",
            "dense_9 (Dense)              (None, 64)                960       \n",
            "_________________________________________________________________\n",
            "dense_10 (Dense)             (None, 32)                2080      \n",
            "_________________________________________________________________\n",
            "dense_11 (Dense)             (None, 3)                 99        \n",
            "=================================================================\n",
            "Total params: 3,139\n",
            "Trainable params: 3,139\n",
            "Non-trainable params: 0\n",
            "_________________________________________________________________\n"
          ],
          "name": "stdout"
        }
      ]
    },
    {
      "cell_type": "code",
      "metadata": {
        "colab": {
          "base_uri": "https://localhost:8080/"
        },
        "id": "FEjKn7h_xzHf",
        "outputId": "a115c39d-f73b-4501-a4c5-9d23f8d453ca"
      },
      "source": [
        "model.fit(x_data, y_data, epochs = 50, validation_split = 0.3)   # 학습"
      ],
      "execution_count": 35,
      "outputs": [
        {
          "output_type": "stream",
          "text": [
            "Epoch 1/50\n",
            "4/4 [==============================] - 1s 57ms/step - loss: 103.0435 - acc: 0.0000e+00 - val_loss: 11.5554 - val_acc: 0.1481\n",
            "Epoch 2/50\n",
            "4/4 [==============================] - 0s 8ms/step - loss: 46.0116 - acc: 0.4758 - val_loss: 34.9437 - val_acc: 0.0000e+00\n",
            "Epoch 3/50\n",
            "4/4 [==============================] - 0s 9ms/step - loss: 25.0498 - acc: 0.4758 - val_loss: 32.5435 - val_acc: 0.0000e+00\n",
            "Epoch 4/50\n",
            "4/4 [==============================] - 0s 10ms/step - loss: 5.1767 - acc: 0.5242 - val_loss: 41.0166 - val_acc: 0.1111\n",
            "Epoch 5/50\n",
            "4/4 [==============================] - 0s 8ms/step - loss: 7.2504 - acc: 0.5242 - val_loss: 42.0218 - val_acc: 0.0741\n",
            "Epoch 6/50\n",
            "4/4 [==============================] - 0s 14ms/step - loss: 3.3370 - acc: 0.5806 - val_loss: 53.7164 - val_acc: 0.0000e+00\n",
            "Epoch 7/50\n",
            "4/4 [==============================] - 0s 8ms/step - loss: 5.3439 - acc: 0.4839 - val_loss: 51.0312 - val_acc: 0.0556\n",
            "Epoch 8/50\n",
            "4/4 [==============================] - 0s 9ms/step - loss: 1.3034 - acc: 0.7661 - val_loss: 53.7869 - val_acc: 0.1111\n",
            "Epoch 9/50\n",
            "4/4 [==============================] - 0s 9ms/step - loss: 1.8728 - acc: 0.7177 - val_loss: 52.5814 - val_acc: 0.0926\n",
            "Epoch 10/50\n",
            "4/4 [==============================] - 0s 9ms/step - loss: 1.1986 - acc: 0.7661 - val_loss: 54.3624 - val_acc: 0.0741\n",
            "Epoch 11/50\n",
            "4/4 [==============================] - 0s 9ms/step - loss: 0.9599 - acc: 0.7339 - val_loss: 53.9394 - val_acc: 0.0926\n",
            "Epoch 12/50\n",
            "4/4 [==============================] - 0s 8ms/step - loss: 0.8752 - acc: 0.8468 - val_loss: 55.1727 - val_acc: 0.1111\n",
            "Epoch 13/50\n",
            "4/4 [==============================] - 0s 8ms/step - loss: 0.8371 - acc: 0.8306 - val_loss: 54.6338 - val_acc: 0.0926\n",
            "Epoch 14/50\n",
            "4/4 [==============================] - 0s 9ms/step - loss: 0.7599 - acc: 0.8145 - val_loss: 54.6823 - val_acc: 0.0926\n",
            "Epoch 15/50\n",
            "4/4 [==============================] - 0s 9ms/step - loss: 0.5841 - acc: 0.8629 - val_loss: 55.0445 - val_acc: 0.1111\n",
            "Epoch 16/50\n",
            "4/4 [==============================] - 0s 8ms/step - loss: 0.6133 - acc: 0.8548 - val_loss: 54.9498 - val_acc: 0.0926\n",
            "Epoch 17/50\n",
            "4/4 [==============================] - 0s 7ms/step - loss: 0.5573 - acc: 0.8629 - val_loss: 54.9303 - val_acc: 0.0926\n",
            "Epoch 18/50\n",
            "4/4 [==============================] - 0s 12ms/step - loss: 0.6118 - acc: 0.8629 - val_loss: 54.9810 - val_acc: 0.0926\n",
            "Epoch 19/50\n",
            "4/4 [==============================] - 0s 10ms/step - loss: 0.6230 - acc: 0.8468 - val_loss: 54.9788 - val_acc: 0.0926\n",
            "Epoch 20/50\n",
            "4/4 [==============================] - 0s 16ms/step - loss: 0.5512 - acc: 0.8548 - val_loss: 55.1897 - val_acc: 0.1111\n",
            "Epoch 21/50\n",
            "4/4 [==============================] - 0s 9ms/step - loss: 0.6133 - acc: 0.8468 - val_loss: 55.0928 - val_acc: 0.0926\n",
            "Epoch 22/50\n",
            "4/4 [==============================] - 0s 11ms/step - loss: 0.7181 - acc: 0.8387 - val_loss: 55.1006 - val_acc: 0.0926\n",
            "Epoch 23/50\n",
            "4/4 [==============================] - 0s 8ms/step - loss: 0.6603 - acc: 0.8226 - val_loss: 55.2282 - val_acc: 0.1111\n",
            "Epoch 24/50\n",
            "4/4 [==============================] - 0s 9ms/step - loss: 0.6485 - acc: 0.8548 - val_loss: 55.0213 - val_acc: 0.0926\n",
            "Epoch 25/50\n",
            "4/4 [==============================] - 0s 8ms/step - loss: 0.5755 - acc: 0.8629 - val_loss: 55.0300 - val_acc: 0.0926\n",
            "Epoch 26/50\n",
            "4/4 [==============================] - 0s 9ms/step - loss: 0.6016 - acc: 0.8306 - val_loss: 55.1601 - val_acc: 0.1111\n",
            "Epoch 27/50\n",
            "4/4 [==============================] - 0s 9ms/step - loss: 0.5931 - acc: 0.8468 - val_loss: 55.0010 - val_acc: 0.0926\n",
            "Epoch 28/50\n",
            "4/4 [==============================] - 0s 8ms/step - loss: 0.5311 - acc: 0.8710 - val_loss: 54.9370 - val_acc: 0.0926\n",
            "Epoch 29/50\n",
            "4/4 [==============================] - 0s 8ms/step - loss: 0.5264 - acc: 0.8710 - val_loss: 54.9712 - val_acc: 0.0926\n",
            "Epoch 30/50\n",
            "4/4 [==============================] - 0s 9ms/step - loss: 0.5703 - acc: 0.8710 - val_loss: 55.1546 - val_acc: 0.1111\n",
            "Epoch 31/50\n",
            "4/4 [==============================] - 0s 8ms/step - loss: 0.5842 - acc: 0.8387 - val_loss: 54.9406 - val_acc: 0.0926\n",
            "Epoch 32/50\n",
            "4/4 [==============================] - 0s 8ms/step - loss: 0.5628 - acc: 0.8710 - val_loss: 55.0167 - val_acc: 0.0926\n",
            "Epoch 33/50\n",
            "4/4 [==============================] - 0s 8ms/step - loss: 0.5262 - acc: 0.8548 - val_loss: 54.9173 - val_acc: 0.0926\n",
            "Epoch 34/50\n",
            "4/4 [==============================] - 0s 8ms/step - loss: 0.5410 - acc: 0.8387 - val_loss: 54.8822 - val_acc: 0.0926\n",
            "Epoch 35/50\n",
            "4/4 [==============================] - 0s 8ms/step - loss: 0.5619 - acc: 0.8790 - val_loss: 55.2078 - val_acc: 0.1111\n",
            "Epoch 36/50\n",
            "4/4 [==============================] - 0s 13ms/step - loss: 0.5453 - acc: 0.8629 - val_loss: 54.8452 - val_acc: 0.0926\n",
            "Epoch 37/50\n",
            "4/4 [==============================] - 0s 7ms/step - loss: 0.5344 - acc: 0.8629 - val_loss: 54.8876 - val_acc: 0.0926\n",
            "Epoch 38/50\n",
            "4/4 [==============================] - 0s 8ms/step - loss: 0.5443 - acc: 0.8710 - val_loss: 54.8213 - val_acc: 0.0926\n",
            "Epoch 39/50\n",
            "4/4 [==============================] - 0s 8ms/step - loss: 0.4958 - acc: 0.8871 - val_loss: 55.1383 - val_acc: 0.1111\n",
            "Epoch 40/50\n",
            "4/4 [==============================] - 0s 8ms/step - loss: 0.5483 - acc: 0.8548 - val_loss: 54.8419 - val_acc: 0.0926\n",
            "Epoch 41/50\n",
            "4/4 [==============================] - 0s 8ms/step - loss: 0.5944 - acc: 0.8548 - val_loss: 54.8204 - val_acc: 0.0926\n",
            "Epoch 42/50\n",
            "4/4 [==============================] - 0s 8ms/step - loss: 0.4726 - acc: 0.8710 - val_loss: 54.7973 - val_acc: 0.0926\n",
            "Epoch 43/50\n",
            "4/4 [==============================] - 0s 8ms/step - loss: 0.4740 - acc: 0.8871 - val_loss: 54.7566 - val_acc: 0.0926\n",
            "Epoch 44/50\n",
            "4/4 [==============================] - 0s 8ms/step - loss: 0.4612 - acc: 0.8710 - val_loss: 54.9767 - val_acc: 0.1111\n",
            "Epoch 45/50\n",
            "4/4 [==============================] - 0s 8ms/step - loss: 0.5102 - acc: 0.8629 - val_loss: 54.7299 - val_acc: 0.0926\n",
            "Epoch 46/50\n",
            "4/4 [==============================] - 0s 9ms/step - loss: 0.4772 - acc: 0.8387 - val_loss: 54.7193 - val_acc: 0.0926\n",
            "Epoch 47/50\n",
            "4/4 [==============================] - 0s 9ms/step - loss: 0.5877 - acc: 0.8548 - val_loss: 55.0884 - val_acc: 0.1111\n",
            "Epoch 48/50\n",
            "4/4 [==============================] - 0s 8ms/step - loss: 0.4466 - acc: 0.8790 - val_loss: 54.7147 - val_acc: 0.0926\n",
            "Epoch 49/50\n",
            "4/4 [==============================] - 0s 8ms/step - loss: 0.4524 - acc: 0.8710 - val_loss: 54.7486 - val_acc: 0.0926\n",
            "Epoch 50/50\n",
            "4/4 [==============================] - 0s 8ms/step - loss: 0.4172 - acc: 0.8710 - val_loss: 54.7563 - val_acc: 0.1111\n"
          ],
          "name": "stdout"
        },
        {
          "output_type": "execute_result",
          "data": {
            "text/plain": [
              "<tensorflow.python.keras.callbacks.History at 0x7f218154ad90>"
            ]
          },
          "metadata": {
            "tags": []
          },
          "execution_count": 35
        }
      ]
    },
    {
      "cell_type": "code",
      "metadata": {
        "colab": {
          "base_uri": "https://localhost:8080/"
        },
        "id": "WaetB-qCx0vc",
        "outputId": "b7ea2ba5-08ad-46e8-8dca-d2a23ef013f6"
      },
      "source": [
        "model.evaluate(x_data, y_data)"
      ],
      "execution_count": 36,
      "outputs": [
        {
          "output_type": "stream",
          "text": [
            "6/6 [==============================] - 0s 2ms/step - loss: 16.9021 - acc: 0.6404\n"
          ],
          "name": "stdout"
        },
        {
          "output_type": "execute_result",
          "data": {
            "text/plain": [
              "[16.902057647705078, 0.6404494643211365]"
            ]
          },
          "metadata": {
            "tags": []
          },
          "execution_count": 36
        }
      ]
    },
    {
      "cell_type": "code",
      "metadata": {
        "colab": {
          "base_uri": "https://localhost:8080/"
        },
        "id": "u2F1cNLiyHEE",
        "outputId": "853c29d6-df3a-425a-c8fb-8c713f50f3f9"
      },
      "source": [
        "x_data[25], y_data[25]"
      ],
      "execution_count": 37,
      "outputs": [
        {
          "output_type": "execute_result",
          "data": {
            "text/plain": [
              "(array([1.305e+01, 2.050e+00, 3.220e+00, 2.500e+01, 1.240e+02, 2.630e+00,\n",
              "        2.680e+00, 4.700e-01, 1.920e+00, 3.580e+00, 1.130e+00, 3.200e+00,\n",
              "        8.300e+02, 0.000e+00]), 0)"
            ]
          },
          "metadata": {
            "tags": []
          },
          "execution_count": 37
        }
      ]
    },
    {
      "cell_type": "code",
      "metadata": {
        "colab": {
          "base_uri": "https://localhost:8080/"
        },
        "id": "jdFj-CP0yG2K",
        "outputId": "2df3a648-b642-4938-a816-42433a26e2e9"
      },
      "source": [
        "pred = model.predict([[1.305e+01, 2.050e+00, 3.220e+00, 2.500e+01, 1.240e+02, 2.630e+00,\n",
        "        2.680e+00, 4.700e-01, 1.920e+00, 3.580e+00, 1.130e+00, 3.200e+00,\n",
        "        8.300e+02, 0.000e+00]])\n",
        "pred"
      ],
      "execution_count": 38,
      "outputs": [
        {
          "output_type": "execute_result",
          "data": {
            "text/plain": [
              "array([[5.94688542e-02, 9.40531194e-01, 1.19716365e-35]], dtype=float32)"
            ]
          },
          "metadata": {
            "tags": []
          },
          "execution_count": 38
        }
      ]
    },
    {
      "cell_type": "code",
      "metadata": {
        "colab": {
          "base_uri": "https://localhost:8080/"
        },
        "id": "D0-MdbFDyGzi",
        "outputId": "5f5cc01a-4e98-486b-908b-95bfa9840137"
      },
      "source": [
        "import numpy as np\n",
        "np.argmax(pred)"
      ],
      "execution_count": 39,
      "outputs": [
        {
          "output_type": "execute_result",
          "data": {
            "text/plain": [
              "1"
            ]
          },
          "metadata": {
            "tags": []
          },
          "execution_count": 39
        }
      ]
    },
    {
      "cell_type": "code",
      "metadata": {
        "id": "VwT2E5njzcYi"
      },
      "source": [
        ""
      ],
      "execution_count": null,
      "outputs": []
    }
  ]
}