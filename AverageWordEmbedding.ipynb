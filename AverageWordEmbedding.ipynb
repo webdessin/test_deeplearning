{
  "nbformat": 4,
  "nbformat_minor": 0,
  "metadata": {
    "colab": {
      "name": "AverageWordEmbedding.ipynb",
      "provenance": [],
      "collapsed_sections": [],
      "authorship_tag": "ABX9TyN6DG8zReclE54cgtxExSAH"
    },
    "kernelspec": {
      "name": "python3",
      "display_name": "Python 3"
    },
    "language_info": {
      "name": "python"
    }
  },
  "cells": [
    {
      "cell_type": "code",
      "metadata": {
        "id": "4YQR0AmU9COJ"
      },
      "source": [
        "from tensorflow.keras.datasets import imdb"
      ],
      "execution_count": null,
      "outputs": []
    },
    {
      "cell_type": "code",
      "metadata": {
        "colab": {
          "base_uri": "https://localhost:8080/"
        },
        "id": "7BkJKVEi9RhX",
        "outputId": "9e3df416-8f64-434a-da77-b8d90db09209"
      },
      "source": [
        "vocab_size = 2000\n",
        "(x_train, y_train), (x_test, y_test) = imdb.load_data(num_words=vocab_size)\n",
        "x_train.shape, y_train.shape, x_test.shape, y_test.shape"
      ],
      "execution_count": null,
      "outputs": [
        {
          "output_type": "stream",
          "text": [
            "Downloading data from https://storage.googleapis.com/tensorflow/tf-keras-datasets/imdb.npz\n",
            "17465344/17464789 [==============================] - 0s 0us/step\n",
            "17473536/17464789 [==============================] - 0s 0us/step\n"
          ],
          "name": "stdout"
        },
        {
          "output_type": "execute_result",
          "data": {
            "text/plain": [
              "((25000,), (25000,), (25000,), (25000,))"
            ]
          },
          "metadata": {},
          "execution_count": 2
        }
      ]
    },
    {
      "cell_type": "code",
      "metadata": {
        "colab": {
          "base_uri": "https://localhost:8080/"
        },
        "id": "M06-cD7C9tVF",
        "outputId": "b8d7d113-b5ed-46a2-81dd-bbe7151713cb"
      },
      "source": [
        "print(x_train[1])"
      ],
      "execution_count": null,
      "outputs": [
        {
          "output_type": "stream",
          "text": [
            "[1, 194, 1153, 194, 2, 78, 228, 5, 6, 1463, 2, 2, 134, 26, 4, 715, 8, 118, 1634, 14, 394, 20, 13, 119, 954, 189, 102, 5, 207, 110, 2, 21, 14, 69, 188, 8, 30, 23, 7, 4, 249, 126, 93, 4, 114, 9, 2, 1523, 5, 647, 4, 116, 9, 35, 2, 4, 229, 9, 340, 1322, 4, 118, 9, 4, 130, 2, 19, 4, 1002, 5, 89, 29, 952, 46, 37, 4, 455, 9, 45, 43, 38, 1543, 1905, 398, 4, 1649, 26, 2, 5, 163, 11, 2, 2, 4, 1153, 9, 194, 775, 7, 2, 2, 349, 2, 148, 605, 2, 2, 15, 123, 125, 68, 2, 2, 15, 349, 165, 2, 98, 5, 4, 228, 9, 43, 2, 1157, 15, 299, 120, 5, 120, 174, 11, 220, 175, 136, 50, 9, 2, 228, 2, 5, 2, 656, 245, 2, 5, 4, 2, 131, 152, 491, 18, 2, 32, 2, 1212, 14, 9, 6, 371, 78, 22, 625, 64, 1382, 9, 8, 168, 145, 23, 4, 1690, 15, 16, 4, 1355, 5, 28, 6, 52, 154, 462, 33, 89, 78, 285, 16, 145, 95]\n"
          ],
          "name": "stdout"
        }
      ]
    },
    {
      "cell_type": "code",
      "metadata": {
        "colab": {
          "base_uri": "https://localhost:8080/"
        },
        "id": "oTnJ9GRi9wIx",
        "outputId": "9f16357d-5fd9-427e-d832-e45fc8219fe2"
      },
      "source": [
        "len(x_train[1]), len(x_train[200])"
      ],
      "execution_count": null,
      "outputs": [
        {
          "output_type": "execute_result",
          "data": {
            "text/plain": [
              "(189, 160)"
            ]
          },
          "metadata": {},
          "execution_count": 5
        }
      ]
    },
    {
      "cell_type": "code",
      "metadata": {
        "id": "ISzD8PH2-PpT"
      },
      "source": [
        "from tensorflow.keras.preprocessing.sequence import pad_sequences"
      ],
      "execution_count": null,
      "outputs": []
    },
    {
      "cell_type": "code",
      "metadata": {
        "id": "dh5rT2Wg-fgn"
      },
      "source": [
        "X_train = pad_sequences(x_train, maxlen=300)"
      ],
      "execution_count": null,
      "outputs": []
    },
    {
      "cell_type": "code",
      "metadata": {
        "id": "wwIf9B7_AIak"
      },
      "source": [
        "import numpy as np"
      ],
      "execution_count": null,
      "outputs": []
    },
    {
      "cell_type": "code",
      "metadata": {
        "colab": {
          "base_uri": "https://localhost:8080/"
        },
        "id": "5QZphiwdAIXp",
        "outputId": "aed245ca-86a2-4d13-9709-cdc689c40d81"
      },
      "source": [
        "np.unique(y_train)    # 분류형"
      ],
      "execution_count": null,
      "outputs": [
        {
          "output_type": "execute_result",
          "data": {
            "text/plain": [
              "array([0, 1])"
            ]
          },
          "metadata": {},
          "execution_count": 10
        }
      ]
    },
    {
      "cell_type": "code",
      "metadata": {
        "id": "wThVY5Xj-xaM"
      },
      "source": [
        "import tensorflow as tf"
      ],
      "execution_count": null,
      "outputs": []
    },
    {
      "cell_type": "code",
      "metadata": {
        "id": "iKO2rWeW-7wt"
      },
      "source": [
        "model = tf.keras.models.Sequential()\n",
        "\n",
        "\n",
        "model.add(tf.keras.layers.Embedding(input_dim=vocab_size, output_dim=50, input_length=300)) # input\n",
        "model.add(tf.keras.layers.GlobalAveragePooling1D()) # hidden\n",
        "model.add(tf.keras.layers.Dense(1, activation='sigmoid')) # output\n",
        "\n",
        "model.compile(optimizer='adam', loss='binary_crossentropy')"
      ],
      "execution_count": null,
      "outputs": []
    },
    {
      "cell_type": "code",
      "metadata": {
        "colab": {
          "base_uri": "https://localhost:8080/"
        },
        "id": "ALLR7R1oBDos",
        "outputId": "ff787121-e9c7-4b88-8f67-19c46fcba14c"
      },
      "source": [
        "hist = model.fit(X_train, y_train, epochs=10, batch_size=128, validation_split=0.2)"
      ],
      "execution_count": null,
      "outputs": [
        {
          "output_type": "stream",
          "text": [
            "Epoch 1/10\n",
            "157/157 [==============================] - 2s 10ms/step - loss: 0.3124 - val_loss: 0.3353\n",
            "Epoch 2/10\n",
            "157/157 [==============================] - 2s 10ms/step - loss: 0.3033 - val_loss: 0.3293\n",
            "Epoch 3/10\n",
            "157/157 [==============================] - 2s 10ms/step - loss: 0.2958 - val_loss: 0.3254\n",
            "Epoch 4/10\n",
            "157/157 [==============================] - 2s 10ms/step - loss: 0.2892 - val_loss: 0.3216\n",
            "Epoch 5/10\n",
            "157/157 [==============================] - 2s 11ms/step - loss: 0.2833 - val_loss: 0.3188\n",
            "Epoch 6/10\n",
            "157/157 [==============================] - 2s 11ms/step - loss: 0.2780 - val_loss: 0.3159\n",
            "Epoch 7/10\n",
            "157/157 [==============================] - 2s 10ms/step - loss: 0.2736 - val_loss: 0.3147\n",
            "Epoch 8/10\n",
            "157/157 [==============================] - 2s 10ms/step - loss: 0.2692 - val_loss: 0.3149\n",
            "Epoch 9/10\n",
            "157/157 [==============================] - 2s 10ms/step - loss: 0.2659 - val_loss: 0.3128\n",
            "Epoch 10/10\n",
            "157/157 [==============================] - 2s 10ms/step - loss: 0.2628 - val_loss: 0.3121\n"
          ],
          "name": "stdout"
        }
      ]
    },
    {
      "cell_type": "code",
      "metadata": {
        "colab": {
          "base_uri": "https://localhost:8080/"
        },
        "id": "LaGxA9gCBDih",
        "outputId": "4c78aca4-3482-413c-e36e-55bab1fe191e"
      },
      "source": [
        "model.predict(X_train[5:6])"
      ],
      "execution_count": null,
      "outputs": [
        {
          "output_type": "execute_result",
          "data": {
            "text/plain": [
              "array([[0.39846402]], dtype=float32)"
            ]
          },
          "metadata": {},
          "execution_count": 14
        }
      ]
    },
    {
      "cell_type": "markdown",
      "metadata": {
        "id": "wqhTVS6FDHnU"
      },
      "source": [
        "# Callback EarlyStopping"
      ]
    },
    {
      "cell_type": "code",
      "metadata": {
        "colab": {
          "base_uri": "https://localhost:8080/"
        },
        "id": "2_A7c2fKBb0k",
        "outputId": "f6e3b296-d72b-43d2-ebc9-1cd46dc65637"
      },
      "source": [
        "es = tf.keras.callbacks.EarlyStopping(monitor='val_loss', patience=4, mode='min', verbose=1)\n",
        "es"
      ],
      "execution_count": null,
      "outputs": [
        {
          "output_type": "execute_result",
          "data": {
            "text/plain": [
              "<keras.callbacks.EarlyStopping at 0x7fe53dd5b4d0>"
            ]
          },
          "metadata": {},
          "execution_count": 16
        }
      ]
    },
    {
      "cell_type": "code",
      "metadata": {
        "colab": {
          "base_uri": "https://localhost:8080/"
        },
        "id": "xo4p5D_LEHV4",
        "outputId": "79160e66-1421-49fc-a34b-bd5f2dd35fab"
      },
      "source": [
        "hist = model.fit(X_train, y_train, epochs=20, batch_size=128, validation_split=0.2, callbacks=[es])"
      ],
      "execution_count": null,
      "outputs": [
        {
          "output_type": "stream",
          "text": [
            "Epoch 1/20\n",
            "157/157 [==============================] - 2s 11ms/step - loss: 0.2597 - val_loss: 0.3101\n",
            "Epoch 2/20\n",
            "157/157 [==============================] - 2s 10ms/step - loss: 0.2568 - val_loss: 0.3100\n",
            "Epoch 3/20\n",
            "157/157 [==============================] - 2s 10ms/step - loss: 0.2547 - val_loss: 0.3147\n",
            "Epoch 4/20\n",
            "157/157 [==============================] - 2s 11ms/step - loss: 0.2526 - val_loss: 0.3103\n",
            "Epoch 5/20\n",
            "157/157 [==============================] - 2s 11ms/step - loss: 0.2500 - val_loss: 0.3111\n",
            "Epoch 6/20\n",
            "157/157 [==============================] - 2s 11ms/step - loss: 0.2481 - val_loss: 0.3107\n",
            "Epoch 00006: early stopping\n"
          ],
          "name": "stdout"
        }
      ]
    },
    {
      "cell_type": "code",
      "metadata": {
        "id": "ilp8BBcCEagn"
      },
      "source": [
        ""
      ],
      "execution_count": null,
      "outputs": []
    }
  ]
}