{
  "nbformat": 4,
  "nbformat_minor": 0,
  "metadata": {
    "colab": {
      "name": "seq2seq_preprocess.ipynb",
      "provenance": [],
      "collapsed_sections": [],
      "authorship_tag": "ABX9TyPEfpd1Q/5FoQh+eSu9jBjv"
    },
    "kernelspec": {
      "name": "python3",
      "display_name": "Python 3"
    },
    "language_info": {
      "name": "python"
    }
  },
  "cells": [
    {
      "cell_type": "code",
      "metadata": {
        "colab": {
          "base_uri": "https://localhost:8080/"
        },
        "id": "EUJDDfEKE-u6",
        "outputId": "db02c43e-a772-4865-9778-85e554322520"
      },
      "source": [
        "!python -m pip install konlpy"
      ],
      "execution_count": 1,
      "outputs": [
        {
          "output_type": "stream",
          "text": [
            "Requirement already satisfied: konlpy in /usr/local/lib/python3.7/dist-packages (0.5.2)\n",
            "Requirement already satisfied: JPype1>=0.7.0 in /usr/local/lib/python3.7/dist-packages (from konlpy) (1.3.0)\n",
            "Requirement already satisfied: numpy>=1.6 in /usr/local/lib/python3.7/dist-packages (from konlpy) (1.19.5)\n",
            "Requirement already satisfied: lxml>=4.1.0 in /usr/local/lib/python3.7/dist-packages (from konlpy) (4.2.6)\n",
            "Requirement already satisfied: colorama in /usr/local/lib/python3.7/dist-packages (from konlpy) (0.4.4)\n",
            "Requirement already satisfied: beautifulsoup4==4.6.0 in /usr/local/lib/python3.7/dist-packages (from konlpy) (4.6.0)\n",
            "Requirement already satisfied: tweepy>=3.7.0 in /usr/local/lib/python3.7/dist-packages (from konlpy) (3.10.0)\n",
            "Requirement already satisfied: typing-extensions in /usr/local/lib/python3.7/dist-packages (from JPype1>=0.7.0->konlpy) (3.7.4.3)\n",
            "Requirement already satisfied: requests[socks]>=2.11.1 in /usr/local/lib/python3.7/dist-packages (from tweepy>=3.7.0->konlpy) (2.23.0)\n",
            "Requirement already satisfied: requests-oauthlib>=0.7.0 in /usr/local/lib/python3.7/dist-packages (from tweepy>=3.7.0->konlpy) (1.3.0)\n",
            "Requirement already satisfied: six>=1.10.0 in /usr/local/lib/python3.7/dist-packages (from tweepy>=3.7.0->konlpy) (1.15.0)\n",
            "Requirement already satisfied: oauthlib>=3.0.0 in /usr/local/lib/python3.7/dist-packages (from requests-oauthlib>=0.7.0->tweepy>=3.7.0->konlpy) (3.1.1)\n",
            "Requirement already satisfied: urllib3!=1.25.0,!=1.25.1,<1.26,>=1.21.1 in /usr/local/lib/python3.7/dist-packages (from requests[socks]>=2.11.1->tweepy>=3.7.0->konlpy) (1.24.3)\n",
            "Requirement already satisfied: certifi>=2017.4.17 in /usr/local/lib/python3.7/dist-packages (from requests[socks]>=2.11.1->tweepy>=3.7.0->konlpy) (2021.5.30)\n",
            "Requirement already satisfied: chardet<4,>=3.0.2 in /usr/local/lib/python3.7/dist-packages (from requests[socks]>=2.11.1->tweepy>=3.7.0->konlpy) (3.0.4)\n",
            "Requirement already satisfied: idna<3,>=2.5 in /usr/local/lib/python3.7/dist-packages (from requests[socks]>=2.11.1->tweepy>=3.7.0->konlpy) (2.10)\n",
            "Requirement already satisfied: PySocks!=1.5.7,>=1.5.6 in /usr/local/lib/python3.7/dist-packages (from requests[socks]>=2.11.1->tweepy>=3.7.0->konlpy) (1.7.1)\n"
          ],
          "name": "stdout"
        }
      ]
    },
    {
      "cell_type": "code",
      "metadata": {
        "id": "ubumCOy3FeLx"
      },
      "source": [
        "# from preprocess import *\n",
        "import preprocess as pp"
      ],
      "execution_count": 2,
      "outputs": []
    },
    {
      "cell_type": "code",
      "metadata": {
        "colab": {
          "base_uri": "https://localhost:8080/"
        },
        "id": "y5dOB5orFws8",
        "outputId": "4b2347a4-30ed-40ae-ef07-74cfa1354c66"
      },
      "source": [
        "path_csv = './ChatBotData.csv_short'\n",
        "inputs, outputs = pp.load_data(path_csv)\n",
        "type(inputs), type(outputs)"
      ],
      "execution_count": 3,
      "outputs": [
        {
          "output_type": "execute_result",
          "data": {
            "text/plain": [
              "(list, list)"
            ]
          },
          "metadata": {},
          "execution_count": 3
        }
      ]
    },
    {
      "cell_type": "code",
      "metadata": {
        "colab": {
          "base_uri": "https://localhost:8080/"
        },
        "id": "rD6FCBE4OSVK",
        "outputId": "981187d4-e520-4b4a-aa6f-44dbf75b955e"
      },
      "source": [
        "inputs[10], outputs[10], len(inputs)"
      ],
      "execution_count": 4,
      "outputs": [
        {
          "output_type": "execute_result",
          "data": {
            "text/plain": [
              "('남자친구 교회 데려가고 싶어', '마음을 열 때까지 설득해보세요.', 20)"
            ]
          },
          "metadata": {},
          "execution_count": 4
        }
      ]
    },
    {
      "cell_type": "code",
      "metadata": {
        "colab": {
          "base_uri": "https://localhost:8080/"
        },
        "id": "jfbX81txF7Eq",
        "outputId": "855f187b-1bf5-45e8-a88d-541be044e88c"
      },
      "source": [
        "print(type(inputs), inputs)"
      ],
      "execution_count": 5,
      "outputs": [
        {
          "output_type": "stream",
          "text": [
            "<class 'list'> ['가끔 궁금해', '가끔 뭐하는지 궁금해', '가끔은 혼자인게 좋다', '가난한 자의 설움', '가만 있어도 땀난다', '가상화폐 쫄딱 망함', '가스불 켜고 나갔어', '가스불 켜놓고 나온거 같아', '가스비 너무 많이 나왔다.', '가스비 비싼데 감기 걸리겠어', '남자친구 교회 데려가고 싶어', '남자친구 또 운동 갔어', '남자친구 생일인데 뭘 줄까', '남자친구 승진 선물로 뭐가 좋을까?', '남자친구 오늘 따라 훈훈해 보인다', '남자친구 오늘 좀 질린다.', '남자친구가 나 안 믿어줘', '남자친구가 너무 바빠', '남자친구가 너무 운동만 해', '남자친구가 너무 잘생겼어']\n"
          ],
          "name": "stdout"
        }
      ]
    },
    {
      "cell_type": "code",
      "metadata": {
        "colab": {
          "base_uri": "https://localhost:8080/"
        },
        "id": "T91Qj8ToF-Ye",
        "outputId": "db341c69-963b-40a0-cc56-c3d706834fa0"
      },
      "source": [
        "path_vocab = './vocabulary.txt'\n",
        "char2idx, idx2char, vocab_size = pp.load_vocabulary(path_csv, path_vocab)\n",
        "type(char2idx), type(idx2char), type(vocab_size)"
      ],
      "execution_count": 7,
      "outputs": [
        {
          "output_type": "execute_result",
          "data": {
            "text/plain": [
              "(dict, dict, int)"
            ]
          },
          "metadata": {},
          "execution_count": 7
        }
      ]
    },
    {
      "cell_type": "code",
      "metadata": {
        "colab": {
          "base_uri": "https://localhost:8080/"
        },
        "id": "InBFv80yP6yu",
        "outputId": "971886bf-1b94-49c8-978a-642ec57086a9"
      },
      "source": [
        "print(char2idx)\n",
        "print(idx2char)\n",
        "print(vocab_size)"
      ],
      "execution_count": 8,
      "outputs": [
        {
          "output_type": "stream",
          "text": [
            "{'<PAD>': 0, '<SOS>': 1, '<END>': 2, '<UNK>': 3, '운동': 4, '가상화폐': 5, '나온거': 6, '있어도': 7, '적당히': 8, '오늘': 9, '것': 10, '좋을': 11, '돈은': 12, '운동만': 13, '걸리겠어': 14, '훈훈해': 15, '달에는': 16, '빨리': 17, '전생에': 18, '데려가고': 19, '가난한': 20, '혼자를': 21, '생일인데': 22, '너무': 23, '쫄딱': 24, '때까지': 25, '같아': 26, '뭐가': 27, '생각해보세요': 28, '켜놓고': 29, '자의': 30, '좀': 31, '거예요': 32, '잘생겼어': 33, '운동을': 34, '좋다': 35, '구하셨나요': 36, '그': 37, '사세요': 38, '빠를수록': 39, '선물로': 40, '가끔': 41, '필요했던': 42, '같아요': 43, '사람도': 44, '갔어': 45, '평소에': 46, '마세요': 47, '식혀주세요': 48, '새출발': 49, '해보세요': 50, '즐기세요': 51, '따라': 52, '끄고': 53, '좋을까': 54, '승진': 55, '결단은': 56, '어서': 57, '들어올': 58, '나갔어': 59, '바빠': 60, '열': 61, '망함': 62, '궁금해': 63, '거짓말': 64, '남자친구가': 65, '땀을': 66, '가스불': 67, '돌아가서': 68, '게': 69, '남자친구': 70, '비싼데': 71, '나오세요': 72, '따뜻하게': 73, '나': 74, '좋아요': 75, '많이': 76, '가스비': 77, '집착하지': 78, '땀난다': 79, '뭐하는지': 80, '다시': 81, '더': 82, '해': 83, '보인다': 84, '하세요': 85, '나라를': 86, '필요한': 87, '마음을': 88, '나왔다': 89, '잊고': 90, '안': 91, '믿어줘': 92, '가만': 93, '켜고': 94, '혼자인게': 95, '감기': 96, '집에': 97, '가끔은': 98, '절약해봐요': 99, '다음': 100, '설득해보세요': 101, '질린다': 102, '싶어': 103, '줄까': 104, '함께': 105, '또': 106, '설움': 107, '뭘': 108, '그럴': 109, '교회': 110}\n",
            "{0: '<PAD>', 1: '<SOS>', 2: '<END>', 3: '<UNK>', 4: '운동', 5: '가상화폐', 6: '나온거', 7: '있어도', 8: '적당히', 9: '오늘', 10: '것', 11: '좋을', 12: '돈은', 13: '운동만', 14: '걸리겠어', 15: '훈훈해', 16: '달에는', 17: '빨리', 18: '전생에', 19: '데려가고', 20: '가난한', 21: '혼자를', 22: '생일인데', 23: '너무', 24: '쫄딱', 25: '때까지', 26: '같아', 27: '뭐가', 28: '생각해보세요', 29: '켜놓고', 30: '자의', 31: '좀', 32: '거예요', 33: '잘생겼어', 34: '운동을', 35: '좋다', 36: '구하셨나요', 37: '그', 38: '사세요', 39: '빠를수록', 40: '선물로', 41: '가끔', 42: '필요했던', 43: '같아요', 44: '사람도', 45: '갔어', 46: '평소에', 47: '마세요', 48: '식혀주세요', 49: '새출발', 50: '해보세요', 51: '즐기세요', 52: '따라', 53: '끄고', 54: '좋을까', 55: '승진', 56: '결단은', 57: '어서', 58: '들어올', 59: '나갔어', 60: '바빠', 61: '열', 62: '망함', 63: '궁금해', 64: '거짓말', 65: '남자친구가', 66: '땀을', 67: '가스불', 68: '돌아가서', 69: '게', 70: '남자친구', 71: '비싼데', 72: '나오세요', 73: '따뜻하게', 74: '나', 75: '좋아요', 76: '많이', 77: '가스비', 78: '집착하지', 79: '땀난다', 80: '뭐하는지', 81: '다시', 82: '더', 83: '해', 84: '보인다', 85: '하세요', 86: '나라를', 87: '필요한', 88: '마음을', 89: '나왔다', 90: '잊고', 91: '안', 92: '믿어줘', 93: '가만', 94: '켜고', 95: '혼자인게', 96: '감기', 97: '집에', 98: '가끔은', 99: '절약해봐요', 100: '다음', 101: '설득해보세요', 102: '질린다', 103: '싶어', 104: '줄까', 105: '함께', 106: '또', 107: '설움', 108: '뭘', 109: '그럴', 110: '교회'}\n",
            "111\n"
          ],
          "name": "stdout"
        }
      ]
    },
    {
      "cell_type": "code",
      "metadata": {
        "colab": {
          "base_uri": "https://localhost:8080/"
        },
        "id": "do1eFzXyP_Fm",
        "outputId": "236ce263-5efe-4f1b-c9eb-d38c59e4c7a8"
      },
      "source": [
        "idx_inputs, input_seq_len = pp.enc_processing(inputs, char2idx)\n",
        "type(idx_inputs), len(input_seq_len)"
      ],
      "execution_count": 10,
      "outputs": [
        {
          "output_type": "execute_result",
          "data": {
            "text/plain": [
              "(numpy.ndarray, 20)"
            ]
          },
          "metadata": {},
          "execution_count": 10
        }
      ]
    },
    {
      "cell_type": "code",
      "metadata": {
        "colab": {
          "base_uri": "https://localhost:8080/"
        },
        "id": "0p_Oplg2RZNN",
        "outputId": "abd4c2a8-7009-4843-e230-69ab143532f6"
      },
      "source": [
        "idx_inputs[3:5]"
      ],
      "execution_count": 11,
      "outputs": [
        {
          "output_type": "execute_result",
          "data": {
            "text/plain": [
              "array([[ 20,  30, 107,   0,   0,   0,   0,   0,   0,   0,   0,   0,   0,\n",
              "          0,   0,   0,   0,   0,   0,   0,   0,   0,   0,   0,   0],\n",
              "       [ 93,   7,  79,   0,   0,   0,   0,   0,   0,   0,   0,   0,   0,\n",
              "          0,   0,   0,   0,   0,   0,   0,   0,   0,   0,   0,   0]])"
            ]
          },
          "metadata": {},
          "execution_count": 11
        }
      ]
    },
    {
      "cell_type": "code",
      "metadata": {
        "colab": {
          "base_uri": "https://localhost:8080/"
        },
        "id": "Vm6FpzgXRhq6",
        "outputId": "72461824-9c80-424a-fb61-541b93bebf64"
      },
      "source": [
        "idx_outputs, output_seq_len = pp.dec_output_processing(outputs, char2idx)\n",
        "type(idx_outputs), len(output_seq_len)"
      ],
      "execution_count": 14,
      "outputs": [
        {
          "output_type": "execute_result",
          "data": {
            "text/plain": [
              "(numpy.ndarray, 20)"
            ]
          },
          "metadata": {},
          "execution_count": 14
        }
      ]
    },
    {
      "cell_type": "code",
      "metadata": {
        "colab": {
          "base_uri": "https://localhost:8080/"
        },
        "id": "6Vev8F4RR6lY",
        "outputId": "4108ae07-0f28-4d84-cc9e-8d0c7e431645"
      },
      "source": [
        "idx_outputs[3:5]"
      ],
      "execution_count": 15,
      "outputs": [
        {
          "output_type": "execute_result",
          "data": {
            "text/plain": [
              "array([[ 1, 12, 81, 58, 32,  0,  0,  0,  0,  0,  0,  0,  0,  0,  0,  0,\n",
              "         0,  0,  0,  0,  0,  0,  0,  0,  0],\n",
              "       [ 1, 66, 48,  0,  0,  0,  0,  0,  0,  0,  0,  0,  0,  0,  0,  0,\n",
              "         0,  0,  0,  0,  0,  0,  0,  0,  0]])"
            ]
          },
          "metadata": {},
          "execution_count": 15
        }
      ]
    },
    {
      "cell_type": "code",
      "metadata": {
        "colab": {
          "base_uri": "https://localhost:8080/"
        },
        "id": "qr6n-vOGSQAi",
        "outputId": "6fe86acf-309b-4923-cb27-8ff290daa859"
      },
      "source": [
        "idx_targets = pp.dec_target_processing(outputs, char2idx)\n",
        "type(idx_targets), len(idx_targets)"
      ],
      "execution_count": 16,
      "outputs": [
        {
          "output_type": "execute_result",
          "data": {
            "text/plain": [
              "(numpy.ndarray, 20)"
            ]
          },
          "metadata": {},
          "execution_count": 16
        }
      ]
    },
    {
      "cell_type": "code",
      "metadata": {
        "colab": {
          "base_uri": "https://localhost:8080/"
        },
        "id": "1rkvNJqpSea-",
        "outputId": "fb08e578-aa25-4f9e-f50a-9531d278eefc"
      },
      "source": [
        "idx_targets[3:5]"
      ],
      "execution_count": 17,
      "outputs": [
        {
          "output_type": "execute_result",
          "data": {
            "text/plain": [
              "array([[12, 81, 58, 32,  2,  0,  0,  0,  0,  0,  0,  0,  0,  0,  0,  0,\n",
              "         0,  0,  0,  0,  0,  0,  0,  0,  0],\n",
              "       [66, 48,  2,  0,  0,  0,  0,  0,  0,  0,  0,  0,  0,  0,  0,  0,\n",
              "         0,  0,  0,  0,  0,  0,  0,  0,  0]])"
            ]
          },
          "metadata": {},
          "execution_count": 17
        }
      ]
    },
    {
      "cell_type": "code",
      "metadata": {
        "id": "tb-vRCLiUkkj"
      },
      "source": [
        "import numpy as np"
      ],
      "execution_count": 19,
      "outputs": []
    },
    {
      "cell_type": "code",
      "metadata": {
        "id": "wZvmZbTjUki5"
      },
      "source": [
        "np.save(open('./train_inputs.npy', 'wb'), idx_inputs)"
      ],
      "execution_count": 22,
      "outputs": []
    },
    {
      "cell_type": "code",
      "metadata": {
        "id": "Ug1Ta8JyUkdm"
      },
      "source": [
        "np.save(open('./train_outputs.npy', 'wb'), idx_inputs)"
      ],
      "execution_count": 23,
      "outputs": []
    },
    {
      "cell_type": "code",
      "metadata": {
        "id": "y3z86BHTVXVM"
      },
      "source": [
        "np.save(open('./train_targets.npy', 'wb'), idx_inputs)"
      ],
      "execution_count": 24,
      "outputs": []
    },
    {
      "cell_type": "code",
      "metadata": {
        "id": "kH5oqEzXVutW"
      },
      "source": [
        "data_configs = dict()"
      ],
      "execution_count": 25,
      "outputs": []
    },
    {
      "cell_type": "code",
      "metadata": {
        "id": "RUm8cYihVdyU"
      },
      "source": [
        "data_configs['char2idx'] = char2idx\n",
        "data_configs['idx2char'] = idx2char\n",
        "data_configs['vocab_size'] = vocab_size\n",
        "\n",
        "data_configs['pad_symbol'] = '<PAD>'\n",
        "data_configs['std_symbol'] = '<STD>'\n",
        "data_configs['end_symbol'] = '<END>'\n",
        "data_configs['unk_symbol'] = '<UNK>'"
      ],
      "execution_count": 26,
      "outputs": []
    },
    {
      "cell_type": "code",
      "metadata": {
        "id": "ny4kCiE9Weub"
      },
      "source": [
        "pp.json.dump(data_configs, open('./data_config.json', 'w'))"
      ],
      "execution_count": 27,
      "outputs": []
    },
    {
      "cell_type": "code",
      "metadata": {
        "id": "GcDBDfEOWwwg"
      },
      "source": [
        ""
      ],
      "execution_count": null,
      "outputs": []
    }
  ]
}