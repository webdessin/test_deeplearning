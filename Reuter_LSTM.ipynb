{
  "nbformat": 4,
  "nbformat_minor": 0,
  "metadata": {
    "colab": {
      "name": "Reuter_LSTM.ipynb",
      "provenance": [],
      "collapsed_sections": [],
      "authorship_tag": "ABX9TyM4qXh1nuBiOMM/KO/GC7vB"
    },
    "kernelspec": {
      "name": "python3",
      "display_name": "Python 3"
    },
    "language_info": {
      "name": "python"
    }
  },
  "cells": [
    {
      "cell_type": "code",
      "metadata": {
        "id": "p_ExzVUp3HvR"
      },
      "source": [
        "import tensorflow as tf"
      ],
      "execution_count": 32,
      "outputs": []
    },
    {
      "cell_type": "code",
      "metadata": {
        "colab": {
          "base_uri": "https://localhost:8080/"
        },
        "id": "Bp5wZF8s4Rol",
        "outputId": "92163dd0-c869-4d17-df6b-9872544a273a"
      },
      "source": [
        "(x_train, y_train), (x_test, y_test) = tf.keras.datasets.reuters.load_data(num_words=10000)\n",
        "x_train.shape, y_train.shape, x_test.shape, y_test.shape"
      ],
      "execution_count": 33,
      "outputs": [
        {
          "output_type": "stream",
          "text": [
            "/usr/local/lib/python3.7/dist-packages/tensorflow/python/keras/datasets/reuters.py:143: VisibleDeprecationWarning: Creating an ndarray from ragged nested sequences (which is a list-or-tuple of lists-or-tuples-or ndarrays with different lengths or shapes) is deprecated. If you meant to do this, you must specify 'dtype=object' when creating the ndarray\n",
            "  x_train, y_train = np.array(xs[:idx]), np.array(labels[:idx])\n",
            "/usr/local/lib/python3.7/dist-packages/tensorflow/python/keras/datasets/reuters.py:144: VisibleDeprecationWarning: Creating an ndarray from ragged nested sequences (which is a list-or-tuple of lists-or-tuples-or ndarrays with different lengths or shapes) is deprecated. If you meant to do this, you must specify 'dtype=object' when creating the ndarray\n",
            "  x_test, y_test = np.array(xs[idx:]), np.array(labels[idx:])\n"
          ],
          "name": "stderr"
        },
        {
          "output_type": "execute_result",
          "data": {
            "text/plain": [
              "((8982,), (8982,), (2246,), (2246,))"
            ]
          },
          "metadata": {
            "tags": []
          },
          "execution_count": 33
        }
      ]
    },
    {
      "cell_type": "code",
      "metadata": {
        "colab": {
          "base_uri": "https://localhost:8080/"
        },
        "id": "LwDTZT9y6D67",
        "outputId": "84d959f0-219a-45e1-86a1-b3e7ca22c4c0"
      },
      "source": [
        "print(y_train[50], x_train[50])"
      ],
      "execution_count": 34,
      "outputs": [
        {
          "output_type": "stream",
          "text": [
            "4 [1, 1479, 1197, 71, 8, 25, 1479, 1197, 640, 71, 304, 471, 80, 9, 1379, 1901, 4530, 6797, 79, 5, 8144, 71, 175, 80, 58, 4, 1279, 5, 63, 32, 20, 5, 4, 326, 175, 80, 335, 7, 10, 845, 31, 4, 221, 9, 108, 259, 1479, 1197, 640, 8, 16, 600, 69, 68, 11, 15, 6, 8144, 21, 397, 321, 6, 438, 1761, 3072, 79, 5, 8144, 1040, 894, 1051, 617, 80, 4, 617, 80, 23, 1051, 172, 3814, 3206, 8144, 175, 79, 9, 1379, 6, 264, 395, 3814, 3206, 79, 1479, 1197, 9, 25, 323, 8, 4, 8144, 80, 23, 381, 43, 42, 205, 50, 77, 33, 909, 9, 3509, 22, 216, 6, 216, 17, 12]\n"
          ],
          "name": "stdout"
        }
      ]
    },
    {
      "cell_type": "code",
      "metadata": {
        "colab": {
          "base_uri": "https://localhost:8080/"
        },
        "id": "3-OlXF066Rei",
        "outputId": "ee0af624-29f4-4259-deeb-d62ea1b1b675"
      },
      "source": [
        "len(x_train[50]), len(x_train[400]), len(x_train[200])"
      ],
      "execution_count": 35,
      "outputs": [
        {
          "output_type": "execute_result",
          "data": {
            "text/plain": [
              "(118, 90, 212)"
            ]
          },
          "metadata": {
            "tags": []
          },
          "execution_count": 35
        }
      ]
    },
    {
      "cell_type": "code",
      "metadata": {
        "colab": {
          "base_uri": "https://localhost:8080/"
        },
        "id": "gfxPgCr5BWVu",
        "outputId": "2380aaf7-3cae-4208-9051-ea473c17b18d"
      },
      "source": [
        "pad_x_train = tf.keras.preprocessing.sequence.pad_sequences(x_train, maxlen=500)\n",
        "len(pad_x_train[50])"
      ],
      "execution_count": 36,
      "outputs": [
        {
          "output_type": "execute_result",
          "data": {
            "text/plain": [
              "500"
            ]
          },
          "metadata": {
            "tags": []
          },
          "execution_count": 36
        }
      ]
    },
    {
      "cell_type": "code",
      "metadata": {
        "id": "JfhddFe5EXi8"
      },
      "source": [
        "import numpy as np"
      ],
      "execution_count": 37,
      "outputs": []
    },
    {
      "cell_type": "code",
      "metadata": {
        "colab": {
          "base_uri": "https://localhost:8080/"
        },
        "id": "drREmTtpEaDF",
        "outputId": "49f199a2-db5b-4b63-c351-486445a86652"
      },
      "source": [
        "np.unique(y_train).shape, np.unique(y_train)"
      ],
      "execution_count": 38,
      "outputs": [
        {
          "output_type": "execute_result",
          "data": {
            "text/plain": [
              "((46,),\n",
              " array([ 0,  1,  2,  3,  4,  5,  6,  7,  8,  9, 10, 11, 12, 13, 14, 15, 16,\n",
              "        17, 18, 19, 20, 21, 22, 23, 24, 25, 26, 27, 28, 29, 30, 31, 32, 33,\n",
              "        34, 35, 36, 37, 38, 39, 40, 41, 42, 43, 44, 45]))"
            ]
          },
          "metadata": {
            "tags": []
          },
          "execution_count": 38
        }
      ]
    },
    {
      "cell_type": "markdown",
      "metadata": {
        "id": "jqOJ5Lfh7iMP"
      },
      "source": [
        "# make model"
      ]
    },
    {
      "cell_type": "code",
      "metadata": {
        "id": "2xWKHIEZ7lX3"
      },
      "source": [
        "model = tf.keras.models.Sequential()"
      ],
      "execution_count": 39,
      "outputs": []
    },
    {
      "cell_type": "code",
      "metadata": {
        "id": "xDAtZxTQ7lVG"
      },
      "source": [
        "model.add(tf.keras.layers.Embedding(input_dim = 10000, output_dim = 24, input_length = 500)) # input layer\n",
        "model.add(tf.keras.layers.LSTM(24, return_sequences=True, activation='tanh'))\n",
        "model.add(tf.keras.layers.LSTM(12, activation='tanh'))\n",
        "# model.add(tf.keras.layers.Flatten())       # hidden layer\n",
        "model.add(tf.keras.layers.Dense(46, activation='softmax'))       # output layer\n",
        "\n",
        "model.compile(optimizer = 'adam', loss = 'sparse_categorical_crossentropy', metrics = ['acc']) # gadget"
      ],
      "execution_count": 40,
      "outputs": []
    },
    {
      "cell_type": "code",
      "metadata": {
        "colab": {
          "base_uri": "https://localhost:8080/"
        },
        "id": "X5yViolz7lSm",
        "outputId": "f4ef7969-b202-4031-efea-3f38ded7506f"
      },
      "source": [
        "# hist = model.fit(pad_x_train, y_train, epochs=5, validation_split=0.3, batch_size=128)\n",
        "hist = model.fit(pad_x_train, y_train, epochs=100, validation_split=0.3, batch_size=256)"
      ],
      "execution_count": 41,
      "outputs": [
        {
          "output_type": "stream",
          "text": [
            "Epoch 1/100\n",
            "25/25 [==============================] - 23s 765ms/step - loss: 3.7162 - acc: 0.2941 - val_loss: 3.4252 - val_acc: 0.3532\n",
            "Epoch 2/100\n",
            "25/25 [==============================] - 18s 735ms/step - loss: 3.2217 - acc: 0.3510 - val_loss: 2.9977 - val_acc: 0.3532\n",
            "Epoch 3/100\n",
            "25/25 [==============================] - 19s 750ms/step - loss: 2.8443 - acc: 0.3510 - val_loss: 2.6756 - val_acc: 0.3532\n",
            "Epoch 4/100\n",
            "25/25 [==============================] - 19s 750ms/step - loss: 2.6061 - acc: 0.3510 - val_loss: 2.5135 - val_acc: 0.3532\n",
            "Epoch 5/100\n",
            "25/25 [==============================] - 19s 747ms/step - loss: 2.5009 - acc: 0.3510 - val_loss: 2.4469 - val_acc: 0.3532\n",
            "Epoch 6/100\n",
            "25/25 [==============================] - 19s 747ms/step - loss: 2.4585 - acc: 0.3510 - val_loss: 2.4190 - val_acc: 0.3532\n",
            "Epoch 7/100\n",
            "25/25 [==============================] - 18s 740ms/step - loss: 2.4396 - acc: 0.3510 - val_loss: 2.4052 - val_acc: 0.3532\n",
            "Epoch 8/100\n",
            "25/25 [==============================] - 18s 734ms/step - loss: 2.4294 - acc: 0.3510 - val_loss: 2.3975 - val_acc: 0.3532\n",
            "Epoch 9/100\n",
            "25/25 [==============================] - 19s 754ms/step - loss: 2.4237 - acc: 0.3510 - val_loss: 2.3923 - val_acc: 0.3532\n",
            "Epoch 10/100\n",
            "25/25 [==============================] - 19s 745ms/step - loss: 2.4199 - acc: 0.3510 - val_loss: 2.3897 - val_acc: 0.3532\n",
            "Epoch 11/100\n",
            "25/25 [==============================] - 18s 739ms/step - loss: 2.4176 - acc: 0.3510 - val_loss: 2.3877 - val_acc: 0.3532\n",
            "Epoch 12/100\n",
            "25/25 [==============================] - 18s 739ms/step - loss: 2.4161 - acc: 0.3510 - val_loss: 2.3865 - val_acc: 0.3532\n",
            "Epoch 13/100\n",
            "25/25 [==============================] - 18s 735ms/step - loss: 2.4147 - acc: 0.3510 - val_loss: 2.3853 - val_acc: 0.3532\n",
            "Epoch 14/100\n",
            "25/25 [==============================] - 18s 734ms/step - loss: 2.4142 - acc: 0.3510 - val_loss: 2.3846 - val_acc: 0.3532\n",
            "Epoch 15/100\n",
            "25/25 [==============================] - 18s 738ms/step - loss: 2.4133 - acc: 0.3510 - val_loss: 2.3842 - val_acc: 0.3532\n",
            "Epoch 16/100\n",
            "25/25 [==============================] - 18s 740ms/step - loss: 2.4129 - acc: 0.3510 - val_loss: 2.3839 - val_acc: 0.3532\n",
            "Epoch 17/100\n",
            "25/25 [==============================] - 18s 736ms/step - loss: 2.4126 - acc: 0.3510 - val_loss: 2.3838 - val_acc: 0.3532\n",
            "Epoch 18/100\n",
            "25/25 [==============================] - 18s 740ms/step - loss: 2.4123 - acc: 0.3510 - val_loss: 2.3834 - val_acc: 0.3532\n",
            "Epoch 19/100\n",
            "25/25 [==============================] - 18s 733ms/step - loss: 2.4124 - acc: 0.3510 - val_loss: 2.3830 - val_acc: 0.3532\n",
            "Epoch 20/100\n",
            "25/25 [==============================] - 19s 746ms/step - loss: 2.4120 - acc: 0.3510 - val_loss: 2.3831 - val_acc: 0.3532\n",
            "Epoch 21/100\n",
            "25/25 [==============================] - 18s 735ms/step - loss: 2.4120 - acc: 0.3510 - val_loss: 2.3832 - val_acc: 0.3532\n",
            "Epoch 22/100\n",
            "25/25 [==============================] - 19s 744ms/step - loss: 2.4120 - acc: 0.3510 - val_loss: 2.3830 - val_acc: 0.3532\n",
            "Epoch 23/100\n",
            "25/25 [==============================] - 18s 735ms/step - loss: 2.4118 - acc: 0.3510 - val_loss: 2.3827 - val_acc: 0.3532\n",
            "Epoch 24/100\n",
            "25/25 [==============================] - 18s 733ms/step - loss: 2.4116 - acc: 0.3510 - val_loss: 2.3829 - val_acc: 0.3532\n",
            "Epoch 25/100\n",
            "25/25 [==============================] - 18s 738ms/step - loss: 2.4118 - acc: 0.3510 - val_loss: 2.3827 - val_acc: 0.3532\n",
            "Epoch 26/100\n",
            "25/25 [==============================] - 18s 733ms/step - loss: 2.4117 - acc: 0.3510 - val_loss: 2.3824 - val_acc: 0.3532\n",
            "Epoch 27/100\n",
            "25/25 [==============================] - 18s 738ms/step - loss: 2.4118 - acc: 0.3510 - val_loss: 2.3828 - val_acc: 0.3532\n",
            "Epoch 28/100\n",
            "25/25 [==============================] - 19s 747ms/step - loss: 2.4116 - acc: 0.3510 - val_loss: 2.3827 - val_acc: 0.3532\n",
            "Epoch 29/100\n",
            "25/25 [==============================] - 19s 746ms/step - loss: 2.4118 - acc: 0.3510 - val_loss: 2.3824 - val_acc: 0.3532\n",
            "Epoch 30/100\n",
            "25/25 [==============================] - 18s 739ms/step - loss: 2.4115 - acc: 0.3510 - val_loss: 2.3824 - val_acc: 0.3532\n",
            "Epoch 31/100\n",
            "25/25 [==============================] - 19s 747ms/step - loss: 2.4115 - acc: 0.3510 - val_loss: 2.3824 - val_acc: 0.3532\n",
            "Epoch 32/100\n",
            "25/25 [==============================] - 19s 751ms/step - loss: 2.4115 - acc: 0.3510 - val_loss: 2.3824 - val_acc: 0.3532\n",
            "Epoch 33/100\n",
            "25/25 [==============================] - 19s 743ms/step - loss: 2.4113 - acc: 0.3510 - val_loss: 2.3814 - val_acc: 0.3532\n",
            "Epoch 34/100\n",
            "25/25 [==============================] - 19s 745ms/step - loss: 2.4060 - acc: 0.3510 - val_loss: 2.3645 - val_acc: 0.3532\n",
            "Epoch 35/100\n",
            "25/25 [==============================] - 18s 743ms/step - loss: 2.3558 - acc: 0.3510 - val_loss: 2.2878 - val_acc: 0.3532\n",
            "Epoch 36/100\n",
            "25/25 [==============================] - 18s 738ms/step - loss: 2.2816 - acc: 0.4056 - val_loss: 2.2287 - val_acc: 0.5291\n",
            "Epoch 37/100\n",
            "25/25 [==============================] - 19s 747ms/step - loss: 2.2274 - acc: 0.5276 - val_loss: 2.1936 - val_acc: 0.5224\n",
            "Epoch 38/100\n",
            "25/25 [==============================] - 18s 742ms/step - loss: 2.1614 - acc: 0.5437 - val_loss: 2.1460 - val_acc: 0.5224\n",
            "Epoch 39/100\n",
            "25/25 [==============================] - 19s 744ms/step - loss: 2.1067 - acc: 0.5456 - val_loss: 2.1128 - val_acc: 0.5269\n",
            "Epoch 40/100\n",
            "25/25 [==============================] - 18s 735ms/step - loss: 2.0566 - acc: 0.5503 - val_loss: 2.0735 - val_acc: 0.5295\n",
            "Epoch 41/100\n",
            "25/25 [==============================] - 18s 736ms/step - loss: 2.0160 - acc: 0.5519 - val_loss: 2.0829 - val_acc: 0.5169\n",
            "Epoch 42/100\n",
            "25/25 [==============================] - 18s 739ms/step - loss: 1.9803 - acc: 0.5535 - val_loss: 2.0367 - val_acc: 0.5291\n",
            "Epoch 43/100\n",
            "25/25 [==============================] - 18s 728ms/step - loss: 1.9547 - acc: 0.5527 - val_loss: 2.0441 - val_acc: 0.5269\n",
            "Epoch 44/100\n",
            "25/25 [==============================] - 18s 735ms/step - loss: 1.9312 - acc: 0.5534 - val_loss: 2.0114 - val_acc: 0.5299\n",
            "Epoch 45/100\n",
            "25/25 [==============================] - 18s 740ms/step - loss: 1.8964 - acc: 0.5546 - val_loss: 1.9988 - val_acc: 0.5247\n",
            "Epoch 46/100\n",
            "25/25 [==============================] - 18s 741ms/step - loss: 1.8674 - acc: 0.5543 - val_loss: 1.9809 - val_acc: 0.5243\n",
            "Epoch 47/100\n",
            "25/25 [==============================] - 18s 742ms/step - loss: 1.8383 - acc: 0.5556 - val_loss: 1.9677 - val_acc: 0.5273\n",
            "Epoch 48/100\n",
            "25/25 [==============================] - 19s 753ms/step - loss: 1.8150 - acc: 0.5557 - val_loss: 1.9479 - val_acc: 0.5269\n",
            "Epoch 49/100\n",
            "25/25 [==============================] - 18s 738ms/step - loss: 1.7877 - acc: 0.5551 - val_loss: 1.9528 - val_acc: 0.5180\n",
            "Epoch 50/100\n",
            "25/25 [==============================] - 19s 747ms/step - loss: 1.7595 - acc: 0.5556 - val_loss: 1.9414 - val_acc: 0.5288\n",
            "Epoch 51/100\n",
            "25/25 [==============================] - 19s 750ms/step - loss: 1.7413 - acc: 0.5565 - val_loss: 1.9495 - val_acc: 0.5154\n",
            "Epoch 52/100\n",
            "25/25 [==============================] - 18s 743ms/step - loss: 1.7163 - acc: 0.5567 - val_loss: 1.9206 - val_acc: 0.5317\n",
            "Epoch 53/100\n",
            "25/25 [==============================] - 18s 732ms/step - loss: 1.7055 - acc: 0.5578 - val_loss: 1.9105 - val_acc: 0.5299\n",
            "Epoch 54/100\n",
            "25/25 [==============================] - 19s 746ms/step - loss: 1.6818 - acc: 0.5887 - val_loss: 1.9436 - val_acc: 0.5377\n",
            "Epoch 55/100\n",
            "25/25 [==============================] - 19s 752ms/step - loss: 1.6800 - acc: 0.5973 - val_loss: 1.9288 - val_acc: 0.5414\n",
            "Epoch 56/100\n",
            "25/25 [==============================] - 18s 733ms/step - loss: 1.6560 - acc: 0.6039 - val_loss: 1.9146 - val_acc: 0.5284\n",
            "Epoch 57/100\n",
            "25/25 [==============================] - 18s 736ms/step - loss: 1.6330 - acc: 0.6054 - val_loss: 1.8712 - val_acc: 0.5399\n",
            "Epoch 58/100\n",
            "25/25 [==============================] - 18s 732ms/step - loss: 1.6116 - acc: 0.6062 - val_loss: 1.8726 - val_acc: 0.5440\n",
            "Epoch 59/100\n",
            "25/25 [==============================] - 18s 728ms/step - loss: 1.5987 - acc: 0.6066 - val_loss: 1.8633 - val_acc: 0.5455\n",
            "Epoch 60/100\n",
            "25/25 [==============================] - 18s 731ms/step - loss: 1.7723 - acc: 0.6046 - val_loss: 1.9797 - val_acc: 0.5403\n",
            "Epoch 61/100\n",
            "25/25 [==============================] - 18s 739ms/step - loss: 1.7228 - acc: 0.6073 - val_loss: 1.9104 - val_acc: 0.5414\n",
            "Epoch 62/100\n",
            "25/25 [==============================] - 18s 736ms/step - loss: 1.6721 - acc: 0.6105 - val_loss: 1.8819 - val_acc: 0.5477\n",
            "Epoch 63/100\n",
            "25/25 [==============================] - 18s 736ms/step - loss: 1.6558 - acc: 0.6097 - val_loss: 1.8778 - val_acc: 0.5447\n",
            "Epoch 64/100\n",
            "25/25 [==============================] - 18s 736ms/step - loss: 1.6452 - acc: 0.6105 - val_loss: 1.8813 - val_acc: 0.5425\n",
            "Epoch 65/100\n",
            "25/25 [==============================] - 18s 734ms/step - loss: 1.6332 - acc: 0.6116 - val_loss: 1.8854 - val_acc: 0.5481\n",
            "Epoch 66/100\n",
            "25/25 [==============================] - 18s 740ms/step - loss: 1.6214 - acc: 0.6114 - val_loss: 1.8984 - val_acc: 0.5358\n",
            "Epoch 67/100\n",
            "25/25 [==============================] - 19s 762ms/step - loss: 1.5804 - acc: 0.6119 - val_loss: 1.8525 - val_acc: 0.5403\n",
            "Epoch 68/100\n",
            "25/25 [==============================] - 19s 752ms/step - loss: 1.5314 - acc: 0.6113 - val_loss: 1.8214 - val_acc: 0.5443\n",
            "Epoch 69/100\n",
            "25/25 [==============================] - 18s 733ms/step - loss: 1.4977 - acc: 0.6116 - val_loss: 1.8072 - val_acc: 0.5447\n",
            "Epoch 70/100\n",
            "25/25 [==============================] - 18s 735ms/step - loss: 1.4762 - acc: 0.6122 - val_loss: 1.7898 - val_acc: 0.5481\n",
            "Epoch 71/100\n",
            "25/25 [==============================] - 18s 738ms/step - loss: 1.4468 - acc: 0.6119 - val_loss: 1.7788 - val_acc: 0.5429\n",
            "Epoch 72/100\n",
            "25/25 [==============================] - 18s 743ms/step - loss: 1.4092 - acc: 0.6195 - val_loss: 1.7554 - val_acc: 0.5659\n",
            "Epoch 73/100\n",
            "25/25 [==============================] - 18s 738ms/step - loss: 1.3967 - acc: 0.6332 - val_loss: 1.7780 - val_acc: 0.5644\n",
            "Epoch 74/100\n",
            "25/25 [==============================] - 18s 731ms/step - loss: 1.3597 - acc: 0.6364 - val_loss: 1.7515 - val_acc: 0.5625\n",
            "Epoch 75/100\n",
            "25/25 [==============================] - 18s 740ms/step - loss: 1.3285 - acc: 0.6447 - val_loss: 1.7739 - val_acc: 0.5581\n",
            "Epoch 76/100\n",
            "25/25 [==============================] - 18s 735ms/step - loss: 1.3130 - acc: 0.6467 - val_loss: 1.7762 - val_acc: 0.5640\n",
            "Epoch 77/100\n",
            "25/25 [==============================] - 18s 742ms/step - loss: 1.2855 - acc: 0.6515 - val_loss: 1.7703 - val_acc: 0.5659\n",
            "Epoch 78/100\n",
            "25/25 [==============================] - 19s 744ms/step - loss: 1.2658 - acc: 0.6512 - val_loss: 1.8018 - val_acc: 0.5555\n",
            "Epoch 79/100\n",
            "25/25 [==============================] - 18s 733ms/step - loss: 1.2432 - acc: 0.6544 - val_loss: 1.7830 - val_acc: 0.5618\n",
            "Epoch 80/100\n",
            "25/25 [==============================] - 18s 737ms/step - loss: 1.2304 - acc: 0.6590 - val_loss: 1.7898 - val_acc: 0.5584\n",
            "Epoch 81/100\n",
            "25/25 [==============================] - 18s 742ms/step - loss: 1.2300 - acc: 0.6560 - val_loss: 1.7916 - val_acc: 0.5599\n",
            "Epoch 82/100\n",
            "25/25 [==============================] - 18s 740ms/step - loss: 1.2447 - acc: 0.6553 - val_loss: 1.8315 - val_acc: 0.5555\n",
            "Epoch 83/100\n",
            "25/25 [==============================] - 18s 737ms/step - loss: 1.2146 - acc: 0.6556 - val_loss: 1.7894 - val_acc: 0.5647\n",
            "Epoch 84/100\n",
            "25/25 [==============================] - 18s 735ms/step - loss: 1.1890 - acc: 0.6593 - val_loss: 1.8079 - val_acc: 0.5607\n",
            "Epoch 85/100\n",
            "25/25 [==============================] - 18s 741ms/step - loss: 1.1659 - acc: 0.6645 - val_loss: 1.8375 - val_acc: 0.5518\n",
            "Epoch 86/100\n",
            "25/25 [==============================] - 19s 751ms/step - loss: 1.1524 - acc: 0.6669 - val_loss: 1.8415 - val_acc: 0.5614\n",
            "Epoch 87/100\n",
            "25/25 [==============================] - 18s 736ms/step - loss: 1.1488 - acc: 0.6700 - val_loss: 1.8334 - val_acc: 0.5603\n",
            "Epoch 88/100\n",
            "25/25 [==============================] - 18s 736ms/step - loss: 1.1413 - acc: 0.6698 - val_loss: 1.8505 - val_acc: 0.5514\n",
            "Epoch 89/100\n",
            "25/25 [==============================] - 18s 734ms/step - loss: 1.1235 - acc: 0.6695 - val_loss: 1.8566 - val_acc: 0.5488\n",
            "Epoch 90/100\n",
            "25/25 [==============================] - 18s 738ms/step - loss: 1.1186 - acc: 0.6704 - val_loss: 1.8457 - val_acc: 0.5636\n",
            "Epoch 91/100\n",
            "25/25 [==============================] - 18s 725ms/step - loss: 1.1009 - acc: 0.6731 - val_loss: 1.8726 - val_acc: 0.5647\n",
            "Epoch 92/100\n",
            "25/25 [==============================] - 18s 723ms/step - loss: 1.0865 - acc: 0.6752 - val_loss: 1.8792 - val_acc: 0.5577\n",
            "Epoch 93/100\n",
            "25/25 [==============================] - 18s 737ms/step - loss: 1.0746 - acc: 0.6784 - val_loss: 1.8837 - val_acc: 0.5529\n",
            "Epoch 94/100\n",
            "25/25 [==============================] - 18s 737ms/step - loss: 1.2140 - acc: 0.6609 - val_loss: 1.8963 - val_acc: 0.5592\n",
            "Epoch 95/100\n",
            "25/25 [==============================] - 18s 732ms/step - loss: 1.0929 - acc: 0.6803 - val_loss: 1.8716 - val_acc: 0.5640\n",
            "Epoch 96/100\n",
            "25/25 [==============================] - 18s 733ms/step - loss: 1.0688 - acc: 0.6852 - val_loss: 1.9067 - val_acc: 0.5510\n",
            "Epoch 97/100\n",
            "25/25 [==============================] - 18s 734ms/step - loss: 1.0534 - acc: 0.6875 - val_loss: 1.8821 - val_acc: 0.5596\n",
            "Epoch 98/100\n",
            "25/25 [==============================] - 18s 735ms/step - loss: 1.0440 - acc: 0.6924 - val_loss: 1.8784 - val_acc: 0.5610\n",
            "Epoch 99/100\n",
            "25/25 [==============================] - 18s 737ms/step - loss: 1.0349 - acc: 0.6956 - val_loss: 1.8922 - val_acc: 0.5618\n",
            "Epoch 100/100\n",
            "25/25 [==============================] - 19s 743ms/step - loss: 1.0264 - acc: 0.6946 - val_loss: 1.8979 - val_acc: 0.5592\n"
          ],
          "name": "stdout"
        }
      ]
    },
    {
      "cell_type": "markdown",
      "metadata": {
        "id": "76uoVgYnRee2"
      },
      "source": [
        "# Evaluation"
      ]
    },
    {
      "cell_type": "code",
      "metadata": {
        "colab": {
          "base_uri": "https://localhost:8080/"
        },
        "id": "qZ2g0agqIHUF",
        "outputId": "2151e319-a101-4cea-a3b2-c30c5e490421"
      },
      "source": [
        "# 학습 시켰던 데이터\n",
        "model.evaluate(pad_x_train, y_train)  # epoches: 5, batch_zise: 128 --> loss: 2.4052 (loss율이 너무 높음, 0으로 근접해야 함) - acc: 0.3517\n"
      ],
      "execution_count": 42,
      "outputs": [
        {
          "output_type": "stream",
          "text": [
            "281/281 [==============================] - 19s 68ms/step - loss: 1.2819 - acc: 0.6582\n"
          ],
          "name": "stdout"
        },
        {
          "output_type": "execute_result",
          "data": {
            "text/plain": [
              "[1.2818572521209717, 0.6582052707672119]"
            ]
          },
          "metadata": {
            "tags": []
          },
          "execution_count": 42
        }
      ]
    },
    {
      "cell_type": "code",
      "metadata": {
        "id": "oNI-0EQeUqmf"
      },
      "source": [
        "# # x_test 데이터 전처리\n",
        "# # pad_x_train = tf.keras.preprocessing.sequence.pad_sequences(x_train, maxlen=500)\n",
        "# pad_x_test = tf.keras.preprocessing.sequence.pad_sequences(x_test, maxlen=500)"
      ],
      "execution_count": null,
      "outputs": []
    },
    {
      "cell_type": "code",
      "metadata": {
        "id": "BCpZwbf9XOjc"
      },
      "source": [
        "# 데이터 전처리 function 만들기\n",
        "def pad_make(x_data):\n",
        "  pad_x = tf.keras.preprocessing.sequence.pad_sequences(x_data, maxlen=500)\n",
        "  return pad_x"
      ],
      "execution_count": 44,
      "outputs": []
    },
    {
      "cell_type": "code",
      "metadata": {
        "id": "lw6g-bT9X7in"
      },
      "source": [
        "pad_make_x = pad_make(x_test)"
      ],
      "execution_count": 45,
      "outputs": []
    },
    {
      "cell_type": "code",
      "metadata": {
        "colab": {
          "base_uri": "https://localhost:8080/"
        },
        "id": "_WfNQQasYOso",
        "outputId": "21c551d4-7c94-458c-9c51-043beb791174"
      },
      "source": [
        "model.evaluate(pad_make_x, y_test)"
      ],
      "execution_count": 46,
      "outputs": [
        {
          "output_type": "stream",
          "text": [
            "71/71 [==============================] - 5s 66ms/step - loss: 2.0218 - acc: 0.5392\n"
          ],
          "name": "stdout"
        },
        {
          "output_type": "execute_result",
          "data": {
            "text/plain": [
              "[2.021793842315674, 0.5391807556152344]"
            ]
          },
          "metadata": {
            "tags": []
          },
          "execution_count": 46
        }
      ]
    },
    {
      "cell_type": "code",
      "metadata": {
        "colab": {
          "base_uri": "https://localhost:8080/"
        },
        "id": "X1gBYHFLRdSl",
        "outputId": "38f33d5b-7ee1-48d4-d261-fd4cf1045bd2"
      },
      "source": [
        "# 학습 시키지 않은 데이터\n",
        "# model.evaluate(pad_x_test, y_test)    # loss: 2.4171 - acc: 0.3620 (학습시킨 데이터에 비해서 loss율이 높음 -> 모델 학습이 잘됨)"
      ],
      "execution_count": 47,
      "outputs": [
        {
          "output_type": "stream",
          "text": [
            "71/71 [==============================] - 5s 66ms/step - loss: 2.0218 - acc: 0.5392\n"
          ],
          "name": "stdout"
        },
        {
          "output_type": "execute_result",
          "data": {
            "text/plain": [
              "[2.021793842315674, 0.5391807556152344]"
            ]
          },
          "metadata": {
            "tags": []
          },
          "execution_count": 47
        }
      ]
    },
    {
      "cell_type": "code",
      "metadata": {
        "id": "H5-2BwEOUqaR"
      },
      "source": [
        "import matplotlib.pyplot as plt"
      ],
      "execution_count": 48,
      "outputs": []
    },
    {
      "cell_type": "code",
      "metadata": {
        "colab": {
          "base_uri": "https://localhost:8080/",
          "height": 265
        },
        "id": "DZ41WrIaVoQ8",
        "outputId": "15d856aa-a8ae-4848-817a-12a8c86d312b"
      },
      "source": [
        "plt.plot(hist.history['loss'])\n",
        "plt.plot(hist.history['val_loss'], 'r-')\n",
        "plt.show()"
      ],
      "execution_count": 52,
      "outputs": [
        {
          "output_type": "display_data",
          "data": {
            "image/png": "[encoded data removed]",
            "text/plain": [
              "<Figure size 432x288 with 1 Axes>"
            ]
          },
          "metadata": {
            "tags": [],
            "needs_background": "light"
          }
        }
      ]
    },
    {
      "cell_type": "code",
      "metadata": {
        "colab": {
          "base_uri": "https://localhost:8080/",
          "height": 265
        },
        "id": "MGt66DszWFlz",
        "outputId": "46a1c097-a6ff-4874-c9e8-9ca4e8588bad"
      },
      "source": [
        "plt.plot(hist.history['acc'])\n",
        "plt.plot(hist.history['val_acc'], 'r-')\n",
        "plt.show()"
      ],
      "execution_count": 53,
      "outputs": [
        {
          "output_type": "display_data",
          "data": {
            "image/png": "[encoded data removed]",
            "text/plain": [
              "<Figure size 432x288 with 1 Axes>"
            ]
          },
          "metadata": {
            "tags": [],
            "needs_background": "light"
          }
        }
      ]
    },
    {
      "cell_type": "code",
      "metadata": {
        "id": "ANaYzkMBWTi5"
      },
      "source": [
        "from sklearn.metrics import classification_report"
      ],
      "execution_count": 54,
      "outputs": []
    },
    {
      "cell_type": "code",
      "metadata": {
        "colab": {
          "base_uri": "https://localhost:8080/"
        },
        "id": "LE9a6ErUpY-L",
        "outputId": "03a925e6-6ac1-45a9-97a1-3806a2fcd667"
      },
      "source": [
        "y_train_pred = model.predict(pad_x_train)\n",
        "y_train_pred[0]"
      ],
      "execution_count": 56,
      "outputs": [
        {
          "output_type": "execute_result",
          "data": {
            "text/plain": [
              "array([2.8431969e-04, 2.8446221e-03, 1.2605592e-04, 9.7697067e-01,\n",
              "       3.9036120e-03, 1.0795376e-04, 3.5590667e-04, 2.2492159e-04,\n",
              "       6.7690789e-04, 1.6174899e-04, 2.3051449e-04, 9.1942679e-04,\n",
              "       2.3281039e-04, 2.7757903e-04, 1.0407576e-04, 3.7313552e-05,\n",
              "       6.7755370e-04, 1.0166320e-04, 6.7270543e-05, 3.3784686e-03,\n",
              "       2.9620249e-03, 8.8562694e-04, 8.3205123e-05, 1.2930568e-04,\n",
              "       4.2267080e-04, 8.8672095e-04, 5.5959277e-05, 9.5958123e-05,\n",
              "       1.8686191e-04, 1.1286732e-04, 3.2671544e-04, 1.9696502e-04,\n",
              "       1.2298726e-04, 4.2536027e-05, 1.6286981e-04, 4.0699866e-05,\n",
              "       1.9379082e-04, 7.5566182e-05, 1.0462948e-04, 1.6941111e-04,\n",
              "       5.5976148e-04, 8.8051587e-05, 8.7815271e-05, 1.1613824e-04,\n",
              "       1.5577144e-04, 5.1820796e-05], dtype=float32)"
            ]
          },
          "metadata": {
            "tags": []
          },
          "execution_count": 56
        }
      ]
    },
    {
      "cell_type": "code",
      "metadata": {
        "id": "Kc1fKM1OqU5O"
      },
      "source": [
        "import numpy as np"
      ],
      "execution_count": 57,
      "outputs": []
    },
    {
      "cell_type": "code",
      "metadata": {
        "colab": {
          "base_uri": "https://localhost:8080/"
        },
        "id": "qUqrJh-_qaEh",
        "outputId": "dfe73777-f581-4a19-a1a8-71c7d986dc8f"
      },
      "source": [
        "y_pred = np.argmax(y_train_pred, axis=1)\n",
        "y_pred.shape"
      ],
      "execution_count": 61,
      "outputs": [
        {
          "output_type": "execute_result",
          "data": {
            "text/plain": [
              "(8982,)"
            ]
          },
          "metadata": {
            "tags": []
          },
          "execution_count": 61
        }
      ]
    },
    {
      "cell_type": "code",
      "metadata": {
        "colab": {
          "base_uri": "https://localhost:8080/"
        },
        "id": "3hXweFlfq402",
        "outputId": "985ac97a-deda-4d56-ae19-b0a34d30dce1"
      },
      "source": [
        "len(y_train)"
      ],
      "execution_count": 63,
      "outputs": [
        {
          "output_type": "execute_result",
          "data": {
            "text/plain": [
              "8982"
            ]
          },
          "metadata": {
            "tags": []
          },
          "execution_count": 63
        }
      ]
    },
    {
      "cell_type": "code",
      "metadata": {
        "colab": {
          "base_uri": "https://localhost:8080/"
        },
        "id": "snrZCxZEp1qQ",
        "outputId": "7b102e27-819e-4bf5-8e58-be11d2a441ed"
      },
      "source": [
        "print(classification_report(y_train, y_pred))"
      ],
      "execution_count": 65,
      "outputs": [
        {
          "output_type": "stream",
          "text": [
            "              precision    recall  f1-score   support\n",
            "\n",
            "           0       0.00      0.00      0.00        55\n",
            "           1       0.38      0.03      0.06       432\n",
            "           2       0.00      0.00      0.00        74\n",
            "           3       0.95      0.95      0.95      3159\n",
            "           4       0.93      0.91      0.92      1949\n",
            "           5       0.00      0.00      0.00        17\n",
            "           6       0.00      0.00      0.00        48\n",
            "           7       0.00      0.00      0.00        16\n",
            "           8       0.12      0.61      0.20       139\n",
            "           9       0.00      0.00      0.00       101\n",
            "          10       0.00      0.00      0.00       124\n",
            "          11       0.38      0.74      0.50       390\n",
            "          12       0.00      0.00      0.00        49\n",
            "          13       0.26      0.62      0.36       172\n",
            "          14       0.00      0.00      0.00        26\n",
            "          15       0.00      0.00      0.00        20\n",
            "          16       0.42      0.23      0.30       444\n",
            "          17       0.00      0.00      0.00        39\n",
            "          18       0.00      0.00      0.00        66\n",
            "          19       0.36      0.83      0.51       549\n",
            "          20       0.00      0.00      0.00       269\n",
            "          21       0.11      0.15      0.13       100\n",
            "          22       0.00      0.00      0.00        15\n",
            "          23       0.00      0.00      0.00        41\n",
            "          24       0.00      0.00      0.00        62\n",
            "          25       0.19      0.70      0.29        92\n",
            "          26       0.00      0.00      0.00        24\n",
            "          27       0.00      0.00      0.00        15\n",
            "          28       0.00      0.00      0.00        48\n",
            "          29       0.00      0.00      0.00        19\n",
            "          30       0.00      0.00      0.00        45\n",
            "          31       0.00      0.00      0.00        39\n",
            "          32       0.00      0.00      0.00        32\n",
            "          33       0.00      0.00      0.00        11\n",
            "          34       0.00      0.00      0.00        50\n",
            "          35       0.00      0.00      0.00        10\n",
            "          36       0.00      0.00      0.00        49\n",
            "          37       0.00      0.00      0.00        19\n",
            "          38       0.00      0.00      0.00        19\n",
            "          39       0.00      0.00      0.00        24\n",
            "          40       0.00      0.00      0.00        36\n",
            "          41       0.00      0.00      0.00        30\n",
            "          42       0.00      0.00      0.00        13\n",
            "          43       0.00      0.00      0.00        21\n",
            "          44       0.00      0.00      0.00        12\n",
            "          45       0.00      0.00      0.00        18\n",
            "\n",
            "    accuracy                           0.66      8982\n",
            "   macro avg       0.09      0.13      0.09      8982\n",
            "weighted avg       0.62      0.66      0.62      8982\n",
            "\n"
          ],
          "name": "stdout"
        },
        {
          "output_type": "stream",
          "text": [
            "/usr/local/lib/python3.7/dist-packages/sklearn/metrics/_classification.py:1272: UndefinedMetricWarning: Precision and F-score are ill-defined and being set to 0.0 in labels with no predicted samples. Use `zero_division` parameter to control this behavior.\n",
            "  _warn_prf(average, modifier, msg_start, len(result))\n"
          ],
          "name": "stderr"
        }
      ]
    },
    {
      "cell_type": "code",
      "metadata": {
        "id": "P-OO1l-NrDdf"
      },
      "source": [
        "y_test_pred = model.predict(pad_x_test)"
      ],
      "execution_count": 66,
      "outputs": []
    },
    {
      "cell_type": "code",
      "metadata": {
        "id": "r448nqktssHd"
      },
      "source": [
        "y_pred = np.argmax(y_test_pred, axis=1)"
      ],
      "execution_count": 67,
      "outputs": []
    },
    {
      "cell_type": "code",
      "metadata": {
        "colab": {
          "base_uri": "https://localhost:8080/"
        },
        "id": "RPa2kkOqssEp",
        "outputId": "2ebe771e-2bac-40be-d4d4-1ca8da5ae847"
      },
      "source": [
        "print(classification_report(y_test, y_pred))"
      ],
      "execution_count": 68,
      "outputs": [
        {
          "output_type": "stream",
          "text": [
            "              precision    recall  f1-score   support\n",
            "\n",
            "           0       0.00      0.00      0.00        12\n",
            "           1       0.20      0.04      0.06       105\n",
            "           2       0.00      0.00      0.00        20\n",
            "           3       0.92      0.88      0.90       813\n",
            "           4       0.86      0.71      0.78       474\n",
            "           5       0.00      0.00      0.00         5\n",
            "           6       0.00      0.00      0.00        14\n",
            "           7       0.00      0.00      0.00         3\n",
            "           8       0.07      0.32      0.11        38\n",
            "           9       0.00      0.00      0.00        25\n",
            "          10       0.00      0.00      0.00        30\n",
            "          11       0.22      0.43      0.29        83\n",
            "          12       0.00      0.00      0.00        13\n",
            "          13       0.06      0.19      0.09        37\n",
            "          14       0.00      0.00      0.00         2\n",
            "          15       0.00      0.00      0.00         9\n",
            "          16       0.15      0.17      0.16        99\n",
            "          17       0.00      0.00      0.00        12\n",
            "          18       0.00      0.00      0.00        20\n",
            "          19       0.21      0.51      0.30       133\n",
            "          20       0.00      0.00      0.00        70\n",
            "          21       0.05      0.11      0.07        27\n",
            "          22       0.00      0.00      0.00         7\n",
            "          23       0.00      0.00      0.00        12\n",
            "          24       0.00      0.00      0.00        19\n",
            "          25       0.07      0.26      0.12        31\n",
            "          26       0.00      0.00      0.00         8\n",
            "          27       0.00      0.00      0.00         4\n",
            "          28       0.00      0.00      0.00        10\n",
            "          29       0.00      0.00      0.00         4\n",
            "          30       0.00      0.00      0.00        12\n",
            "          31       0.00      0.00      0.00        13\n",
            "          32       0.00      0.00      0.00        10\n",
            "          33       0.00      0.00      0.00         5\n",
            "          34       0.00      0.00      0.00         7\n",
            "          35       0.00      0.00      0.00         6\n",
            "          36       0.00      0.00      0.00        11\n",
            "          37       0.00      0.00      0.00         2\n",
            "          38       0.00      0.00      0.00         3\n",
            "          39       0.00      0.00      0.00         5\n",
            "          40       0.00      0.00      0.00        10\n",
            "          41       0.00      0.00      0.00         8\n",
            "          42       0.00      0.00      0.00         3\n",
            "          43       0.00      0.00      0.00         6\n",
            "          44       0.00      0.00      0.00         5\n",
            "          45       0.00      0.00      0.00         1\n",
            "\n",
            "    accuracy                           0.54      2246\n",
            "   macro avg       0.06      0.08      0.06      2246\n",
            "weighted avg       0.56      0.54      0.54      2246\n",
            "\n"
          ],
          "name": "stdout"
        },
        {
          "output_type": "stream",
          "text": [
            "/usr/local/lib/python3.7/dist-packages/sklearn/metrics/_classification.py:1272: UndefinedMetricWarning: Precision and F-score are ill-defined and being set to 0.0 in labels with no predicted samples. Use `zero_division` parameter to control this behavior.\n",
            "  _warn_prf(average, modifier, msg_start, len(result))\n"
          ],
          "name": "stderr"
        }
      ]
    },
    {
      "cell_type": "code",
      "metadata": {
        "id": "5LACbiY2tU7o"
      },
      "source": [
        ""
      ],
      "execution_count": null,
      "outputs": []
    }
  ]
}