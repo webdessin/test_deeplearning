{
  "nbformat": 4,
  "nbformat_minor": 0,
  "metadata": {
    "colab": {
      "name": "make_model_threeway.ipynb",
      "provenance": [],
      "collapsed_sections": [],
      "authorship_tag": "ABX9TyMVDrLUvK5crHDqFDutORxr"
    },
    "kernelspec": {
      "name": "python3",
      "display_name": "Python 3"
    },
    "language_info": {
      "name": "python"
    }
  },
  "cells": [
    {
      "cell_type": "markdown",
      "metadata": {
        "id": "q9Zqs3gWW389"
      },
      "source": [
        "# Sequential()"
      ]
    },
    {
      "cell_type": "markdown",
      "metadata": {
        "id": "CHrS11OxYSbr"
      },
      "source": [
        "# Function API"
      ]
    },
    {
      "cell_type": "code",
      "metadata": {
        "id": "5mNEwspIW3eQ"
      },
      "source": [
        "import tensorflow as tf"
      ],
      "execution_count": 1,
      "outputs": []
    },
    {
      "cell_type": "code",
      "metadata": {
        "id": "etdTf763XO4T"
      },
      "source": [
        "inputs = tf.keras.Input(shape=(2,))"
      ],
      "execution_count": 2,
      "outputs": []
    },
    {
      "cell_type": "code",
      "metadata": {
        "id": "eHAZ_JUuYER5"
      },
      "source": [
        "hidden = tf.keras.layers.Dense(2, activation='sigmoid')(inputs)"
      ],
      "execution_count": 3,
      "outputs": []
    },
    {
      "cell_type": "code",
      "metadata": {
        "id": "sKLOYN_tYQe6"
      },
      "source": [
        "outputs = tf.keras.layers.Dense(1, activation='sigmoid')(hidden)"
      ],
      "execution_count": 4,
      "outputs": []
    },
    {
      "cell_type": "code",
      "metadata": {
        "id": "EDf1lKzrYl9f"
      },
      "source": [
        "model = tf.keras.models.Model(inputs=inputs, outputs=outputs)"
      ],
      "execution_count": 5,
      "outputs": []
    },
    {
      "cell_type": "code",
      "metadata": {
        "colab": {
          "base_uri": "https://localhost:8080/",
          "height": 272
        },
        "id": "1GJi8SU0ZX7b",
        "outputId": "12550b9f-13f4-435c-8b32-68e2b37fc6e9"
      },
      "source": [
        "tf.keras.utils.plot_model(model)"
      ],
      "execution_count": 6,
      "outputs": [
        {
          "output_type": "execute_result",
          "data": {
            "image/png": "[encoded data removed]",
            "text/plain": [
              "<IPython.core.display.Image object>"
            ]
          },
          "metadata": {},
          "execution_count": 6
        }
      ]
    },
    {
      "cell_type": "markdown",
      "metadata": {
        "id": "J7YoCb_V_mJd"
      },
      "source": [
        "Sub Class"
      ]
    },
    {
      "cell_type": "code",
      "metadata": {
        "id": "5ViGM4lYZqjo"
      },
      "source": [
        "class MyClass(tf.keras.models.Model):\n",
        "  def __init__(self):\n",
        "    super(MyClass, self).__init__()\n",
        "    # input layer\n",
        "    self.inputs = tf.keras.Input(shape=(2,))\n",
        "    # hidden layer\n",
        "    self.hidden01 = tf.keras.layers.Dense(2, activation='sigmoid')\n",
        "    # output layer\n",
        "    self.outputs = tf.keras.layers.Dense(1, activation='sigmoid')\n",
        "\n",
        "  def call(self, input):\n",
        "    layers = self.inputs(input)\n",
        "    layers = self.hidden01(layers)\n",
        "    layers = self.outputs(layers)\n",
        "    return layers"
      ],
      "execution_count": 10,
      "outputs": []
    },
    {
      "cell_type": "code",
      "metadata": {
        "id": "vhEYC5M6_gVD"
      },
      "source": [
        "model = MyClass()"
      ],
      "execution_count": 11,
      "outputs": []
    },
    {
      "cell_type": "code",
      "metadata": {
        "id": "44Mgy6kKDtn6"
      },
      "source": [
        ""
      ],
      "execution_count": null,
      "outputs": []
    }
  ]
}