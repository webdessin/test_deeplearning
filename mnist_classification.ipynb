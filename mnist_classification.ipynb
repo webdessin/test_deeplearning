{
  "nbformat": 4,
  "nbformat_minor": 0,
  "metadata": {
    "colab": {
      "name": "mnist_classification.ipynb",
      "provenance": [],
      "collapsed_sections": [],
      "authorship_tag": "ABX9TyPjYx9FQd67/boe4kibmmOy"
    },
    "kernelspec": {
      "name": "python3",
      "display_name": "Python 3"
    },
    "language_info": {
      "name": "python"
    }
  },
  "cells": [
    {
      "cell_type": "code",
      "metadata": {
        "id": "edn_Jgyc5k0N"
      },
      "source": [
        "from tensorflow.keras.datasets.mnist import load_data"
      ],
      "execution_count": 1,
      "outputs": []
    },
    {
      "cell_type": "code",
      "metadata": {
        "colab": {
          "base_uri": "https://localhost:8080/"
        },
        "id": "Oxi4kZHm5ku8",
        "outputId": "2f377e12-719f-4297-8722-847477b731d3"
      },
      "source": [
        "(x_train, y_train), (x_test, y_test) = load_data(path='mnist.npz')\n",
        "x_train.shape, y_train.shape, x_test.shape, y_test.shape"
      ],
      "execution_count": 2,
      "outputs": [
        {
          "output_type": "execute_result",
          "data": {
            "text/plain": [
              "((60000, 28, 28), (60000,), (10000, 28, 28), (10000,))"
            ]
          },
          "metadata": {
            "tags": []
          },
          "execution_count": 2
        }
      ]
    },
    {
      "cell_type": "code",
      "metadata": {
        "id": "EYVAOC-H5ksc"
      },
      "source": [
        "# y_train[4], x_train[4]\n",
        "y_train[50000], x_train[50000]"
      ],
      "execution_count": null,
      "outputs": []
    },
    {
      "cell_type": "code",
      "metadata": {
        "id": "cHv7mioRpQOG"
      },
      "source": [
        "x_train[50000]/255 "
      ],
      "execution_count": null,
      "outputs": []
    },
    {
      "cell_type": "code",
      "metadata": {
        "colab": {
          "base_uri": "https://localhost:8080/",
          "height": 283
        },
        "id": "2mS1FTQV5kp8",
        "outputId": "e343b972-5248-4bdb-fdde-2090536932f2"
      },
      "source": [
        "import matplotlib.pyplot as plt\n",
        "plt.imshow(x_train[50000])\n",
        "print(y_train[50000], type(y_train[50000]))"
      ],
      "execution_count": 5,
      "outputs": [
        {
          "output_type": "stream",
          "text": [
            "3 <class 'numpy.uint8'>\n"
          ],
          "name": "stdout"
        },
        {
          "output_type": "display_data",
          "data": {
            "image/png": "[encoded data removed]",
            "text/plain": [
              "<Figure size 432x288 with 1 Axes>"
            ]
          },
          "metadata": {
            "tags": [],
            "needs_background": "light"
          }
        }
      ]
    },
    {
      "cell_type": "code",
      "metadata": {
        "colab": {
          "base_uri": "https://localhost:8080/"
        },
        "id": "nbdXqobT5knU",
        "outputId": "13e4234b-bf97-47ab-9da6-b84564525595"
      },
      "source": [
        "x_train = x_train.reshape(-1, 28*28) / 255\n",
        "x_train.shape"
      ],
      "execution_count": 6,
      "outputs": [
        {
          "output_type": "execute_result",
          "data": {
            "text/plain": [
              "(60000, 784)"
            ]
          },
          "metadata": {
            "tags": []
          },
          "execution_count": 6
        }
      ]
    },
    {
      "cell_type": "code",
      "metadata": {
        "colab": {
          "base_uri": "https://localhost:8080/"
        },
        "id": "TLJ4YkqS5kk8",
        "outputId": "08ccc67d-eecc-44fb-f7e0-8902f5bc76d8"
      },
      "source": [
        "x_test = x_test.reshape(-1, 28*28) / 255\n",
        "x_test.shape"
      ],
      "execution_count": 7,
      "outputs": [
        {
          "output_type": "execute_result",
          "data": {
            "text/plain": [
              "(10000, 784)"
            ]
          },
          "metadata": {
            "tags": []
          },
          "execution_count": 7
        }
      ]
    },
    {
      "cell_type": "code",
      "metadata": {
        "colab": {
          "base_uri": "https://localhost:8080/"
        },
        "id": "u03caePL5kiU",
        "outputId": "19c3dae6-63e2-4b6b-e163-4cc0cbf0594d"
      },
      "source": [
        "y_train[2:10], y_train.shape"
      ],
      "execution_count": 8,
      "outputs": [
        {
          "output_type": "execute_result",
          "data": {
            "text/plain": [
              "(array([4, 1, 9, 2, 1, 3, 1, 4], dtype=uint8), (60000,))"
            ]
          },
          "metadata": {
            "tags": []
          },
          "execution_count": 8
        }
      ]
    },
    {
      "cell_type": "code",
      "metadata": {
        "colab": {
          "base_uri": "https://localhost:8080/"
        },
        "id": "0wvRalvY5kf0",
        "outputId": "e8413a57-49eb-4925-9145-6fddb0bdc45b"
      },
      "source": [
        "import numpy as np\n",
        "np.unique(y_train)"
      ],
      "execution_count": 9,
      "outputs": [
        {
          "output_type": "execute_result",
          "data": {
            "text/plain": [
              "array([0, 1, 2, 3, 4, 5, 6, 7, 8, 9], dtype=uint8)"
            ]
          },
          "metadata": {
            "tags": []
          },
          "execution_count": 9
        }
      ]
    },
    {
      "cell_type": "markdown",
      "metadata": {
        "id": "WBJQNoKY268h"
      },
      "source": [
        "# apply model"
      ]
    },
    {
      "cell_type": "code",
      "metadata": {
        "id": "emdG_B3l26Ky"
      },
      "source": [
        "import tensorflow as tf"
      ],
      "execution_count": 10,
      "outputs": []
    },
    {
      "cell_type": "code",
      "metadata": {
        "colab": {
          "base_uri": "https://localhost:8080/"
        },
        "id": "kKD6CVuU3E-h",
        "outputId": "a96199bb-d3be-436d-da65-544b88e98fac"
      },
      "source": [
        "model = tf.keras.models.Sequential()\n",
        "\n",
        "model.add(tf.keras.Input(shape=(784,))) # input layer\n",
        "model.add(tf.keras.layers.Dense(64, activation='relu')) # hidden layer\n",
        "model.add(tf.keras.layers.Dense(64, activation='relu')) # hidden layer\n",
        "# 3이상 --> softmax, binary --> sigmoid\n",
        "model.add(tf.keras.layers.Dense(10, activation='softmax')) # output layer\n",
        "\n",
        "# regression --> loss : mse\n",
        "# binary classification --> loss : binary crossentropy\n",
        "# over 3 classification --> loss : categorical crossentropy(sparse_categorical_crossentropy)\n",
        "model.compile(optimizer='adam', loss='sparse_categorical_crossentropy', metrics=['acc'])"
      ],
      "execution_count": 11,
      "outputs": [
        {
          "output_type": "stream",
          "text": [
            "WARNING:tensorflow:Please add `keras.layers.InputLayer` instead of `keras.Input` to Sequential model. `keras.Input` is intended to be used by Functional model.\n"
          ],
          "name": "stdout"
        }
      ]
    },
    {
      "cell_type": "code",
      "metadata": {
        "colab": {
          "base_uri": "https://localhost:8080/"
        },
        "id": "NV8EaKu__HX0",
        "outputId": "cf7b3c97-d000-45dd-d171-18da5c8fa951"
      },
      "source": [
        "hist = model.fit(x_train, y_train, epochs = 100, validation_split = 0.3)"
      ],
      "execution_count": 12,
      "outputs": [
        {
          "output_type": "stream",
          "text": [
            "Epoch 1/100\n",
            "1313/1313 [==============================] - 4s 3ms/step - loss: 0.3211 - acc: 0.9065 - val_loss: 0.2070 - val_acc: 0.9393\n",
            "Epoch 2/100\n",
            "1313/1313 [==============================] - 3s 3ms/step - loss: 0.1411 - acc: 0.9580 - val_loss: 0.1471 - val_acc: 0.9569\n",
            "Epoch 3/100\n",
            "1313/1313 [==============================] - 4s 3ms/step - loss: 0.1024 - acc: 0.9684 - val_loss: 0.1391 - val_acc: 0.9577\n",
            "Epoch 4/100\n",
            "1313/1313 [==============================] - 3s 2ms/step - loss: 0.0799 - acc: 0.9748 - val_loss: 0.1404 - val_acc: 0.9575\n",
            "Epoch 5/100\n",
            "1313/1313 [==============================] - 3s 3ms/step - loss: 0.0644 - acc: 0.9799 - val_loss: 0.1140 - val_acc: 0.9669\n",
            "Epoch 6/100\n",
            "1313/1313 [==============================] - 3s 2ms/step - loss: 0.0520 - acc: 0.9831 - val_loss: 0.1191 - val_acc: 0.9662\n",
            "Epoch 7/100\n",
            "1313/1313 [==============================] - 3s 3ms/step - loss: 0.0432 - acc: 0.9863 - val_loss: 0.1163 - val_acc: 0.9679\n",
            "Epoch 8/100\n",
            "1313/1313 [==============================] - 3s 3ms/step - loss: 0.0385 - acc: 0.9876 - val_loss: 0.1296 - val_acc: 0.9664\n",
            "Epoch 9/100\n",
            "1313/1313 [==============================] - 3s 3ms/step - loss: 0.0334 - acc: 0.9893 - val_loss: 0.1207 - val_acc: 0.9698\n",
            "Epoch 10/100\n",
            "1313/1313 [==============================] - 3s 3ms/step - loss: 0.0282 - acc: 0.9910 - val_loss: 0.1295 - val_acc: 0.9690\n",
            "Epoch 11/100\n",
            "1313/1313 [==============================] - 3s 3ms/step - loss: 0.0262 - acc: 0.9909 - val_loss: 0.1221 - val_acc: 0.9691\n",
            "Epoch 12/100\n",
            "1313/1313 [==============================] - 3s 3ms/step - loss: 0.0206 - acc: 0.9934 - val_loss: 0.1256 - val_acc: 0.9694\n",
            "Epoch 13/100\n",
            "1313/1313 [==============================] - 3s 2ms/step - loss: 0.0218 - acc: 0.9928 - val_loss: 0.1330 - val_acc: 0.9712\n",
            "Epoch 14/100\n",
            "1313/1313 [==============================] - 4s 3ms/step - loss: 0.0201 - acc: 0.9934 - val_loss: 0.1360 - val_acc: 0.9694\n",
            "Epoch 15/100\n",
            "1313/1313 [==============================] - 3s 3ms/step - loss: 0.0151 - acc: 0.9948 - val_loss: 0.1376 - val_acc: 0.9699\n",
            "Epoch 16/100\n",
            "1313/1313 [==============================] - 3s 2ms/step - loss: 0.0147 - acc: 0.9951 - val_loss: 0.1469 - val_acc: 0.9697\n",
            "Epoch 17/100\n",
            "1313/1313 [==============================] - 4s 3ms/step - loss: 0.0154 - acc: 0.9950 - val_loss: 0.1480 - val_acc: 0.9713\n",
            "Epoch 18/100\n",
            "1313/1313 [==============================] - 3s 3ms/step - loss: 0.0098 - acc: 0.9970 - val_loss: 0.1501 - val_acc: 0.9707\n",
            "Epoch 19/100\n",
            "1313/1313 [==============================] - 3s 3ms/step - loss: 0.0148 - acc: 0.9950 - val_loss: 0.1775 - val_acc: 0.9687\n",
            "Epoch 20/100\n",
            "1313/1313 [==============================] - 3s 2ms/step - loss: 0.0101 - acc: 0.9965 - val_loss: 0.1689 - val_acc: 0.9702\n",
            "Epoch 21/100\n",
            "1313/1313 [==============================] - 3s 2ms/step - loss: 0.0115 - acc: 0.9961 - val_loss: 0.1731 - val_acc: 0.9701\n",
            "Epoch 22/100\n",
            "1313/1313 [==============================] - 3s 2ms/step - loss: 0.0102 - acc: 0.9963 - val_loss: 0.1689 - val_acc: 0.9694\n",
            "Epoch 23/100\n",
            "1313/1313 [==============================] - 3s 2ms/step - loss: 0.0114 - acc: 0.9965 - val_loss: 0.1699 - val_acc: 0.9704\n",
            "Epoch 24/100\n",
            "1313/1313 [==============================] - 3s 3ms/step - loss: 0.0106 - acc: 0.9964 - val_loss: 0.2481 - val_acc: 0.9619\n",
            "Epoch 25/100\n",
            "1313/1313 [==============================] - 3s 2ms/step - loss: 0.0113 - acc: 0.9962 - val_loss: 0.1725 - val_acc: 0.9704\n",
            "Epoch 26/100\n",
            "1313/1313 [==============================] - 3s 3ms/step - loss: 0.0062 - acc: 0.9978 - val_loss: 0.2055 - val_acc: 0.9689\n",
            "Epoch 27/100\n",
            "1313/1313 [==============================] - 3s 2ms/step - loss: 0.0123 - acc: 0.9964 - val_loss: 0.1736 - val_acc: 0.9722\n",
            "Epoch 28/100\n",
            "1313/1313 [==============================] - 3s 2ms/step - loss: 0.0101 - acc: 0.9968 - val_loss: 0.1804 - val_acc: 0.9702\n",
            "Epoch 29/100\n",
            "1313/1313 [==============================] - 3s 2ms/step - loss: 0.0066 - acc: 0.9980 - val_loss: 0.1810 - val_acc: 0.9709\n",
            "Epoch 30/100\n",
            "1313/1313 [==============================] - 3s 3ms/step - loss: 0.0096 - acc: 0.9970 - val_loss: 0.2392 - val_acc: 0.9673\n",
            "Epoch 31/100\n",
            "1313/1313 [==============================] - 3s 2ms/step - loss: 0.0101 - acc: 0.9971 - val_loss: 0.2256 - val_acc: 0.9666\n",
            "Epoch 32/100\n",
            "1313/1313 [==============================] - 3s 2ms/step - loss: 0.0090 - acc: 0.9971 - val_loss: 0.1943 - val_acc: 0.9721\n",
            "Epoch 33/100\n",
            "1313/1313 [==============================] - 3s 3ms/step - loss: 0.0095 - acc: 0.9972 - val_loss: 0.2071 - val_acc: 0.9705\n",
            "Epoch 34/100\n",
            "1313/1313 [==============================] - 3s 2ms/step - loss: 0.0081 - acc: 0.9974 - val_loss: 0.2105 - val_acc: 0.9701\n",
            "Epoch 35/100\n",
            "1313/1313 [==============================] - 3s 2ms/step - loss: 0.0071 - acc: 0.9976 - val_loss: 0.2312 - val_acc: 0.9696\n",
            "Epoch 36/100\n",
            "1313/1313 [==============================] - 3s 2ms/step - loss: 0.0086 - acc: 0.9973 - val_loss: 0.2025 - val_acc: 0.9738\n",
            "Epoch 37/100\n",
            "1313/1313 [==============================] - 3s 2ms/step - loss: 0.0091 - acc: 0.9970 - val_loss: 0.2127 - val_acc: 0.9699\n",
            "Epoch 38/100\n",
            "1313/1313 [==============================] - 3s 3ms/step - loss: 0.0076 - acc: 0.9974 - val_loss: 0.2232 - val_acc: 0.9699\n",
            "Epoch 39/100\n",
            "1313/1313 [==============================] - 3s 2ms/step - loss: 0.0049 - acc: 0.9986 - val_loss: 0.2017 - val_acc: 0.9727\n",
            "Epoch 40/100\n",
            "1313/1313 [==============================] - 3s 2ms/step - loss: 0.0081 - acc: 0.9975 - val_loss: 0.2403 - val_acc: 0.9704\n",
            "Epoch 41/100\n",
            "1313/1313 [==============================] - 3s 2ms/step - loss: 0.0094 - acc: 0.9971 - val_loss: 0.2382 - val_acc: 0.9698\n",
            "Epoch 42/100\n",
            "1313/1313 [==============================] - 3s 2ms/step - loss: 0.0057 - acc: 0.9981 - val_loss: 0.2412 - val_acc: 0.9699\n",
            "Epoch 43/100\n",
            "1313/1313 [==============================] - 3s 2ms/step - loss: 0.0079 - acc: 0.9978 - val_loss: 0.2591 - val_acc: 0.9683\n",
            "Epoch 44/100\n",
            "1313/1313 [==============================] - 3s 2ms/step - loss: 0.0091 - acc: 0.9973 - val_loss: 0.2433 - val_acc: 0.9687\n",
            "Epoch 45/100\n",
            "1313/1313 [==============================] - 3s 2ms/step - loss: 0.0090 - acc: 0.9972 - val_loss: 0.2370 - val_acc: 0.9706\n",
            "Epoch 46/100\n",
            "1313/1313 [==============================] - 3s 2ms/step - loss: 0.0038 - acc: 0.9989 - val_loss: 0.2591 - val_acc: 0.9685\n",
            "Epoch 47/100\n",
            "1313/1313 [==============================] - 3s 3ms/step - loss: 0.0078 - acc: 0.9971 - val_loss: 0.2602 - val_acc: 0.9703\n",
            "Epoch 48/100\n",
            "1313/1313 [==============================] - 3s 3ms/step - loss: 0.0066 - acc: 0.9980 - val_loss: 0.2464 - val_acc: 0.9714\n",
            "Epoch 49/100\n",
            "1313/1313 [==============================] - 3s 2ms/step - loss: 0.0064 - acc: 0.9980 - val_loss: 0.2780 - val_acc: 0.9683\n",
            "Epoch 50/100\n",
            "1313/1313 [==============================] - 3s 2ms/step - loss: 0.0073 - acc: 0.9976 - val_loss: 0.2436 - val_acc: 0.9724\n",
            "Epoch 51/100\n",
            "1313/1313 [==============================] - 3s 2ms/step - loss: 0.0054 - acc: 0.9986 - val_loss: 0.2629 - val_acc: 0.9695\n",
            "Epoch 52/100\n",
            "1313/1313 [==============================] - 3s 3ms/step - loss: 0.0089 - acc: 0.9974 - val_loss: 0.2536 - val_acc: 0.9711\n",
            "Epoch 53/100\n",
            "1313/1313 [==============================] - 3s 3ms/step - loss: 0.0059 - acc: 0.9983 - val_loss: 0.2889 - val_acc: 0.9684\n",
            "Epoch 54/100\n",
            "1313/1313 [==============================] - 3s 2ms/step - loss: 0.0069 - acc: 0.9980 - val_loss: 0.2739 - val_acc: 0.9706\n",
            "Epoch 55/100\n",
            "1313/1313 [==============================] - 3s 2ms/step - loss: 0.0063 - acc: 0.9985 - val_loss: 0.2753 - val_acc: 0.9702\n",
            "Epoch 56/100\n",
            "1313/1313 [==============================] - 3s 3ms/step - loss: 0.0066 - acc: 0.9980 - val_loss: 0.2901 - val_acc: 0.9704\n",
            "Epoch 57/100\n",
            "1313/1313 [==============================] - 3s 3ms/step - loss: 0.0065 - acc: 0.9978 - val_loss: 0.3077 - val_acc: 0.9664\n",
            "Epoch 58/100\n",
            "1313/1313 [==============================] - 3s 3ms/step - loss: 0.0028 - acc: 0.9990 - val_loss: 0.2871 - val_acc: 0.9694\n",
            "Epoch 59/100\n",
            "1313/1313 [==============================] - 3s 2ms/step - loss: 0.0078 - acc: 0.9980 - val_loss: 0.2921 - val_acc: 0.9707\n",
            "Epoch 60/100\n",
            "1313/1313 [==============================] - 3s 2ms/step - loss: 0.0071 - acc: 0.9981 - val_loss: 0.2871 - val_acc: 0.9708\n",
            "Epoch 61/100\n",
            "1313/1313 [==============================] - 3s 2ms/step - loss: 0.0071 - acc: 0.9981 - val_loss: 0.3187 - val_acc: 0.9694\n",
            "Epoch 62/100\n",
            "1313/1313 [==============================] - 3s 3ms/step - loss: 0.0067 - acc: 0.9981 - val_loss: 0.2754 - val_acc: 0.9731\n",
            "Epoch 63/100\n",
            "1313/1313 [==============================] - 4s 3ms/step - loss: 0.0033 - acc: 0.9989 - val_loss: 0.2911 - val_acc: 0.9714\n",
            "Epoch 64/100\n",
            "1313/1313 [==============================] - 3s 3ms/step - loss: 0.0056 - acc: 0.9986 - val_loss: 0.2793 - val_acc: 0.9733\n",
            "Epoch 65/100\n",
            "1313/1313 [==============================] - 3s 3ms/step - loss: 0.0114 - acc: 0.9972 - val_loss: 0.2974 - val_acc: 0.9703\n",
            "Epoch 66/100\n",
            "1313/1313 [==============================] - 3s 3ms/step - loss: 0.0070 - acc: 0.9985 - val_loss: 0.3388 - val_acc: 0.9682\n",
            "Epoch 67/100\n",
            "1313/1313 [==============================] - 4s 3ms/step - loss: 0.0059 - acc: 0.9980 - val_loss: 0.2855 - val_acc: 0.9715\n",
            "Epoch 68/100\n",
            "1313/1313 [==============================] - 3s 3ms/step - loss: 0.0065 - acc: 0.9985 - val_loss: 0.2997 - val_acc: 0.9702\n",
            "Epoch 69/100\n",
            "1313/1313 [==============================] - 4s 3ms/step - loss: 0.0074 - acc: 0.9980 - val_loss: 0.3163 - val_acc: 0.9713\n",
            "Epoch 70/100\n",
            "1313/1313 [==============================] - 3s 2ms/step - loss: 0.0021 - acc: 0.9994 - val_loss: 0.2982 - val_acc: 0.9713\n",
            "Epoch 71/100\n",
            "1313/1313 [==============================] - 3s 2ms/step - loss: 0.0051 - acc: 0.9986 - val_loss: 0.2931 - val_acc: 0.9713\n",
            "Epoch 72/100\n",
            "1313/1313 [==============================] - 3s 2ms/step - loss: 0.0107 - acc: 0.9972 - val_loss: 0.3212 - val_acc: 0.9701\n",
            "Epoch 73/100\n",
            "1313/1313 [==============================] - 3s 3ms/step - loss: 0.0022 - acc: 0.9993 - val_loss: 0.2978 - val_acc: 0.9731\n",
            "Epoch 74/100\n",
            "1313/1313 [==============================] - 3s 2ms/step - loss: 0.0041 - acc: 0.9989 - val_loss: 0.3272 - val_acc: 0.9696\n",
            "Epoch 75/100\n",
            "1313/1313 [==============================] - 4s 3ms/step - loss: 0.0058 - acc: 0.9986 - val_loss: 0.3067 - val_acc: 0.9726\n",
            "Epoch 76/100\n",
            "1313/1313 [==============================] - 3s 3ms/step - loss: 0.0067 - acc: 0.9982 - val_loss: 0.4049 - val_acc: 0.9650\n",
            "Epoch 77/100\n",
            "1313/1313 [==============================] - 3s 2ms/step - loss: 0.0066 - acc: 0.9984 - val_loss: 0.3003 - val_acc: 0.9717\n",
            "Epoch 78/100\n",
            "1313/1313 [==============================] - 4s 3ms/step - loss: 0.0016 - acc: 0.9995 - val_loss: 0.3348 - val_acc: 0.9706\n",
            "Epoch 79/100\n",
            "1313/1313 [==============================] - 3s 3ms/step - loss: 0.0101 - acc: 0.9974 - val_loss: 0.3354 - val_acc: 0.9704\n",
            "Epoch 80/100\n",
            "1313/1313 [==============================] - 4s 3ms/step - loss: 0.0059 - acc: 0.9984 - val_loss: 0.3157 - val_acc: 0.9717\n",
            "Epoch 81/100\n",
            "1313/1313 [==============================] - 4s 3ms/step - loss: 0.0047 - acc: 0.9987 - val_loss: 0.3131 - val_acc: 0.9716\n",
            "Epoch 82/100\n",
            "1313/1313 [==============================] - 3s 3ms/step - loss: 0.0021 - acc: 0.9995 - val_loss: 0.3304 - val_acc: 0.9719\n",
            "Epoch 83/100\n",
            "1313/1313 [==============================] - 3s 3ms/step - loss: 0.0019 - acc: 0.9996 - val_loss: 0.3806 - val_acc: 0.9675\n",
            "Epoch 84/100\n",
            "1313/1313 [==============================] - 3s 2ms/step - loss: 0.0160 - acc: 0.9964 - val_loss: 0.3534 - val_acc: 0.9693\n",
            "Epoch 85/100\n",
            "1313/1313 [==============================] - 3s 3ms/step - loss: 0.0024 - acc: 0.9993 - val_loss: 0.3907 - val_acc: 0.9667\n",
            "Epoch 86/100\n",
            "1313/1313 [==============================] - 3s 3ms/step - loss: 0.0034 - acc: 0.9988 - val_loss: 0.3574 - val_acc: 0.9707\n",
            "Epoch 87/100\n",
            "1313/1313 [==============================] - 3s 2ms/step - loss: 0.0068 - acc: 0.9979 - val_loss: 0.3669 - val_acc: 0.9723\n",
            "Epoch 88/100\n",
            "1313/1313 [==============================] - 3s 2ms/step - loss: 0.0031 - acc: 0.9993 - val_loss: 0.4112 - val_acc: 0.9672\n",
            "Epoch 89/100\n",
            "1313/1313 [==============================] - 4s 3ms/step - loss: 0.0082 - acc: 0.9978 - val_loss: 0.3604 - val_acc: 0.9709\n",
            "Epoch 90/100\n",
            "1313/1313 [==============================] - 3s 2ms/step - loss: 0.0050 - acc: 0.9987 - val_loss: 0.3647 - val_acc: 0.9726\n",
            "Epoch 91/100\n",
            "1313/1313 [==============================] - 3s 2ms/step - loss: 0.0046 - acc: 0.9989 - val_loss: 0.3585 - val_acc: 0.9699\n",
            "Epoch 92/100\n",
            "1313/1313 [==============================] - 3s 2ms/step - loss: 0.0077 - acc: 0.9980 - val_loss: 0.4123 - val_acc: 0.9690\n",
            "Epoch 93/100\n",
            "1313/1313 [==============================] - 4s 3ms/step - loss: 0.0036 - acc: 0.9990 - val_loss: 0.3583 - val_acc: 0.9711\n",
            "Epoch 94/100\n",
            "1313/1313 [==============================] - 4s 3ms/step - loss: 0.0038 - acc: 0.9990 - val_loss: 0.3743 - val_acc: 0.9705\n",
            "Epoch 95/100\n",
            "1313/1313 [==============================] - 3s 3ms/step - loss: 0.0085 - acc: 0.9982 - val_loss: 0.3826 - val_acc: 0.9704\n",
            "Epoch 96/100\n",
            "1313/1313 [==============================] - 4s 3ms/step - loss: 0.0074 - acc: 0.9982 - val_loss: 0.4379 - val_acc: 0.9673\n",
            "Epoch 97/100\n",
            "1313/1313 [==============================] - 3s 2ms/step - loss: 0.0044 - acc: 0.9987 - val_loss: 0.3723 - val_acc: 0.9721\n",
            "Epoch 98/100\n",
            "1313/1313 [==============================] - 3s 3ms/step - loss: 0.0087 - acc: 0.9982 - val_loss: 0.3751 - val_acc: 0.9719\n",
            "Epoch 99/100\n",
            "1313/1313 [==============================] - 3s 2ms/step - loss: 0.0028 - acc: 0.9992 - val_loss: 0.3690 - val_acc: 0.9721\n",
            "Epoch 100/100\n",
            "1313/1313 [==============================] - 3s 2ms/step - loss: 0.0074 - acc: 0.9982 - val_loss: 0.3776 - val_acc: 0.9716\n"
          ],
          "name": "stdout"
        }
      ]
    },
    {
      "cell_type": "markdown",
      "metadata": {
        "id": "pAY3zOrSKtes"
      },
      "source": [
        "# evaluation"
      ]
    },
    {
      "cell_type": "code",
      "metadata": {
        "colab": {
          "base_uri": "https://localhost:8080/"
        },
        "id": "xgrV1K8VLACq",
        "outputId": "899d61c2-e02b-43fe-b7e8-ecc1de53e758"
      },
      "source": [
        "hist.history.keys()"
      ],
      "execution_count": 13,
      "outputs": [
        {
          "output_type": "execute_result",
          "data": {
            "text/plain": [
              "dict_keys(['loss', 'acc', 'val_loss', 'val_acc'])"
            ]
          },
          "metadata": {
            "tags": []
          },
          "execution_count": 13
        }
      ]
    },
    {
      "cell_type": "code",
      "metadata": {
        "colab": {
          "base_uri": "https://localhost:8080/",
          "height": 283
        },
        "id": "2S4Rabq9_fPQ",
        "outputId": "d2005991-8b77-4484-aa05-92a81dcc313a"
      },
      "source": [
        "import matplotlib.pyplot as plt\n",
        "plt.plot(hist.history['loss'])\n",
        "plt.plot(hist.history['val_loss'], 'b-')\n",
        "plt.legend()\n",
        "plt.show()"
      ],
      "execution_count": 14,
      "outputs": [
        {
          "output_type": "stream",
          "text": [
            "No handles with labels found to put in legend.\n"
          ],
          "name": "stderr"
        },
        {
          "output_type": "display_data",
          "data": {
            "image/png": "[encoded data removed]",
            "text/plain": [
              "<Figure size 432x288 with 1 Axes>"
            ]
          },
          "metadata": {
            "tags": [],
            "needs_background": "light"
          }
        }
      ]
    },
    {
      "cell_type": "code",
      "metadata": {
        "colab": {
          "base_uri": "https://localhost:8080/",
          "height": 265
        },
        "id": "Qr3K-q57LixC",
        "outputId": "d1c6a58d-29ac-416a-f7cd-1f6119a293db"
      },
      "source": [
        "plt.plot(hist.history['acc'])\n",
        "plt.plot(hist.history['val_acc'], 'r-')\n",
        "plt.show()"
      ],
      "execution_count": 15,
      "outputs": [
        {
          "output_type": "display_data",
          "data": {
            "image/png": "[encoded data removed]",
            "text/plain": [
              "<Figure size 432x288 with 1 Axes>"
            ]
          },
          "metadata": {
            "tags": [],
            "needs_background": "light"
          }
        }
      ]
    },
    {
      "cell_type": "markdown",
      "metadata": {
        "id": "ZWUKvegLMnQZ"
      },
      "source": [
        "# Service"
      ]
    },
    {
      "cell_type": "code",
      "metadata": {
        "id": "ROyBxzNfMUR6"
      },
      "source": [
        "# y_test[30]"
      ],
      "execution_count": 16,
      "outputs": []
    },
    {
      "cell_type": "code",
      "metadata": {
        "colab": {
          "base_uri": "https://localhost:8080/"
        },
        "id": "TmOiCjdIiVrd",
        "outputId": "57d91948-ecdc-4560-999b-4428a6a3d997"
      },
      "source": [
        "import numpy as np\n",
        "# np.set_printoptions(precision = 8)\n",
        "\n",
        "pred = model.predict(x_test[30:31])\n",
        "pred"
      ],
      "execution_count": 17,
      "outputs": [
        {
          "output_type": "execute_result",
          "data": {
            "text/plain": [
              "array([[0.0000000e+00, 0.0000000e+00, 0.0000000e+00, 1.0000000e+00,\n",
              "        0.0000000e+00, 5.8388003e-32, 0.0000000e+00, 0.0000000e+00,\n",
              "        0.0000000e+00, 0.0000000e+00]], dtype=float32)"
            ]
          },
          "metadata": {
            "tags": []
          },
          "execution_count": 17
        }
      ]
    },
    {
      "cell_type": "code",
      "metadata": {
        "colab": {
          "base_uri": "https://localhost:8080/"
        },
        "id": "T2kDtfNGneKq",
        "outputId": "dbe0b967-e6d9-4c06-8dba-37bc5a7d1905"
      },
      "source": [
        "np.argmax(pred, axis = 1)"
      ],
      "execution_count": 18,
      "outputs": [
        {
          "output_type": "execute_result",
          "data": {
            "text/plain": [
              "array([3])"
            ]
          },
          "metadata": {
            "tags": []
          },
          "execution_count": 18
        }
      ]
    },
    {
      "cell_type": "code",
      "metadata": {
        "colab": {
          "base_uri": "https://localhost:8080/"
        },
        "id": "hlG6aiU8n2LA",
        "outputId": "7837b1a5-385f-4615-af08-e94077b20952"
      },
      "source": [
        "y_test[30]"
      ],
      "execution_count": 19,
      "outputs": [
        {
          "output_type": "execute_result",
          "data": {
            "text/plain": [
              "3"
            ]
          },
          "metadata": {
            "tags": []
          },
          "execution_count": 19
        }
      ]
    },
    {
      "cell_type": "code",
      "metadata": {
        "id": "uzoi11DAMwmQ",
        "colab": {
          "base_uri": "https://localhost:8080/"
        },
        "outputId": "5b997355-b54a-4ce7-f379-7593c462c533"
      },
      "source": [
        "a = np.arange(6).reshape(2, 3) + 10\n",
        "print(a)\n",
        "np.argmax(a, axis = 0)\n",
        "# reshape(2, 3): 2행 3열\n",
        "# 0, 1, 2, 3, 4, 5 중 가장 큰 값인 5 출력\n",
        "# axis = 1: 가장 큰 값이 있는 위치 출력  "
      ],
      "execution_count": 20,
      "outputs": [
        {
          "output_type": "stream",
          "text": [
            "[[10 11 12]\n",
            " [13 14 15]]\n"
          ],
          "name": "stdout"
        },
        {
          "output_type": "execute_result",
          "data": {
            "text/plain": [
              "array([1, 1, 1])"
            ]
          },
          "metadata": {
            "tags": []
          },
          "execution_count": 20
        }
      ]
    },
    {
      "cell_type": "code",
      "metadata": {
        "colab": {
          "base_uri": "https://localhost:8080/"
        },
        "id": "kmLqh4hbkc8I",
        "outputId": "9a1fee3f-dfba-4222-f631-4d86601395cc"
      },
      "source": [
        "np.argmax(np.array([[10, 11, 12]]), axis = 1)"
      ],
      "execution_count": 21,
      "outputs": [
        {
          "output_type": "execute_result",
          "data": {
            "text/plain": [
              "array([2])"
            ]
          },
          "metadata": {
            "tags": []
          },
          "execution_count": 21
        }
      ]
    },
    {
      "cell_type": "code",
      "metadata": {
        "colab": {
          "base_uri": "https://localhost:8080/"
        },
        "id": "RDJqTC2AnXVy",
        "outputId": "6e163dcf-7eb6-4843-f9d8-b6d200ef411d"
      },
      "source": [
        "model.save('./model_save')"
      ],
      "execution_count": 23,
      "outputs": [
        {
          "output_type": "stream",
          "text": [
            "INFO:tensorflow:Assets written to: ./model_save/assets\n"
          ],
          "name": "stdout"
        }
      ]
    },
    {
      "cell_type": "code",
      "metadata": {
        "id": "HqqlNCtR6fTx"
      },
      "source": [
        "model.save('./model_save01.h5')"
      ],
      "execution_count": 24,
      "outputs": []
    },
    {
      "cell_type": "code",
      "metadata": {
        "colab": {
          "base_uri": "https://localhost:8080/"
        },
        "id": "uW3xVWRi7IUt",
        "outputId": "3ba3b269-a474-43f0-95de-fa8eca9a7afd"
      },
      "source": [
        "model_load = tf.keras.models.load_model('./model_save01.h5')\n",
        "model_load"
      ],
      "execution_count": 25,
      "outputs": [
        {
          "output_type": "execute_result",
          "data": {
            "text/plain": [
              "<tensorflow.python.keras.engine.sequential.Sequential at 0x7f7e3cde5b10>"
            ]
          },
          "metadata": {
            "tags": []
          },
          "execution_count": 25
        }
      ]
    },
    {
      "cell_type": "code",
      "metadata": {
        "colab": {
          "base_uri": "https://localhost:8080/"
        },
        "id": "JHHIfynb8Z6t",
        "outputId": "0c7232d7-ac94-4328-cca9-141e73b0580d"
      },
      "source": [
        "load_pred = model_load.predict(x_test[30:31])\n",
        "load_pred, np.argmax(load_pred)"
      ],
      "execution_count": 26,
      "outputs": [
        {
          "output_type": "execute_result",
          "data": {
            "text/plain": [
              "(array([[0.0000000e+00, 0.0000000e+00, 0.0000000e+00, 1.0000000e+00,\n",
              "         0.0000000e+00, 5.8388003e-32, 0.0000000e+00, 0.0000000e+00,\n",
              "         0.0000000e+00, 0.0000000e+00]], dtype=float32), 3)"
            ]
          },
          "metadata": {
            "tags": []
          },
          "execution_count": 26
        }
      ]
    },
    {
      "cell_type": "code",
      "metadata": {
        "id": "6fvCu16X9ZfK"
      },
      "source": [
        ""
      ],
      "execution_count": null,
      "outputs": []
    }
  ]
}