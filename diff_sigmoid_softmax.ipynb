{
  "nbformat": 4,
  "nbformat_minor": 0,
  "metadata": {
    "colab": {
      "name": "diff_sigmoid_softmax.ipynb",
      "provenance": [],
      "collapsed_sections": [],
      "authorship_tag": "ABX9TyMQ6+2zIo5gLM+ydOYJQvr5"
    },
    "kernelspec": {
      "name": "python3",
      "display_name": "Python 3"
    },
    "language_info": {
      "name": "python"
    }
  },
  "cells": [
    {
      "cell_type": "markdown",
      "metadata": {
        "id": "lPGrZmeR4OZt"
      },
      "source": [
        "# sigmoid"
      ]
    },
    {
      "cell_type": "code",
      "metadata": {
        "id": "tNht2IqA7E-N"
      },
      "source": [
        "import tensorflow as tf"
      ],
      "execution_count": 1,
      "outputs": []
    },
    {
      "cell_type": "code",
      "metadata": {
        "colab": {
          "base_uri": "https://localhost:8080/"
        },
        "id": "PqVFlS7F3pwq",
        "outputId": "6f54f18e-ccb0-4254-d933-dd02e47f3740"
      },
      "source": [
        "a = tf.constant([4.0, 1.0, 3.0], dtype=tf.float32)\n",
        "a"
      ],
      "execution_count": 9,
      "outputs": [
        {
          "output_type": "execute_result",
          "data": {
            "text/plain": [
              "<tf.Tensor: shape=(3,), dtype=float32, numpy=array([4., 1., 3.], dtype=float32)>"
            ]
          },
          "metadata": {
            "tags": []
          },
          "execution_count": 9
        }
      ]
    },
    {
      "cell_type": "code",
      "metadata": {
        "colab": {
          "base_uri": "https://localhost:8080/"
        },
        "id": "iL2WK-g54Ns1",
        "outputId": "47d6db77-71b1-4ce2-af06-c5493579b4e7"
      },
      "source": [
        "b= tf.keras.activations.sigmoid(a)\n",
        "b"
      ],
      "execution_count": 10,
      "outputs": [
        {
          "output_type": "execute_result",
          "data": {
            "text/plain": [
              "<tf.Tensor: shape=(3,), dtype=float32, numpy=array([0.98201376, 0.7310586 , 0.95257413], dtype=float32)>"
            ]
          },
          "metadata": {
            "tags": []
          },
          "execution_count": 10
        }
      ]
    },
    {
      "cell_type": "code",
      "metadata": {
        "colab": {
          "base_uri": "https://localhost:8080/"
        },
        "id": "ncI_nv4e4NqU",
        "outputId": "a421c57d-cc33-4805-f410-b31b4edbc73c"
      },
      "source": [
        "b.numpy()"
      ],
      "execution_count": 11,
      "outputs": [
        {
          "output_type": "execute_result",
          "data": {
            "text/plain": [
              "array([0.98201376, 0.7310586 , 0.95257413], dtype=float32)"
            ]
          },
          "metadata": {
            "tags": []
          },
          "execution_count": 11
        }
      ]
    },
    {
      "cell_type": "markdown",
      "metadata": {
        "id": "WVIHdr1M8Y2k"
      },
      "source": [
        "# softmax"
      ]
    },
    {
      "cell_type": "code",
      "metadata": {
        "colab": {
          "base_uri": "https://localhost:8080/"
        },
        "id": "3fX38cBR4Nnu",
        "outputId": "aa1121a5-5634-4ce2-f326-192f2d13b38b"
      },
      "source": [
        "inputs = tf.random.normal(shape=(1, 3))\n",
        "inputs"
      ],
      "execution_count": 13,
      "outputs": [
        {
          "output_type": "execute_result",
          "data": {
            "text/plain": [
              "<tf.Tensor: shape=(1, 3), dtype=float32, numpy=array([[-0.26849222,  0.10720734,  2.9188383 ]], dtype=float32)>"
            ]
          },
          "metadata": {
            "tags": []
          },
          "execution_count": 13
        }
      ]
    },
    {
      "cell_type": "code",
      "metadata": {
        "colab": {
          "base_uri": "https://localhost:8080/"
        },
        "id": "44nXGHgG4Nit",
        "outputId": "27221108-3b95-45b9-f396-7971f05bc1ca"
      },
      "source": [
        "outputs = tf.keras.activations.softmax(inputs)\n",
        "outputs"
      ],
      "execution_count": 14,
      "outputs": [
        {
          "output_type": "execute_result",
          "data": {
            "text/plain": [
              "<tf.Tensor: shape=(1, 3), dtype=float32, numpy=array([[0.0374817 , 0.05457371, 0.90794456]], dtype=float32)>"
            ]
          },
          "metadata": {
            "tags": []
          },
          "execution_count": 14
        }
      ]
    },
    {
      "cell_type": "code",
      "metadata": {
        "colab": {
          "base_uri": "https://localhost:8080/"
        },
        "id": "Uu0TX8qq4NdM",
        "outputId": "9fa43a26-5caf-4a6e-83d4-de5636c73ea3"
      },
      "source": [
        "outputs.numpy()\n",
        "# softmax를 사용하면 합산값이 1을 넘지 않음"
      ],
      "execution_count": 15,
      "outputs": [
        {
          "output_type": "execute_result",
          "data": {
            "text/plain": [
              "array([[0.0374817 , 0.05457371, 0.90794456]], dtype=float32)"
            ]
          },
          "metadata": {
            "tags": []
          },
          "execution_count": 15
        }
      ]
    },
    {
      "cell_type": "code",
      "metadata": {
        "colab": {
          "base_uri": "https://localhost:8080/"
        },
        "id": "prELSjqP9hQ3",
        "outputId": "e683163b-f4fa-4095-d148-c60fb0c57deb"
      },
      "source": [
        "0.0374817+0.05457371+0.90794456"
      ],
      "execution_count": 17,
      "outputs": [
        {
          "output_type": "execute_result",
          "data": {
            "text/plain": [
              "0.99999997"
            ]
          },
          "metadata": {
            "tags": []
          },
          "execution_count": 17
        }
      ]
    },
    {
      "cell_type": "code",
      "metadata": {
        "id": "SUWYE4uG94BJ"
      },
      "source": [
        ""
      ],
      "execution_count": null,
      "outputs": []
    }
  ]
}