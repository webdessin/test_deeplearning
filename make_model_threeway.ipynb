{
  "nbformat": 4,
  "nbformat_minor": 0,
  "metadata": {
    "colab": {
      "name": "make_model_threeway.ipynb",
      "provenance": [],
      "collapsed_sections": [],
      "authorship_tag": "ABX9TyP5PKFqECgUG+lapLFUL2hN"
    },
    "kernelspec": {
      "name": "python3",
      "display_name": "Python 3"
    },
    "language_info": {
      "name": "python"
    }
  },
  "cells": [
    {
      "cell_type": "markdown",
      "metadata": {
        "id": "q9Zqs3gWW389"
      },
      "source": [
        "# Sequential()"
      ]
    },
    {
      "cell_type": "markdown",
      "metadata": {
        "id": "CHrS11OxYSbr"
      },
      "source": [
        "# Function API"
      ]
    },
    {
      "cell_type": "code",
      "metadata": {
        "id": "5mNEwspIW3eQ"
      },
      "source": [
        "import tensorflow as tf"
      ],
      "execution_count": 10,
      "outputs": []
    },
    {
      "cell_type": "code",
      "metadata": {
        "id": "etdTf763XO4T"
      },
      "source": [
        "inputs = tf.keras.Input(shape=(2,))"
      ],
      "execution_count": 11,
      "outputs": []
    },
    {
      "cell_type": "code",
      "metadata": {
        "id": "eHAZ_JUuYER5"
      },
      "source": [
        "hidden = tf.keras.layers.Dense(2, activation='sigmoid')(inputs)"
      ],
      "execution_count": 12,
      "outputs": []
    },
    {
      "cell_type": "code",
      "metadata": {
        "id": "sKLOYN_tYQe6"
      },
      "source": [
        "outputs = tf.keras.layers.Dense(1, activation='sigmoid')(hidden)"
      ],
      "execution_count": 16,
      "outputs": []
    },
    {
      "cell_type": "code",
      "metadata": {
        "id": "EDf1lKzrYl9f"
      },
      "source": [
        "model = tf.keras.models.Model(inputs=inputs, outputs=outputs)"
      ],
      "execution_count": 17,
      "outputs": []
    },
    {
      "cell_type": "code",
      "metadata": {
        "colab": {
          "base_uri": "https://localhost:8080/",
          "height": 272
        },
        "id": "1GJi8SU0ZX7b",
        "outputId": "4f941ce1-fcd8-4411-e12c-ce2143045a96"
      },
      "source": [
        "tf.keras.utils.plot_model(model)"
      ],
      "execution_count": 18,
      "outputs": [
        {
          "output_type": "execute_result",
          "data": {
            "image/png": "[encoded data removed]",
            "text/plain": [
              "<IPython.core.display.Image object>"
            ]
          },
          "metadata": {},
          "execution_count": 18
        }
      ]
    },
    {
      "cell_type": "code",
      "metadata": {
        "id": "5ViGM4lYZqjo"
      },
      "source": [
        ""
      ],
      "execution_count": null,
      "outputs": []
    }
  ]
}