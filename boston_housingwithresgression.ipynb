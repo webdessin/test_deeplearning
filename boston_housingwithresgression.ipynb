{
  "nbformat": 4,
  "nbformat_minor": 0,
  "metadata": {
    "colab": {
      "name": "boston_housingwithresgression.ipynb",
      "provenance": [],
      "collapsed_sections": [],
      "authorship_tag": "ABX9TyP57HdfzqBgiwiEvUUm9Dq0"
    },
    "kernelspec": {
      "name": "python3",
      "display_name": "Python 3"
    },
    "language_info": {
      "name": "python"
    }
  },
  "cells": [
    {
      "cell_type": "code",
      "metadata": {
        "id": "LeSWCa78X22o"
      },
      "source": [
        "import tensorflow as tf\n",
        "from tensorflow.keras.datasets.boston_housing import load_data"
      ],
      "execution_count": 2,
      "outputs": []
    },
    {
      "cell_type": "markdown",
      "metadata": {
        "id": "vEyKs9oA1IYh"
      },
      "source": [
        "# Dataset"
      ]
    },
    {
      "cell_type": "code",
      "metadata": {
        "colab": {
          "base_uri": "https://localhost:8080/"
        },
        "id": "mh9SEIEfa4in",
        "outputId": "d301b1ae-8f2c-4440-e9c0-fb9abd20956a"
      },
      "source": [
        "(x_train, y_train), (x_test, y_test) = load_data(path='boston_housing.npz', test_split=0.2, seed=113)\n",
        "x_train.shape, y_train.shape, x_test.shape, y_test.shape"
      ],
      "execution_count": 3,
      "outputs": [
        {
          "output_type": "stream",
          "text": [
            "Downloading data from https://storage.googleapis.com/tensorflow/tf-keras-datasets/boston_housing.npz\n",
            "57344/57026 [==============================] - 0s 0us/step\n"
          ],
          "name": "stdout"
        },
        {
          "output_type": "execute_result",
          "data": {
            "text/plain": [
              "((404, 13), (404,), (102, 13), (102,))"
            ]
          },
          "metadata": {
            "tags": []
          },
          "execution_count": 3
        }
      ]
    },
    {
      "cell_type": "code",
      "metadata": {
        "id": "n6YSq1Gq1LOa"
      },
      "source": [
        "import pandas as pd"
      ],
      "execution_count": 33,
      "outputs": []
    },
    {
      "cell_type": "code",
      "metadata": {
        "colab": {
          "base_uri": "https://localhost:8080/"
        },
        "id": "xlm-uwy01YU1",
        "outputId": "c8cc2d33-deec-4a6b-c553-7979a632e038"
      },
      "source": [
        "df = pd.DataFrame(x_train)\n",
        "df.info()"
      ],
      "execution_count": 35,
      "outputs": [
        {
          "output_type": "stream",
          "text": [
            "<class 'pandas.core.frame.DataFrame'>\n",
            "RangeIndex: 404 entries, 0 to 403\n",
            "Data columns (total 13 columns):\n",
            " #   Column  Non-Null Count  Dtype  \n",
            "---  ------  --------------  -----  \n",
            " 0   0       404 non-null    float64\n",
            " 1   1       404 non-null    float64\n",
            " 2   2       404 non-null    float64\n",
            " 3   3       404 non-null    float64\n",
            " 4   4       404 non-null    float64\n",
            " 5   5       404 non-null    float64\n",
            " 6   6       404 non-null    float64\n",
            " 7   7       404 non-null    float64\n",
            " 8   8       404 non-null    float64\n",
            " 9   9       404 non-null    float64\n",
            " 10  10      404 non-null    float64\n",
            " 11  11      404 non-null    float64\n",
            " 12  12      404 non-null    float64\n",
            "dtypes: float64(13)\n",
            "memory usage: 41.2 KB\n"
          ],
          "name": "stdout"
        }
      ]
    },
    {
      "cell_type": "code",
      "metadata": {
        "colab": {
          "base_uri": "https://localhost:8080/",
          "height": 297
        },
        "id": "gWF4WyQ72VYi",
        "outputId": "e5530e26-236a-48c0-c623-013cf89845b4"
      },
      "source": [
        "df.describe()"
      ],
      "execution_count": 36,
      "outputs": [
        {
          "output_type": "execute_result",
          "data": {
            "text/html": [
              "<div>\n",
              "<style scoped>\n",
              "    .dataframe tbody tr th:only-of-type {\n",
              "        vertical-align: middle;\n",
              "    }\n",
              "\n",
              "    .dataframe tbody tr th {\n",
              "        vertical-align: top;\n",
              "    }\n",
              "\n",
              "    .dataframe thead th {\n",
              "        text-align: right;\n",
              "    }\n",
              "</style>\n",
              "<table border=\"1\" class=\"dataframe\">\n",
              "  <thead>\n",
              "    <tr style=\"text-align: right;\">\n",
              "      <th></th>\n",
              "      <th>0</th>\n",
              "      <th>1</th>\n",
              "      <th>2</th>\n",
              "      <th>3</th>\n",
              "      <th>4</th>\n",
              "      <th>5</th>\n",
              "      <th>6</th>\n",
              "      <th>7</th>\n",
              "      <th>8</th>\n",
              "      <th>9</th>\n",
              "      <th>10</th>\n",
              "      <th>11</th>\n",
              "      <th>12</th>\n",
              "    </tr>\n",
              "  </thead>\n",
              "  <tbody>\n",
              "    <tr>\n",
              "      <th>count</th>\n",
              "      <td>404.000000</td>\n",
              "      <td>404.000000</td>\n",
              "      <td>404.000000</td>\n",
              "      <td>404.000000</td>\n",
              "      <td>404.000000</td>\n",
              "      <td>404.000000</td>\n",
              "      <td>404.000000</td>\n",
              "      <td>404.000000</td>\n",
              "      <td>404.000000</td>\n",
              "      <td>404.000000</td>\n",
              "      <td>404.000000</td>\n",
              "      <td>404.000000</td>\n",
              "      <td>404.000000</td>\n",
              "    </tr>\n",
              "    <tr>\n",
              "      <th>mean</th>\n",
              "      <td>3.745111</td>\n",
              "      <td>11.480198</td>\n",
              "      <td>11.104431</td>\n",
              "      <td>0.061881</td>\n",
              "      <td>0.557356</td>\n",
              "      <td>6.267082</td>\n",
              "      <td>69.010644</td>\n",
              "      <td>3.740271</td>\n",
              "      <td>9.440594</td>\n",
              "      <td>405.898515</td>\n",
              "      <td>18.475990</td>\n",
              "      <td>354.783168</td>\n",
              "      <td>12.740817</td>\n",
              "    </tr>\n",
              "    <tr>\n",
              "      <th>std</th>\n",
              "      <td>9.240734</td>\n",
              "      <td>23.767711</td>\n",
              "      <td>6.811308</td>\n",
              "      <td>0.241238</td>\n",
              "      <td>0.117293</td>\n",
              "      <td>0.709788</td>\n",
              "      <td>27.940665</td>\n",
              "      <td>2.030215</td>\n",
              "      <td>8.698360</td>\n",
              "      <td>166.374543</td>\n",
              "      <td>2.200382</td>\n",
              "      <td>94.111148</td>\n",
              "      <td>7.254545</td>\n",
              "    </tr>\n",
              "    <tr>\n",
              "      <th>min</th>\n",
              "      <td>0.006320</td>\n",
              "      <td>0.000000</td>\n",
              "      <td>0.460000</td>\n",
              "      <td>0.000000</td>\n",
              "      <td>0.385000</td>\n",
              "      <td>3.561000</td>\n",
              "      <td>2.900000</td>\n",
              "      <td>1.129600</td>\n",
              "      <td>1.000000</td>\n",
              "      <td>188.000000</td>\n",
              "      <td>12.600000</td>\n",
              "      <td>0.320000</td>\n",
              "      <td>1.730000</td>\n",
              "    </tr>\n",
              "    <tr>\n",
              "      <th>25%</th>\n",
              "      <td>0.081437</td>\n",
              "      <td>0.000000</td>\n",
              "      <td>5.130000</td>\n",
              "      <td>0.000000</td>\n",
              "      <td>0.453000</td>\n",
              "      <td>5.874750</td>\n",
              "      <td>45.475000</td>\n",
              "      <td>2.077100</td>\n",
              "      <td>4.000000</td>\n",
              "      <td>279.000000</td>\n",
              "      <td>17.225000</td>\n",
              "      <td>374.672500</td>\n",
              "      <td>6.890000</td>\n",
              "    </tr>\n",
              "    <tr>\n",
              "      <th>50%</th>\n",
              "      <td>0.268880</td>\n",
              "      <td>0.000000</td>\n",
              "      <td>9.690000</td>\n",
              "      <td>0.000000</td>\n",
              "      <td>0.538000</td>\n",
              "      <td>6.198500</td>\n",
              "      <td>78.500000</td>\n",
              "      <td>3.142300</td>\n",
              "      <td>5.000000</td>\n",
              "      <td>330.000000</td>\n",
              "      <td>19.100000</td>\n",
              "      <td>391.250000</td>\n",
              "      <td>11.395000</td>\n",
              "    </tr>\n",
              "    <tr>\n",
              "      <th>75%</th>\n",
              "      <td>3.674808</td>\n",
              "      <td>12.500000</td>\n",
              "      <td>18.100000</td>\n",
              "      <td>0.000000</td>\n",
              "      <td>0.631000</td>\n",
              "      <td>6.609000</td>\n",
              "      <td>94.100000</td>\n",
              "      <td>5.118000</td>\n",
              "      <td>24.000000</td>\n",
              "      <td>666.000000</td>\n",
              "      <td>20.200000</td>\n",
              "      <td>396.157500</td>\n",
              "      <td>17.092500</td>\n",
              "    </tr>\n",
              "    <tr>\n",
              "      <th>max</th>\n",
              "      <td>88.976200</td>\n",
              "      <td>100.000000</td>\n",
              "      <td>27.740000</td>\n",
              "      <td>1.000000</td>\n",
              "      <td>0.871000</td>\n",
              "      <td>8.725000</td>\n",
              "      <td>100.000000</td>\n",
              "      <td>10.710300</td>\n",
              "      <td>24.000000</td>\n",
              "      <td>711.000000</td>\n",
              "      <td>22.000000</td>\n",
              "      <td>396.900000</td>\n",
              "      <td>37.970000</td>\n",
              "    </tr>\n",
              "  </tbody>\n",
              "</table>\n",
              "</div>"
            ],
            "text/plain": [
              "               0           1           2   ...          10          11          12\n",
              "count  404.000000  404.000000  404.000000  ...  404.000000  404.000000  404.000000\n",
              "mean     3.745111   11.480198   11.104431  ...   18.475990  354.783168   12.740817\n",
              "std      9.240734   23.767711    6.811308  ...    2.200382   94.111148    7.254545\n",
              "min      0.006320    0.000000    0.460000  ...   12.600000    0.320000    1.730000\n",
              "25%      0.081437    0.000000    5.130000  ...   17.225000  374.672500    6.890000\n",
              "50%      0.268880    0.000000    9.690000  ...   19.100000  391.250000   11.395000\n",
              "75%      3.674808   12.500000   18.100000  ...   20.200000  396.157500   17.092500\n",
              "max     88.976200  100.000000   27.740000  ...   22.000000  396.900000   37.970000\n",
              "\n",
              "[8 rows x 13 columns]"
            ]
          },
          "metadata": {
            "tags": []
          },
          "execution_count": 36
        }
      ]
    },
    {
      "cell_type": "code",
      "metadata": {
        "colab": {
          "base_uri": "https://localhost:8080/"
        },
        "id": "H8gnC4Wg3xYx",
        "outputId": "69c6ce41-44bd-4a70-887b-7a3de28fecb4"
      },
      "source": [
        "from sklearn.preprocessing import StandardScaler\n",
        "scaler = StandardScaler()\n",
        "scaler.fit(x_train)"
      ],
      "execution_count": 37,
      "outputs": [
        {
          "output_type": "execute_result",
          "data": {
            "text/plain": [
              "StandardScaler(copy=True, with_mean=True, with_std=True)"
            ]
          },
          "metadata": {
            "tags": []
          },
          "execution_count": 37
        }
      ]
    },
    {
      "cell_type": "code",
      "metadata": {
        "colab": {
          "base_uri": "https://localhost:8080/"
        },
        "id": "9vllQVfN3xS9",
        "outputId": "a6df2b47-e987-4e8e-c966-527c7ec7fb5e"
      },
      "source": [
        "x_train = scaler.transform(x_train)\n",
        "x_test = scaler.transform(x_test)\n",
        "x_train.shape, x_test.shape"
      ],
      "execution_count": 38,
      "outputs": [
        {
          "output_type": "execute_result",
          "data": {
            "text/plain": [
              "((404, 13), (102, 13))"
            ]
          },
          "metadata": {
            "tags": []
          },
          "execution_count": 38
        }
      ]
    },
    {
      "cell_type": "code",
      "metadata": {
        "colab": {
          "base_uri": "https://localhost:8080/",
          "height": 297
        },
        "id": "xE9Qhkzu4JhR",
        "outputId": "7830b6af-4975-4d69-9367-0babde79254c"
      },
      "source": [
        "df = pd.DataFrame(x_train)\n",
        "df.describe()"
      ],
      "execution_count": 39,
      "outputs": [
        {
          "output_type": "execute_result",
          "data": {
            "text/html": [
              "<div>\n",
              "<style scoped>\n",
              "    .dataframe tbody tr th:only-of-type {\n",
              "        vertical-align: middle;\n",
              "    }\n",
              "\n",
              "    .dataframe tbody tr th {\n",
              "        vertical-align: top;\n",
              "    }\n",
              "\n",
              "    .dataframe thead th {\n",
              "        text-align: right;\n",
              "    }\n",
              "</style>\n",
              "<table border=\"1\" class=\"dataframe\">\n",
              "  <thead>\n",
              "    <tr style=\"text-align: right;\">\n",
              "      <th></th>\n",
              "      <th>0</th>\n",
              "      <th>1</th>\n",
              "      <th>2</th>\n",
              "      <th>3</th>\n",
              "      <th>4</th>\n",
              "      <th>5</th>\n",
              "      <th>6</th>\n",
              "      <th>7</th>\n",
              "      <th>8</th>\n",
              "      <th>9</th>\n",
              "      <th>10</th>\n",
              "      <th>11</th>\n",
              "      <th>12</th>\n",
              "    </tr>\n",
              "  </thead>\n",
              "  <tbody>\n",
              "    <tr>\n",
              "      <th>count</th>\n",
              "      <td>4.040000e+02</td>\n",
              "      <td>4.040000e+02</td>\n",
              "      <td>4.040000e+02</td>\n",
              "      <td>4.040000e+02</td>\n",
              "      <td>4.040000e+02</td>\n",
              "      <td>4.040000e+02</td>\n",
              "      <td>4.040000e+02</td>\n",
              "      <td>4.040000e+02</td>\n",
              "      <td>4.040000e+02</td>\n",
              "      <td>4.040000e+02</td>\n",
              "      <td>4.040000e+02</td>\n",
              "      <td>4.040000e+02</td>\n",
              "      <td>4.040000e+02</td>\n",
              "    </tr>\n",
              "    <tr>\n",
              "      <th>mean</th>\n",
              "      <td>-1.015414e-16</td>\n",
              "      <td>1.099231e-17</td>\n",
              "      <td>1.743380e-15</td>\n",
              "      <td>-1.266863e-16</td>\n",
              "      <td>-5.253773e-15</td>\n",
              "      <td>6.414149e-15</td>\n",
              "      <td>2.984411e-16</td>\n",
              "      <td>4.946538e-16</td>\n",
              "      <td>1.126711e-17</td>\n",
              "      <td>-1.981363e-16</td>\n",
              "      <td>2.366864e-14</td>\n",
              "      <td>5.956800e-15</td>\n",
              "      <td>6.139204e-16</td>\n",
              "    </tr>\n",
              "    <tr>\n",
              "      <th>std</th>\n",
              "      <td>1.001240e+00</td>\n",
              "      <td>1.001240e+00</td>\n",
              "      <td>1.001240e+00</td>\n",
              "      <td>1.001240e+00</td>\n",
              "      <td>1.001240e+00</td>\n",
              "      <td>1.001240e+00</td>\n",
              "      <td>1.001240e+00</td>\n",
              "      <td>1.001240e+00</td>\n",
              "      <td>1.001240e+00</td>\n",
              "      <td>1.001240e+00</td>\n",
              "      <td>1.001240e+00</td>\n",
              "      <td>1.001240e+00</td>\n",
              "      <td>1.001240e+00</td>\n",
              "    </tr>\n",
              "    <tr>\n",
              "      <th>min</th>\n",
              "      <td>-4.051005e-01</td>\n",
              "      <td>-4.836155e-01</td>\n",
              "      <td>-1.564696e+00</td>\n",
              "      <td>-2.568327e-01</td>\n",
              "      <td>-1.471269e+00</td>\n",
              "      <td>-3.817250e+00</td>\n",
              "      <td>-2.369042e+00</td>\n",
              "      <td>-1.287503e+00</td>\n",
              "      <td>-9.715693e-01</td>\n",
              "      <td>-1.311311e+00</td>\n",
              "      <td>-2.673752e+00</td>\n",
              "      <td>-3.771101e+00</td>\n",
              "      <td>-1.519664e+00</td>\n",
              "    </tr>\n",
              "    <tr>\n",
              "      <th>25%</th>\n",
              "      <td>-3.969615e-01</td>\n",
              "      <td>-4.836155e-01</td>\n",
              "      <td>-8.782218e-01</td>\n",
              "      <td>-2.568327e-01</td>\n",
              "      <td>-8.908055e-01</td>\n",
              "      <td>-5.534305e-01</td>\n",
              "      <td>-8.433882e-01</td>\n",
              "      <td>-8.202251e-01</td>\n",
              "      <td>-6.262491e-01</td>\n",
              "      <td>-7.636737e-01</td>\n",
              "      <td>-5.692381e-01</td>\n",
              "      <td>2.116008e-01</td>\n",
              "      <td>-8.075036e-01</td>\n",
              "    </tr>\n",
              "    <tr>\n",
              "      <th>50%</th>\n",
              "      <td>-3.766520e-01</td>\n",
              "      <td>-4.836155e-01</td>\n",
              "      <td>-2.079167e-01</td>\n",
              "      <td>-2.568327e-01</td>\n",
              "      <td>-1.652266e-01</td>\n",
              "      <td>-9.674263e-02</td>\n",
              "      <td>3.400464e-01</td>\n",
              "      <td>-2.949009e-01</td>\n",
              "      <td>-5.111423e-01</td>\n",
              "      <td>-4.567563e-01</td>\n",
              "      <td>2.839433e-01</td>\n",
              "      <td>3.879673e-01</td>\n",
              "      <td>-1.857436e-01</td>\n",
              "    </tr>\n",
              "    <tr>\n",
              "      <th>75%</th>\n",
              "      <td>-7.617386e-03</td>\n",
              "      <td>4.296024e-02</td>\n",
              "      <td>1.028326e+00</td>\n",
              "      <td>-2.568327e-01</td>\n",
              "      <td>6.286420e-01</td>\n",
              "      <td>4.823165e-01</td>\n",
              "      <td>8.990647e-01</td>\n",
              "      <td>6.794540e-01</td>\n",
              "      <td>1.675886e+00</td>\n",
              "      <td>1.565287e+00</td>\n",
              "      <td>7.844764e-01</td>\n",
              "      <td>4.401777e-01</td>\n",
              "      <td>6.005999e-01</td>\n",
              "    </tr>\n",
              "    <tr>\n",
              "      <th>max</th>\n",
              "      <td>9.234847e+00</td>\n",
              "      <td>3.728990e+00</td>\n",
              "      <td>2.445374e+00</td>\n",
              "      <td>3.893584e+00</td>\n",
              "      <td>2.677335e+00</td>\n",
              "      <td>3.467186e+00</td>\n",
              "      <td>1.110488e+00</td>\n",
              "      <td>3.437406e+00</td>\n",
              "      <td>1.675886e+00</td>\n",
              "      <td>1.836097e+00</td>\n",
              "      <td>1.603531e+00</td>\n",
              "      <td>4.480771e-01</td>\n",
              "      <td>3.482019e+00</td>\n",
              "    </tr>\n",
              "  </tbody>\n",
              "</table>\n",
              "</div>"
            ],
            "text/plain": [
              "                 0             1   ...            11            12\n",
              "count  4.040000e+02  4.040000e+02  ...  4.040000e+02  4.040000e+02\n",
              "mean  -1.015414e-16  1.099231e-17  ...  5.956800e-15  6.139204e-16\n",
              "std    1.001240e+00  1.001240e+00  ...  1.001240e+00  1.001240e+00\n",
              "min   -4.051005e-01 -4.836155e-01  ... -3.771101e+00 -1.519664e+00\n",
              "25%   -3.969615e-01 -4.836155e-01  ...  2.116008e-01 -8.075036e-01\n",
              "50%   -3.766520e-01 -4.836155e-01  ...  3.879673e-01 -1.857436e-01\n",
              "75%   -7.617386e-03  4.296024e-02  ...  4.401777e-01  6.005999e-01\n",
              "max    9.234847e+00  3.728990e+00  ...  4.480771e-01  3.482019e+00\n",
              "\n",
              "[8 rows x 13 columns]"
            ]
          },
          "metadata": {
            "tags": []
          },
          "execution_count": 39
        }
      ]
    },
    {
      "cell_type": "markdown",
      "metadata": {
        "id": "fhmjEuHLx9Vd"
      },
      "source": [
        "# Model and fit"
      ]
    },
    {
      "cell_type": "code",
      "metadata": {
        "colab": {
          "base_uri": "https://localhost:8080/"
        },
        "id": "0E9Yi3gJd47F",
        "outputId": "a9a3d40e-11f7-428f-e54c-2612f9dec58f"
      },
      "source": [
        "type(x_train)"
      ],
      "execution_count": 4,
      "outputs": [
        {
          "output_type": "execute_result",
          "data": {
            "text/plain": [
              "numpy.ndarray"
            ]
          },
          "metadata": {
            "tags": []
          },
          "execution_count": 4
        }
      ]
    },
    {
      "cell_type": "code",
      "metadata": {
        "id": "ybnsZ-hmeVr7"
      },
      "source": [
        "model = tf.keras.models.Sequential()"
      ],
      "execution_count": 26,
      "outputs": []
    },
    {
      "cell_type": "code",
      "metadata": {
        "colab": {
          "base_uri": "https://localhost:8080/"
        },
        "id": "r09YQqfqfMl6",
        "outputId": "556537e2-0667-4496-b62a-ec36acb395b3"
      },
      "source": [
        "model.add(tf.keras.Input(shape=(13))) # input layer\n",
        "model.add(tf.keras.layers.Dense(64, activation = 'sigmoid')) # 기능 layer\n",
        "model.add(tf.keras.layers.Dense(64, activation = 'sigmoid')) # hidden layer\n",
        "model.add(tf.keras.layers.Dense(64, activation = 'sigmoid')) # hidden layer\n",
        "model.add(tf.keras.layers.Dense(1, )) # output layer\n",
        "\n",
        "model.compile(optimizer='sgd', loss='mse', metrics=['mae'])"
      ],
      "execution_count": 27,
      "outputs": [
        {
          "output_type": "stream",
          "text": [
            "WARNING:tensorflow:Please add `keras.layers.InputLayer` instead of `keras.Input` to Sequential model. `keras.Input` is intended to be used by Functional model.\n"
          ],
          "name": "stdout"
        }
      ]
    },
    {
      "cell_type": "code",
      "metadata": {
        "colab": {
          "base_uri": "https://localhost:8080/",
          "height": 533
        },
        "id": "Cbc-gVeKqkEP",
        "outputId": "63bfaf41-c7ee-4206-a36c-0e6dd7205e6b"
      },
      "source": [
        "tf.keras.utils.plot_model(model, show_shapes=True)"
      ],
      "execution_count": 29,
      "outputs": [
        {
          "output_type": "execute_result",
          "data": {
            "image/png": "[encoded data removed]",
            "text/plain": [
              "<IPython.core.display.Image object>"
            ]
          },
          "metadata": {
            "tags": []
          },
          "execution_count": 29
        }
      ]
    },
    {
      "cell_type": "code",
      "metadata": {
        "colab": {
          "base_uri": "https://localhost:8080/"
        },
        "id": "q9lCTdoarDVV",
        "outputId": "a6c59b91-f4e3-4952-c1f7-e3e00f7019c3"
      },
      "source": [
        "model.summary()"
      ],
      "execution_count": 30,
      "outputs": [
        {
          "output_type": "stream",
          "text": [
            "Model: \"sequential_2\"\n",
            "_________________________________________________________________\n",
            "Layer (type)                 Output Shape              Param #   \n",
            "=================================================================\n",
            "dense_14 (Dense)             (None, 64)                896       \n",
            "_________________________________________________________________\n",
            "dense_15 (Dense)             (None, 64)                4160      \n",
            "_________________________________________________________________\n",
            "dense_16 (Dense)             (None, 64)                4160      \n",
            "_________________________________________________________________\n",
            "dense_17 (Dense)             (None, 1)                 65        \n",
            "=================================================================\n",
            "Total params: 9,281\n",
            "Trainable params: 9,281\n",
            "Non-trainable params: 0\n",
            "_________________________________________________________________\n"
          ],
          "name": "stdout"
        }
      ]
    },
    {
      "cell_type": "code",
      "metadata": {
        "colab": {
          "base_uri": "https://localhost:8080/"
        },
        "id": "52LbqaImrQG8",
        "outputId": "7622a4cd-3799-4bde-92f2-029878cf0aab"
      },
      "source": [
        "model.fit(x_train, y_train, epochs = 100)"
      ],
      "execution_count": 31,
      "outputs": [
        {
          "output_type": "stream",
          "text": [
            "Epoch 1/100\n",
            "13/13 [==============================] - 0s 1ms/step - loss: 143.8130 - mae: 8.1328\n",
            "Epoch 2/100\n",
            "13/13 [==============================] - 0s 1ms/step - loss: 84.6779 - mae: 6.6867\n",
            "Epoch 3/100\n",
            "13/13 [==============================] - 0s 1ms/step - loss: 82.2175 - mae: 6.5659\n",
            "Epoch 4/100\n",
            "13/13 [==============================] - 0s 1ms/step - loss: 82.6755 - mae: 6.6304\n",
            "Epoch 5/100\n",
            "13/13 [==============================] - 0s 1ms/step - loss: 81.7568 - mae: 6.4581\n",
            "Epoch 6/100\n",
            "13/13 [==============================] - 0s 2ms/step - loss: 82.4093 - mae: 6.5903\n",
            "Epoch 7/100\n",
            "13/13 [==============================] - 0s 1ms/step - loss: 79.7991 - mae: 6.3757\n",
            "Epoch 8/100\n",
            "13/13 [==============================] - 0s 2ms/step - loss: 79.5378 - mae: 6.3794\n",
            "Epoch 9/100\n",
            "13/13 [==============================] - 0s 1ms/step - loss: 76.9991 - mae: 6.3583\n",
            "Epoch 10/100\n",
            "13/13 [==============================] - 0s 2ms/step - loss: 77.3322 - mae: 6.3252\n",
            "Epoch 11/100\n",
            "13/13 [==============================] - 0s 1ms/step - loss: 73.5809 - mae: 6.1554\n",
            "Epoch 12/100\n",
            "13/13 [==============================] - 0s 1ms/step - loss: 77.5619 - mae: 6.2452\n",
            "Epoch 13/100\n",
            "13/13 [==============================] - 0s 1ms/step - loss: 77.1614 - mae: 6.5231\n",
            "Epoch 14/100\n",
            "13/13 [==============================] - 0s 2ms/step - loss: 72.7377 - mae: 6.0115\n",
            "Epoch 15/100\n",
            "13/13 [==============================] - 0s 2ms/step - loss: 74.9033 - mae: 6.1915\n",
            "Epoch 16/100\n",
            "13/13 [==============================] - 0s 1ms/step - loss: 75.3178 - mae: 6.3817\n",
            "Epoch 17/100\n",
            "13/13 [==============================] - 0s 2ms/step - loss: 76.4485 - mae: 6.3308\n",
            "Epoch 18/100\n",
            "13/13 [==============================] - 0s 2ms/step - loss: 77.4170 - mae: 6.5474\n",
            "Epoch 19/100\n",
            "13/13 [==============================] - 0s 2ms/step - loss: 80.3391 - mae: 6.4683\n",
            "Epoch 20/100\n",
            "13/13 [==============================] - 0s 2ms/step - loss: 84.9380 - mae: 6.9148\n",
            "Epoch 21/100\n",
            "13/13 [==============================] - 0s 1ms/step - loss: 82.5912 - mae: 6.6181\n",
            "Epoch 22/100\n",
            "13/13 [==============================] - 0s 2ms/step - loss: 80.8462 - mae: 6.4651\n",
            "Epoch 23/100\n",
            "13/13 [==============================] - 0s 2ms/step - loss: 81.1319 - mae: 6.5148\n",
            "Epoch 24/100\n",
            "13/13 [==============================] - 0s 2ms/step - loss: 81.4312 - mae: 6.5319\n",
            "Epoch 25/100\n",
            "13/13 [==============================] - 0s 2ms/step - loss: 80.7900 - mae: 6.5523\n",
            "Epoch 26/100\n",
            "13/13 [==============================] - 0s 2ms/step - loss: 78.0109 - mae: 6.3736\n",
            "Epoch 27/100\n",
            "13/13 [==============================] - 0s 2ms/step - loss: 78.9850 - mae: 6.3518\n",
            "Epoch 28/100\n",
            "13/13 [==============================] - 0s 2ms/step - loss: 81.0039 - mae: 6.6103\n",
            "Epoch 29/100\n",
            "13/13 [==============================] - 0s 1ms/step - loss: 81.0334 - mae: 6.5005\n",
            "Epoch 30/100\n",
            "13/13 [==============================] - 0s 2ms/step - loss: 79.8301 - mae: 6.4222\n",
            "Epoch 31/100\n",
            "13/13 [==============================] - 0s 1ms/step - loss: 78.8307 - mae: 6.3753\n",
            "Epoch 32/100\n",
            "13/13 [==============================] - 0s 1ms/step - loss: 79.1582 - mae: 6.4458\n",
            "Epoch 33/100\n",
            "13/13 [==============================] - 0s 1ms/step - loss: 78.8711 - mae: 6.4410\n",
            "Epoch 34/100\n",
            "13/13 [==============================] - 0s 2ms/step - loss: 80.3597 - mae: 6.4480\n",
            "Epoch 35/100\n",
            "13/13 [==============================] - 0s 2ms/step - loss: 78.4373 - mae: 6.3935\n",
            "Epoch 36/100\n",
            "13/13 [==============================] - 0s 2ms/step - loss: 78.7306 - mae: 6.4148\n",
            "Epoch 37/100\n",
            "13/13 [==============================] - 0s 2ms/step - loss: 78.6154 - mae: 6.3690\n",
            "Epoch 38/100\n",
            "13/13 [==============================] - 0s 1ms/step - loss: 78.4736 - mae: 6.3008\n",
            "Epoch 39/100\n",
            "13/13 [==============================] - 0s 1ms/step - loss: 77.4696 - mae: 6.3077\n",
            "Epoch 40/100\n",
            "13/13 [==============================] - 0s 1ms/step - loss: 71.2757 - mae: 6.1039\n",
            "Epoch 41/100\n",
            "13/13 [==============================] - 0s 1ms/step - loss: 79.6311 - mae: 6.3481\n",
            "Epoch 42/100\n",
            "13/13 [==============================] - 0s 2ms/step - loss: 74.5807 - mae: 6.2512\n",
            "Epoch 43/100\n",
            "13/13 [==============================] - 0s 2ms/step - loss: 74.7437 - mae: 6.1324\n",
            "Epoch 44/100\n",
            "13/13 [==============================] - 0s 1ms/step - loss: 74.0443 - mae: 6.1350\n",
            "Epoch 45/100\n",
            "13/13 [==============================] - 0s 1ms/step - loss: 72.2048 - mae: 6.0465\n",
            "Epoch 46/100\n",
            "13/13 [==============================] - 0s 2ms/step - loss: 75.9936 - mae: 6.3306\n",
            "Epoch 47/100\n",
            "13/13 [==============================] - 0s 2ms/step - loss: 71.9217 - mae: 6.1229\n",
            "Epoch 48/100\n",
            "13/13 [==============================] - 0s 2ms/step - loss: 71.9383 - mae: 6.2130\n",
            "Epoch 49/100\n",
            "13/13 [==============================] - 0s 2ms/step - loss: 71.7853 - mae: 6.1575\n",
            "Epoch 50/100\n",
            "13/13 [==============================] - 0s 2ms/step - loss: 77.0107 - mae: 6.3626\n",
            "Epoch 51/100\n",
            "13/13 [==============================] - 0s 2ms/step - loss: 71.8797 - mae: 5.9551\n",
            "Epoch 52/100\n",
            "13/13 [==============================] - 0s 2ms/step - loss: 71.3717 - mae: 6.0466\n",
            "Epoch 53/100\n",
            "13/13 [==============================] - 0s 2ms/step - loss: 71.6297 - mae: 5.9920\n",
            "Epoch 54/100\n",
            "13/13 [==============================] - 0s 1ms/step - loss: 73.7221 - mae: 6.1577\n",
            "Epoch 55/100\n",
            "13/13 [==============================] - 0s 1ms/step - loss: 72.5218 - mae: 6.1032\n",
            "Epoch 56/100\n",
            "13/13 [==============================] - 0s 2ms/step - loss: 69.6101 - mae: 5.9200\n",
            "Epoch 57/100\n",
            "13/13 [==============================] - 0s 2ms/step - loss: 72.6883 - mae: 6.1448\n",
            "Epoch 58/100\n",
            "13/13 [==============================] - 0s 2ms/step - loss: 72.0371 - mae: 6.0665\n",
            "Epoch 59/100\n",
            "13/13 [==============================] - 0s 1ms/step - loss: 72.5437 - mae: 6.1632\n",
            "Epoch 60/100\n",
            "13/13 [==============================] - 0s 2ms/step - loss: 72.5390 - mae: 5.9893\n",
            "Epoch 61/100\n",
            "13/13 [==============================] - 0s 2ms/step - loss: 70.1292 - mae: 5.9962\n",
            "Epoch 62/100\n",
            "13/13 [==============================] - 0s 1ms/step - loss: 70.4501 - mae: 6.0133\n",
            "Epoch 63/100\n",
            "13/13 [==============================] - 0s 2ms/step - loss: 70.7435 - mae: 6.0280\n",
            "Epoch 64/100\n",
            "13/13 [==============================] - 0s 1ms/step - loss: 76.1751 - mae: 6.3023\n",
            "Epoch 65/100\n",
            "13/13 [==============================] - 0s 1ms/step - loss: 73.2088 - mae: 6.0759\n",
            "Epoch 66/100\n",
            "13/13 [==============================] - 0s 2ms/step - loss: 74.3209 - mae: 6.1461\n",
            "Epoch 67/100\n",
            "13/13 [==============================] - 0s 2ms/step - loss: 70.8713 - mae: 6.0104\n",
            "Epoch 68/100\n",
            "13/13 [==============================] - 0s 2ms/step - loss: 71.2847 - mae: 6.0384\n",
            "Epoch 69/100\n",
            "13/13 [==============================] - 0s 2ms/step - loss: 72.2608 - mae: 5.9365\n",
            "Epoch 70/100\n",
            "13/13 [==============================] - 0s 2ms/step - loss: 70.4263 - mae: 5.9738\n",
            "Epoch 71/100\n",
            "13/13 [==============================] - 0s 2ms/step - loss: 71.6396 - mae: 6.0279\n",
            "Epoch 72/100\n",
            "13/13 [==============================] - 0s 2ms/step - loss: 70.6252 - mae: 5.9302\n",
            "Epoch 73/100\n",
            "13/13 [==============================] - 0s 2ms/step - loss: 71.3995 - mae: 6.1062\n",
            "Epoch 74/100\n",
            "13/13 [==============================] - 0s 1ms/step - loss: 71.8932 - mae: 6.0310\n",
            "Epoch 75/100\n",
            "13/13 [==============================] - 0s 1ms/step - loss: 70.8206 - mae: 6.0439\n",
            "Epoch 76/100\n",
            "13/13 [==============================] - 0s 2ms/step - loss: 71.4646 - mae: 6.0412\n",
            "Epoch 77/100\n",
            "13/13 [==============================] - 0s 2ms/step - loss: 70.3981 - mae: 6.0367\n",
            "Epoch 78/100\n",
            "13/13 [==============================] - 0s 2ms/step - loss: 71.1113 - mae: 5.9160\n",
            "Epoch 79/100\n",
            "13/13 [==============================] - 0s 2ms/step - loss: 69.4678 - mae: 6.0169\n",
            "Epoch 80/100\n",
            "13/13 [==============================] - 0s 2ms/step - loss: 70.7442 - mae: 5.9367\n",
            "Epoch 81/100\n",
            "13/13 [==============================] - 0s 2ms/step - loss: 70.0273 - mae: 6.0503\n",
            "Epoch 82/100\n",
            "13/13 [==============================] - 0s 2ms/step - loss: 70.2186 - mae: 6.0625\n",
            "Epoch 83/100\n",
            "13/13 [==============================] - 0s 2ms/step - loss: 72.1411 - mae: 6.1051\n",
            "Epoch 84/100\n",
            "13/13 [==============================] - 0s 2ms/step - loss: 70.1937 - mae: 5.9778\n",
            "Epoch 85/100\n",
            "13/13 [==============================] - 0s 1ms/step - loss: 70.7057 - mae: 6.0414\n",
            "Epoch 86/100\n",
            "13/13 [==============================] - 0s 2ms/step - loss: 71.0133 - mae: 5.9994\n",
            "Epoch 87/100\n",
            "13/13 [==============================] - 0s 2ms/step - loss: 70.2736 - mae: 5.8954\n",
            "Epoch 88/100\n",
            "13/13 [==============================] - 0s 2ms/step - loss: 69.4547 - mae: 6.0323\n",
            "Epoch 89/100\n",
            "13/13 [==============================] - 0s 2ms/step - loss: 70.1737 - mae: 5.8611\n",
            "Epoch 90/100\n",
            "13/13 [==============================] - 0s 1ms/step - loss: 70.3600 - mae: 6.0452\n",
            "Epoch 91/100\n",
            "13/13 [==============================] - 0s 2ms/step - loss: 82.2440 - mae: 6.5776\n",
            "Epoch 92/100\n",
            "13/13 [==============================] - 0s 2ms/step - loss: 82.0269 - mae: 6.5675\n",
            "Epoch 93/100\n",
            "13/13 [==============================] - 0s 2ms/step - loss: 85.4672 - mae: 6.8774\n",
            "Epoch 94/100\n",
            "13/13 [==============================] - 0s 2ms/step - loss: 79.3029 - mae: 6.4660\n",
            "Epoch 95/100\n",
            "13/13 [==============================] - 0s 1ms/step - loss: 83.6897 - mae: 6.5474\n",
            "Epoch 96/100\n",
            "13/13 [==============================] - 0s 2ms/step - loss: 81.2900 - mae: 6.4587\n",
            "Epoch 97/100\n",
            "13/13 [==============================] - 0s 2ms/step - loss: 79.6096 - mae: 6.3870\n",
            "Epoch 98/100\n",
            "13/13 [==============================] - 0s 2ms/step - loss: 79.4809 - mae: 6.3616\n",
            "Epoch 99/100\n",
            "13/13 [==============================] - 0s 1ms/step - loss: 80.0435 - mae: 6.4751\n",
            "Epoch 100/100\n",
            "13/13 [==============================] - 0s 2ms/step - loss: 80.2720 - mae: 6.3955\n"
          ],
          "name": "stdout"
        },
        {
          "output_type": "execute_result",
          "data": {
            "text/plain": [
              "<tensorflow.python.keras.callbacks.History at 0x7f7e47a888d0>"
            ]
          },
          "metadata": {
            "tags": []
          },
          "execution_count": 31
        }
      ]
    },
    {
      "cell_type": "markdown",
      "metadata": {
        "id": "jvlyZqAQwekN"
      },
      "source": [
        "# evaluation"
      ]
    },
    {
      "cell_type": "code",
      "metadata": {
        "colab": {
          "base_uri": "https://localhost:8080/"
        },
        "id": "JUKk22bttkf2",
        "outputId": "86b5c46f-0880-4c3d-905e-4decc23b3d7b"
      },
      "source": [
        "model.evaluate(x_train, y_train)"
      ],
      "execution_count": 32,
      "outputs": [
        {
          "output_type": "stream",
          "text": [
            "13/13 [==============================] - 0s 1ms/step - loss: 77.1724 - mae: 6.3004\n"
          ],
          "name": "stdout"
        },
        {
          "output_type": "execute_result",
          "data": {
            "text/plain": [
              "[77.17237854003906, 6.300393104553223]"
            ]
          },
          "metadata": {
            "tags": []
          },
          "execution_count": 32
        }
      ]
    },
    {
      "cell_type": "markdown",
      "metadata": {
        "id": "zckn80PewmNF"
      },
      "source": [
        "# Service"
      ]
    },
    {
      "cell_type": "code",
      "metadata": {
        "colab": {
          "base_uri": "https://localhost:8080/"
        },
        "id": "0YSrvO14wkvM",
        "outputId": "ed1b1755-a361-42ad-dd37-4386eb63d3e2"
      },
      "source": [
        "x_train[10]"
      ],
      "execution_count": 41,
      "outputs": [
        {
          "output_type": "execute_result",
          "data": {
            "text/plain": [
              "array([ 0.63391647, -0.48361547,  1.0283258 , -0.25683275,  1.15788777,\n",
              "        0.19313958,  1.11048828, -1.03628262,  1.67588577,  1.5652875 ,\n",
              "        0.78447637,  0.22689422,  1.04466491])"
            ]
          },
          "metadata": {
            "tags": []
          },
          "execution_count": 41
        }
      ]
    },
    {
      "cell_type": "code",
      "metadata": {
        "colab": {
          "base_uri": "https://localhost:8080/"
        },
        "id": "2uZO4MEkxh-8",
        "outputId": "2b5ffd2e-0e1a-4779-fbce-d381d421ab9a"
      },
      "source": [
        "model.predict([[2.2876e-01, 0.0000e+00, 8.5600e+00, 0.0000e+00, 5.2000e-01,\n",
        "       6.4050e+00, 8.5400e+01, 2.7147e+00, 5.0000e+00, 3.8400e+02,\n",
        "       2.0900e+01, 7.0800e+01, 1.0630e+01]])"
      ],
      "execution_count": 42,
      "outputs": [
        {
          "output_type": "execute_result",
          "data": {
            "text/plain": [
              "array([[14.934409]], dtype=float32)"
            ]
          },
          "metadata": {
            "tags": []
          },
          "execution_count": 42
        }
      ]
    },
    {
      "cell_type": "code",
      "metadata": {
        "colab": {
          "base_uri": "https://localhost:8080/"
        },
        "id": "LS6hxG3LxqIr",
        "outputId": "18101aa3-a5b9-4684-f989-fd0c00d9a6b8"
      },
      "source": [
        "y_train[10]"
      ],
      "execution_count": 43,
      "outputs": [
        {
          "output_type": "execute_result",
          "data": {
            "text/plain": [
              "12.1"
            ]
          },
          "metadata": {
            "tags": []
          },
          "execution_count": 43
        }
      ]
    },
    {
      "cell_type": "code",
      "metadata": {
        "id": "5fJiLy-D6Grr"
      },
      "source": [
        ""
      ],
      "execution_count": null,
      "outputs": []
    }
  ]
}